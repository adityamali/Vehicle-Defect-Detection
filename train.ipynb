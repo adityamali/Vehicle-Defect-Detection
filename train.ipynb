{
 "cells": [
  {
   "cell_type": "code",
   "execution_count": 1,
   "id": "cd65008b-9140-42cb-8d77-cac52afb6179",
   "metadata": {},
   "outputs": [
    {
     "name": "stdout",
     "output_type": "stream",
     "text": [
      "Sun Dec 15 17:52:23 2024       \n",
      "+-----------------------------------------------------------------------------------------+\n",
      "| NVIDIA-SMI 550.120                Driver Version: 550.120        CUDA Version: 12.4     |\n",
      "|-----------------------------------------+------------------------+----------------------+\n",
      "| GPU  Name                 Persistence-M | Bus-Id          Disp.A | Volatile Uncorr. ECC |\n",
      "| Fan  Temp   Perf          Pwr:Usage/Cap |           Memory-Usage | GPU-Util  Compute M. |\n",
      "|                                         |                        |               MIG M. |\n",
      "|=========================================+========================+======================|\n",
      "|   0  NVIDIA GeForce RTX 3060 ...    Off |   00000000:01:00.0 Off |                  N/A |\n",
      "| N/A   45C    P8             22W /   80W |      12MiB /   6144MiB |      0%      Default |\n",
      "|                                         |                        |                  N/A |\n",
      "+-----------------------------------------+------------------------+----------------------+\n",
      "                                                                                         \n",
      "+-----------------------------------------------------------------------------------------+\n",
      "| Processes:                                                                              |\n",
      "|  GPU   GI   CI        PID   Type   Process name                              GPU Memory |\n",
      "|        ID   ID                                                               Usage      |\n",
      "|=========================================================================================|\n",
      "|    0   N/A  N/A      2374      G   /usr/lib/xorg/Xorg                              4MiB |\n",
      "+-----------------------------------------------------------------------------------------+\n"
     ]
    }
   ],
   "source": [
    "!nvidia-smi"
   ]
  },
  {
   "cell_type": "code",
   "execution_count": 2,
   "id": "10f60fb1-68aa-446d-a8d5-d1254886042c",
   "metadata": {},
   "outputs": [],
   "source": [
    "import torch\n",
    "import torch.nn as nn"
   ]
  },
  {
   "cell_type": "code",
   "execution_count": 3,
   "id": "08a93804-1f51-4e26-8f7e-c76b2a0a80a2",
   "metadata": {},
   "outputs": [
    {
     "data": {
      "text/plain": [
       "True"
      ]
     },
     "execution_count": 3,
     "metadata": {},
     "output_type": "execute_result"
    }
   ],
   "source": [
    "torch.cuda.is_available()"
   ]
  },
  {
   "cell_type": "code",
   "execution_count": 4,
   "id": "13a8a347-a96f-400b-82dd-5259b90fd1a6",
   "metadata": {},
   "outputs": [
    {
     "data": {
      "text/plain": [
       "0"
      ]
     },
     "execution_count": 4,
     "metadata": {},
     "output_type": "execute_result"
    }
   ],
   "source": [
    "torch.cuda.current_device()"
   ]
  },
  {
   "cell_type": "code",
   "execution_count": 5,
   "id": "163a5aa6-b26b-4bfc-a8d0-04b86b2d6b23",
   "metadata": {},
   "outputs": [
    {
     "data": {
      "text/plain": [
       "'NVIDIA GeForce RTX 3060 Laptop GPU'"
      ]
     },
     "execution_count": 5,
     "metadata": {},
     "output_type": "execute_result"
    }
   ],
   "source": [
    "torch.cuda.get_device_name(0)"
   ]
  },
  {
   "cell_type": "code",
   "execution_count": 6,
   "id": "2e9d37da-7d73-4a28-888a-a78880b6bc04",
   "metadata": {},
   "outputs": [],
   "source": [
    "from ultralytics import YOLO"
   ]
  },
  {
   "cell_type": "code",
   "execution_count": 7,
   "id": "81db0978-9044-4d69-bb08-a806e74f50a9",
   "metadata": {},
   "outputs": [],
   "source": [
    "# # class ChannelAttention(nn.Module):\n",
    "# #     def __init__(self, in_channels, reduction_ratio=16):\n",
    "# #         super(ChannelAttention, self)._init_()\n",
    "# #         self.avg_pool = nn.AdaptiveAvgPool2d(1)\n",
    "# #         self.max_pool = nn.AdaptiveMaxPool2d(1)\n",
    "        \n",
    "# #         self.fc = nn.Sequential(\n",
    "# #             nn.Conv2d(in_channels, in_channels // reduction_ratio, 1, bias=False),\n",
    "# #             nn.ReLU(inplace=True),\n",
    "# #             nn.Conv2d(in_channels // reduction_ratio, in_channels, 1, bias=False)\n",
    "# #         )\n",
    "# #         self.sigmoid = nn.Sigmoid()\n",
    "\n",
    "# import math\n",
    "\n",
    "# class ChannelAttention(nn.Module):\n",
    "#     def __init__(self, in_channels, reduction_ratio=16):\n",
    "#         super(ChannelAttention, self).__init__()\n",
    "#         reduced_channels = max(1, in_channels // reduction_ratio)  # Ensure at least 1 channel\n",
    "#         self.avg_pool = nn.AdaptiveAvgPool2d(1)\n",
    "#         self.max_pool = nn.AdaptiveMaxPool2d(1)\n",
    "        \n",
    "#         self.fc = nn.Sequential(\n",
    "#             nn.Conv2d(in_channels, reduced_channels, 1, bias=False),\n",
    "#             nn.ReLU(inplace=True),\n",
    "#             nn.Conv2d(reduced_channels, in_channels, 1, bias=False)\n",
    "#         )\n",
    "#         self.sigmoid = nn.Sigmoid()\n",
    "\n",
    "\n",
    "#     def forward(self, x):\n",
    "#         avg_out = self.fc(self.avg_pool(x))\n",
    "#         max_out = self.fc(self.max_pool(x))\n",
    "#         out = avg_out + max_out\n",
    "#         return self.sigmoid(out) * x\n",
    "\n",
    "# class SpatialAttention(nn.Module):\n",
    "#     def __init__(self, kernel_size=7):\n",
    "#         super(SpatialAttention, self)._init_()\n",
    "#         assert kernel_size in (3, 7), 'kernel size must be 3 or 7'\n",
    "#         padding = 3 if kernel_size == 7 else 1\n",
    "        \n",
    "#         self.conv = nn.Conv2d(2, 1, kernel_size, padding=padding, bias=False)\n",
    "#         self.sigmoid = nn.Sigmoid()\n",
    "\n",
    "#     def forward(self, x):\n",
    "#         avg_out = torch.mean(x, dim=1, keepdim=True)\n",
    "#         max_out, _ = torch.max(x, dim=1, keepdim=True)\n",
    "#         x_concat = torch.cat([avg_out, max_out], dim=1)\n",
    "#         spatial_att = self.conv(x_concat)\n",
    "#         return self.sigmoid(spatial_att) * x\n",
    "\n",
    "# class CBAM(nn.Module):\n",
    "#     def __init__(self, in_channels, reduction_ratio=16, kernel_size=7):\n",
    "#         super(CBAM, self)._init_()\n",
    "#         self.channel_attention = ChannelAttention(in_channels, reduction_ratio)\n",
    "#         self.spatial_attention = SpatialAttention(kernel_size)\n",
    "\n",
    "#     def forward(self, x):\n",
    "#         x = self.channel_attention(x)\n",
    "#         x = self.spatial_attention(x)\n",
    "#         return x\n",
    "\n",
    "# # def modify_yolo_backbone(model):\n",
    "# #     \"\"\"\n",
    "# #     Modify YOLO model to integrate CBAM attention modules\n",
    "    \n",
    "# #     Args:\n",
    "# #         model (ultralytics.nn.tasks.YOLOModel): Original YOLO model\n",
    "    \n",
    "# #     Returns:\n",
    "# #         Modified YOLO model with CBAM attention\n",
    "# #     \"\"\"\n",
    "# #     # Iterate through backbone layers\n",
    "# #     for name, module in model.model.named_children():\n",
    "# #         if isinstance(module, nn.Sequential):\n",
    "# #             for block_name, block in module.named_children():\n",
    "# #                 # Example: Add CBAM after specific convolutional layers\n",
    "# #                 if isinstance(block, nn.Conv2d):\n",
    "# #                     # Insert CBAM module after the convolution\n",
    "# #                     cbam = CBAM(block.out_channels)\n",
    "# #                     module.add_module(f'cbam_{block_name}', cbam)\n",
    "# #                     print(\"Module added\")\n",
    "# #                 else:\n",
    "# #                     print(\"NOOOOOOOO\")\n",
    "# #     return model\n",
    "\n",
    "# def modify_yolo_backbone(model):\n",
    "#     \"\"\"\n",
    "#     Modify YOLO model to integrate CBAM attention modules\n",
    "    \n",
    "#     Args:\n",
    "#         model (ultralytics.nn.tasks.YOLOModel): Original YOLO model\n",
    "    \n",
    "#     Returns:\n",
    "#         Modified YOLO model with CBAM attention\n",
    "#     \"\"\"\n",
    "#     for name, module in model.model.named_modules():\n",
    "#         if isinstance(module, nn.Conv2d):\n",
    "#             # Replace the Conv2d with a new sequential block with CBAM\n",
    "#             cbam = CBAM(module.out_channels)\n",
    "#             # Wrap the Conv2d and CBAM into an nn.Sequential\n",
    "#             new_block = nn.Sequential(\n",
    "#                 module,\n",
    "#                 cbam\n",
    "#             )\n",
    "#             # Update the parent module to use the new block\n",
    "#             parent_name = \".\".join(name.split(\".\")[:-1])\n",
    "#             if parent_name == \"\":\n",
    "#                 setattr(model.model, name, new_block)\n",
    "#             else:\n",
    "#                 parent_module = dict(model.model.named_modules())[parent_name]\n",
    "#                 setattr(parent_module, name.split(\".\")[-1], new_block)\n",
    "#             print(f\"Replaced {name} with Conv2d + CBAM block\")\n",
    "#     return model\n",
    "\n",
    "\n",
    "import torch\n",
    "import torch.nn as nn\n",
    "import math\n",
    "class ChannelAttention(nn.Module):\n",
    "    def __init__(self, in_channels, reduction_ratio=16):\n",
    "        super(ChannelAttention, self).__init__()\n",
    "        reduced_channels = max(1, in_channels // reduction_ratio)\n",
    "        self.avg_pool = nn.AdaptiveAvgPool2d(1)\n",
    "        self.max_pool = nn.AdaptiveMaxPool2d(1)\n",
    "        self.fc = nn.Sequential(\n",
    "            nn.Conv2d(in_channels, reduced_channels, 1, bias=False),\n",
    "            nn.ReLU(inplace=True),\n",
    "            nn.Conv2d(reduced_channels, in_channels, 1, bias=False)\n",
    "        )\n",
    "        self.sigmoid = nn.Sigmoid()\n",
    "\n",
    "    def forward(self, x):\n",
    "        avg_out = self.fc(self.avg_pool(x))\n",
    "        max_out = self.fc(self.max_pool(x))\n",
    "        out = avg_out + max_out\n",
    "        return self.sigmoid(out) * x\n",
    "\n",
    "class SpatialAttention(nn.Module):\n",
    "    def __init__(self, kernel_size=7):\n",
    "        super(SpatialAttention, self).__init__()\n",
    "        assert kernel_size in (3, 7), 'kernel size must be 3 or 7'\n",
    "        padding = 3 if kernel_size == 7 else 1\n",
    "        self.conv = nn.Conv2d(2, 1, kernel_size, padding=padding, bias=False)\n",
    "        self.sigmoid = nn.Sigmoid()\n",
    "\n",
    "    def forward(self, x):\n",
    "        avg_out = torch.mean(x, dim=1, keepdim=True)\n",
    "        max_out, _ = torch.max(x, dim=1, keepdim=True)\n",
    "        x_concat = torch.cat([avg_out, max_out], dim=1)\n",
    "        spatial_att = self.conv(x_concat)\n",
    "        return self.sigmoid(spatial_att) * x\n",
    "\n",
    "class CBAM(nn.Module):\n",
    "    def __init__(self, in_channels, reduction_ratio=16, kernel_size=7):\n",
    "        super(CBAM, self).__init__()\n",
    "        self.channel_attention = ChannelAttention(in_channels, reduction_ratio)\n",
    "        self.spatial_attention = SpatialAttention(kernel_size)\n",
    "\n",
    "    def forward(self, x):\n",
    "        x = self.channel_attention(x)\n",
    "        x = self.spatial_attention(x)\n",
    "        return x\n",
    "\n",
    "def modify_yolo_backbone(model):\n",
    "    for name, module in model.model.named_modules():\n",
    "        if isinstance(module, nn.Conv2d):\n",
    "            cbam = CBAM(module.out_channels)\n",
    "            new_block = nn.Sequential(module, cbam)\n",
    "            parent_name = \".\".join(name.split(\".\")[:-1])\n",
    "            if parent_name == \"\":\n",
    "                setattr(model.model, name, new_block)\n",
    "            else:\n",
    "                parent_module = dict(model.model.named_modules())[parent_name]\n",
    "                setattr(parent_module, name.split(\".\")[-1], new_block)\n",
    "            print(f\"Replaced {name} with CBAM block\")\n",
    "    return model\n"
   ]
  },
  {
   "cell_type": "code",
   "execution_count": 8,
   "id": "6d960aa2-eb1d-4cfa-9c66-feb97523f9d0",
   "metadata": {},
   "outputs": [],
   "source": [
    "model = YOLO(\"yolo11m.pt\")"
   ]
  },
  {
   "cell_type": "code",
   "execution_count": 9,
   "id": "cf3a1bee-f4b8-4265-8969-dc68b9fe8cc2",
   "metadata": {},
   "outputs": [
    {
     "name": "stdout",
     "output_type": "stream",
     "text": [
      "Replaced model.0.conv with CBAM block\n",
      "Replaced model.1.conv with CBAM block\n",
      "Replaced model.2.cv1.conv with CBAM block\n",
      "Replaced model.2.cv2.conv with CBAM block\n",
      "Replaced model.2.m.0.cv1.conv with CBAM block\n",
      "Replaced model.2.m.0.cv2.conv with CBAM block\n",
      "Replaced model.2.m.0.cv3.conv with CBAM block\n",
      "Replaced model.2.m.0.m.0.cv1.conv with CBAM block\n",
      "Replaced model.2.m.0.m.0.cv2.conv with CBAM block\n",
      "Replaced model.2.m.0.m.1.cv1.conv with CBAM block\n",
      "Replaced model.2.m.0.m.1.cv2.conv with CBAM block\n",
      "Replaced model.3.conv with CBAM block\n",
      "Replaced model.4.cv1.conv with CBAM block\n",
      "Replaced model.4.cv2.conv with CBAM block\n",
      "Replaced model.4.m.0.cv1.conv with CBAM block\n",
      "Replaced model.4.m.0.cv2.conv with CBAM block\n",
      "Replaced model.4.m.0.cv3.conv with CBAM block\n",
      "Replaced model.4.m.0.m.0.cv1.conv with CBAM block\n",
      "Replaced model.4.m.0.m.0.cv2.conv with CBAM block\n",
      "Replaced model.4.m.0.m.1.cv1.conv with CBAM block\n",
      "Replaced model.4.m.0.m.1.cv2.conv with CBAM block\n",
      "Replaced model.5.conv with CBAM block\n",
      "Replaced model.6.cv1.conv with CBAM block\n",
      "Replaced model.6.cv2.conv with CBAM block\n",
      "Replaced model.6.m.0.cv1.conv with CBAM block\n",
      "Replaced model.6.m.0.cv2.conv with CBAM block\n",
      "Replaced model.6.m.0.cv3.conv with CBAM block\n",
      "Replaced model.6.m.0.m.0.cv1.conv with CBAM block\n",
      "Replaced model.6.m.0.m.0.cv2.conv with CBAM block\n",
      "Replaced model.6.m.0.m.1.cv1.conv with CBAM block\n",
      "Replaced model.6.m.0.m.1.cv2.conv with CBAM block\n",
      "Replaced model.7.conv with CBAM block\n",
      "Replaced model.8.cv1.conv with CBAM block\n",
      "Replaced model.8.cv2.conv with CBAM block\n",
      "Replaced model.8.m.0.cv1.conv with CBAM block\n",
      "Replaced model.8.m.0.cv2.conv with CBAM block\n",
      "Replaced model.8.m.0.cv3.conv with CBAM block\n",
      "Replaced model.8.m.0.m.0.cv1.conv with CBAM block\n",
      "Replaced model.8.m.0.m.0.cv2.conv with CBAM block\n",
      "Replaced model.8.m.0.m.1.cv1.conv with CBAM block\n",
      "Replaced model.8.m.0.m.1.cv2.conv with CBAM block\n",
      "Replaced model.9.cv1.conv with CBAM block\n",
      "Replaced model.9.cv2.conv with CBAM block\n",
      "Replaced model.10.cv1.conv with CBAM block\n",
      "Replaced model.10.cv2.conv with CBAM block\n",
      "Replaced model.10.m.0.attn.qkv.conv with CBAM block\n",
      "Replaced model.10.m.0.attn.proj.conv with CBAM block\n",
      "Replaced model.10.m.0.attn.pe.conv with CBAM block\n",
      "Replaced model.10.m.0.ffn.0.conv with CBAM block\n",
      "Replaced model.10.m.0.ffn.1.conv with CBAM block\n",
      "Replaced model.13.cv1.conv with CBAM block\n",
      "Replaced model.13.cv2.conv with CBAM block\n",
      "Replaced model.13.m.0.cv1.conv with CBAM block\n",
      "Replaced model.13.m.0.cv2.conv with CBAM block\n",
      "Replaced model.13.m.0.cv3.conv with CBAM block\n",
      "Replaced model.13.m.0.m.0.cv1.conv with CBAM block\n",
      "Replaced model.13.m.0.m.0.cv2.conv with CBAM block\n",
      "Replaced model.13.m.0.m.1.cv1.conv with CBAM block\n",
      "Replaced model.13.m.0.m.1.cv2.conv with CBAM block\n",
      "Replaced model.16.cv1.conv with CBAM block\n",
      "Replaced model.16.cv2.conv with CBAM block\n",
      "Replaced model.16.m.0.cv1.conv with CBAM block\n",
      "Replaced model.16.m.0.cv2.conv with CBAM block\n",
      "Replaced model.16.m.0.cv3.conv with CBAM block\n",
      "Replaced model.16.m.0.m.0.cv1.conv with CBAM block\n",
      "Replaced model.16.m.0.m.0.cv2.conv with CBAM block\n",
      "Replaced model.16.m.0.m.1.cv1.conv with CBAM block\n",
      "Replaced model.16.m.0.m.1.cv2.conv with CBAM block\n",
      "Replaced model.17.conv with CBAM block\n",
      "Replaced model.19.cv1.conv with CBAM block\n",
      "Replaced model.19.cv2.conv with CBAM block\n",
      "Replaced model.19.m.0.cv1.conv with CBAM block\n",
      "Replaced model.19.m.0.cv2.conv with CBAM block\n",
      "Replaced model.19.m.0.cv3.conv with CBAM block\n",
      "Replaced model.19.m.0.m.0.cv1.conv with CBAM block\n",
      "Replaced model.19.m.0.m.0.cv2.conv with CBAM block\n",
      "Replaced model.19.m.0.m.1.cv1.conv with CBAM block\n",
      "Replaced model.19.m.0.m.1.cv2.conv with CBAM block\n",
      "Replaced model.20.conv with CBAM block\n",
      "Replaced model.22.cv1.conv with CBAM block\n",
      "Replaced model.22.cv2.conv with CBAM block\n",
      "Replaced model.22.m.0.cv1.conv with CBAM block\n",
      "Replaced model.22.m.0.cv2.conv with CBAM block\n",
      "Replaced model.22.m.0.cv3.conv with CBAM block\n",
      "Replaced model.22.m.0.m.0.cv1.conv with CBAM block\n",
      "Replaced model.22.m.0.m.0.cv2.conv with CBAM block\n",
      "Replaced model.22.m.0.m.1.cv1.conv with CBAM block\n",
      "Replaced model.22.m.0.m.1.cv2.conv with CBAM block\n",
      "Replaced model.23.cv2.0.0.conv with CBAM block\n",
      "Replaced model.23.cv2.0.1.conv with CBAM block\n",
      "Replaced model.23.cv2.0.2 with CBAM block\n",
      "Replaced model.23.cv2.1.0.conv with CBAM block\n",
      "Replaced model.23.cv2.1.1.conv with CBAM block\n",
      "Replaced model.23.cv2.1.2 with CBAM block\n",
      "Replaced model.23.cv2.2.0.conv with CBAM block\n",
      "Replaced model.23.cv2.2.1.conv with CBAM block\n",
      "Replaced model.23.cv2.2.2 with CBAM block\n",
      "Replaced model.23.cv3.0.0.0.conv with CBAM block\n",
      "Replaced model.23.cv3.0.0.1.conv with CBAM block\n",
      "Replaced model.23.cv3.0.1.0.conv with CBAM block\n",
      "Replaced model.23.cv3.0.1.1.conv with CBAM block\n",
      "Replaced model.23.cv3.0.2 with CBAM block\n",
      "Replaced model.23.cv3.1.0.0.conv with CBAM block\n",
      "Replaced model.23.cv3.1.0.1.conv with CBAM block\n",
      "Replaced model.23.cv3.1.1.0.conv with CBAM block\n",
      "Replaced model.23.cv3.1.1.1.conv with CBAM block\n",
      "Replaced model.23.cv3.1.2 with CBAM block\n",
      "Replaced model.23.cv3.2.0.0.conv with CBAM block\n",
      "Replaced model.23.cv3.2.0.1.conv with CBAM block\n",
      "Replaced model.23.cv3.2.1.0.conv with CBAM block\n",
      "Replaced model.23.cv3.2.1.1.conv with CBAM block\n",
      "Replaced model.23.cv3.2.2 with CBAM block\n",
      "Replaced model.23.dfl.conv with CBAM block\n"
     ]
    }
   ],
   "source": [
    "enhanced_model = modify_yolo_backbone(model)"
   ]
  },
  {
   "cell_type": "code",
   "execution_count": 10,
   "id": "91df1dfb-e08c-4b0d-9809-27f77bf18c08",
   "metadata": {},
   "outputs": [
    {
     "name": "stdout",
     "output_type": "stream",
     "text": [
      "YOLO(\n",
      "  (model): DetectionModel(\n",
      "    (model): Sequential(\n",
      "      (0): Conv(\n",
      "        (conv): Sequential(\n",
      "          (0): Conv2d(3, 64, kernel_size=(3, 3), stride=(2, 2), padding=(1, 1), bias=False)\n",
      "          (1): CBAM(\n",
      "            (channel_attention): ChannelAttention(\n",
      "              (avg_pool): AdaptiveAvgPool2d(output_size=1)\n",
      "              (max_pool): AdaptiveMaxPool2d(output_size=1)\n",
      "              (fc): Sequential(\n",
      "                (0): Conv2d(64, 4, kernel_size=(1, 1), stride=(1, 1), bias=False)\n",
      "                (1): ReLU(inplace=True)\n",
      "                (2): Conv2d(4, 64, kernel_size=(1, 1), stride=(1, 1), bias=False)\n",
      "              )\n",
      "              (sigmoid): Sigmoid()\n",
      "            )\n",
      "            (spatial_attention): SpatialAttention(\n",
      "              (conv): Conv2d(2, 1, kernel_size=(7, 7), stride=(1, 1), padding=(3, 3), bias=False)\n",
      "              (sigmoid): Sigmoid()\n",
      "            )\n",
      "          )\n",
      "        )\n",
      "        (bn): BatchNorm2d(64, eps=0.001, momentum=0.03, affine=True, track_running_stats=True)\n",
      "        (act): SiLU(inplace=True)\n",
      "      )\n",
      "      (1): Conv(\n",
      "        (conv): Sequential(\n",
      "          (0): Conv2d(64, 128, kernel_size=(3, 3), stride=(2, 2), padding=(1, 1), bias=False)\n",
      "          (1): CBAM(\n",
      "            (channel_attention): ChannelAttention(\n",
      "              (avg_pool): AdaptiveAvgPool2d(output_size=1)\n",
      "              (max_pool): AdaptiveMaxPool2d(output_size=1)\n",
      "              (fc): Sequential(\n",
      "                (0): Conv2d(128, 8, kernel_size=(1, 1), stride=(1, 1), bias=False)\n",
      "                (1): ReLU(inplace=True)\n",
      "                (2): Conv2d(8, 128, kernel_size=(1, 1), stride=(1, 1), bias=False)\n",
      "              )\n",
      "              (sigmoid): Sigmoid()\n",
      "            )\n",
      "            (spatial_attention): SpatialAttention(\n",
      "              (conv): Conv2d(2, 1, kernel_size=(7, 7), stride=(1, 1), padding=(3, 3), bias=False)\n",
      "              (sigmoid): Sigmoid()\n",
      "            )\n",
      "          )\n",
      "        )\n",
      "        (bn): BatchNorm2d(128, eps=0.001, momentum=0.03, affine=True, track_running_stats=True)\n",
      "        (act): SiLU(inplace=True)\n",
      "      )\n",
      "      (2): C3k2(\n",
      "        (cv1): Conv(\n",
      "          (conv): Sequential(\n",
      "            (0): Conv2d(128, 128, kernel_size=(1, 1), stride=(1, 1), bias=False)\n",
      "            (1): CBAM(\n",
      "              (channel_attention): ChannelAttention(\n",
      "                (avg_pool): AdaptiveAvgPool2d(output_size=1)\n",
      "                (max_pool): AdaptiveMaxPool2d(output_size=1)\n",
      "                (fc): Sequential(\n",
      "                  (0): Conv2d(128, 8, kernel_size=(1, 1), stride=(1, 1), bias=False)\n",
      "                  (1): ReLU(inplace=True)\n",
      "                  (2): Conv2d(8, 128, kernel_size=(1, 1), stride=(1, 1), bias=False)\n",
      "                )\n",
      "                (sigmoid): Sigmoid()\n",
      "              )\n",
      "              (spatial_attention): SpatialAttention(\n",
      "                (conv): Conv2d(2, 1, kernel_size=(7, 7), stride=(1, 1), padding=(3, 3), bias=False)\n",
      "                (sigmoid): Sigmoid()\n",
      "              )\n",
      "            )\n",
      "          )\n",
      "          (bn): BatchNorm2d(128, eps=0.001, momentum=0.03, affine=True, track_running_stats=True)\n",
      "          (act): SiLU(inplace=True)\n",
      "        )\n",
      "        (cv2): Conv(\n",
      "          (conv): Sequential(\n",
      "            (0): Conv2d(192, 256, kernel_size=(1, 1), stride=(1, 1), bias=False)\n",
      "            (1): CBAM(\n",
      "              (channel_attention): ChannelAttention(\n",
      "                (avg_pool): AdaptiveAvgPool2d(output_size=1)\n",
      "                (max_pool): AdaptiveMaxPool2d(output_size=1)\n",
      "                (fc): Sequential(\n",
      "                  (0): Conv2d(256, 16, kernel_size=(1, 1), stride=(1, 1), bias=False)\n",
      "                  (1): ReLU(inplace=True)\n",
      "                  (2): Conv2d(16, 256, kernel_size=(1, 1), stride=(1, 1), bias=False)\n",
      "                )\n",
      "                (sigmoid): Sigmoid()\n",
      "              )\n",
      "              (spatial_attention): SpatialAttention(\n",
      "                (conv): Conv2d(2, 1, kernel_size=(7, 7), stride=(1, 1), padding=(3, 3), bias=False)\n",
      "                (sigmoid): Sigmoid()\n",
      "              )\n",
      "            )\n",
      "          )\n",
      "          (bn): BatchNorm2d(256, eps=0.001, momentum=0.03, affine=True, track_running_stats=True)\n",
      "          (act): SiLU(inplace=True)\n",
      "        )\n",
      "        (m): ModuleList(\n",
      "          (0): C3k(\n",
      "            (cv1): Conv(\n",
      "              (conv): Sequential(\n",
      "                (0): Conv2d(64, 32, kernel_size=(1, 1), stride=(1, 1), bias=False)\n",
      "                (1): CBAM(\n",
      "                  (channel_attention): ChannelAttention(\n",
      "                    (avg_pool): AdaptiveAvgPool2d(output_size=1)\n",
      "                    (max_pool): AdaptiveMaxPool2d(output_size=1)\n",
      "                    (fc): Sequential(\n",
      "                      (0): Conv2d(32, 2, kernel_size=(1, 1), stride=(1, 1), bias=False)\n",
      "                      (1): ReLU(inplace=True)\n",
      "                      (2): Conv2d(2, 32, kernel_size=(1, 1), stride=(1, 1), bias=False)\n",
      "                    )\n",
      "                    (sigmoid): Sigmoid()\n",
      "                  )\n",
      "                  (spatial_attention): SpatialAttention(\n",
      "                    (conv): Conv2d(2, 1, kernel_size=(7, 7), stride=(1, 1), padding=(3, 3), bias=False)\n",
      "                    (sigmoid): Sigmoid()\n",
      "                  )\n",
      "                )\n",
      "              )\n",
      "              (bn): BatchNorm2d(32, eps=0.001, momentum=0.03, affine=True, track_running_stats=True)\n",
      "              (act): SiLU(inplace=True)\n",
      "            )\n",
      "            (cv2): Conv(\n",
      "              (conv): Sequential(\n",
      "                (0): Conv2d(64, 32, kernel_size=(1, 1), stride=(1, 1), bias=False)\n",
      "                (1): CBAM(\n",
      "                  (channel_attention): ChannelAttention(\n",
      "                    (avg_pool): AdaptiveAvgPool2d(output_size=1)\n",
      "                    (max_pool): AdaptiveMaxPool2d(output_size=1)\n",
      "                    (fc): Sequential(\n",
      "                      (0): Conv2d(32, 2, kernel_size=(1, 1), stride=(1, 1), bias=False)\n",
      "                      (1): ReLU(inplace=True)\n",
      "                      (2): Conv2d(2, 32, kernel_size=(1, 1), stride=(1, 1), bias=False)\n",
      "                    )\n",
      "                    (sigmoid): Sigmoid()\n",
      "                  )\n",
      "                  (spatial_attention): SpatialAttention(\n",
      "                    (conv): Conv2d(2, 1, kernel_size=(7, 7), stride=(1, 1), padding=(3, 3), bias=False)\n",
      "                    (sigmoid): Sigmoid()\n",
      "                  )\n",
      "                )\n",
      "              )\n",
      "              (bn): BatchNorm2d(32, eps=0.001, momentum=0.03, affine=True, track_running_stats=True)\n",
      "              (act): SiLU(inplace=True)\n",
      "            )\n",
      "            (cv3): Conv(\n",
      "              (conv): Sequential(\n",
      "                (0): Conv2d(64, 64, kernel_size=(1, 1), stride=(1, 1), bias=False)\n",
      "                (1): CBAM(\n",
      "                  (channel_attention): ChannelAttention(\n",
      "                    (avg_pool): AdaptiveAvgPool2d(output_size=1)\n",
      "                    (max_pool): AdaptiveMaxPool2d(output_size=1)\n",
      "                    (fc): Sequential(\n",
      "                      (0): Conv2d(64, 4, kernel_size=(1, 1), stride=(1, 1), bias=False)\n",
      "                      (1): ReLU(inplace=True)\n",
      "                      (2): Conv2d(4, 64, kernel_size=(1, 1), stride=(1, 1), bias=False)\n",
      "                    )\n",
      "                    (sigmoid): Sigmoid()\n",
      "                  )\n",
      "                  (spatial_attention): SpatialAttention(\n",
      "                    (conv): Conv2d(2, 1, kernel_size=(7, 7), stride=(1, 1), padding=(3, 3), bias=False)\n",
      "                    (sigmoid): Sigmoid()\n",
      "                  )\n",
      "                )\n",
      "              )\n",
      "              (bn): BatchNorm2d(64, eps=0.001, momentum=0.03, affine=True, track_running_stats=True)\n",
      "              (act): SiLU(inplace=True)\n",
      "            )\n",
      "            (m): Sequential(\n",
      "              (0): Bottleneck(\n",
      "                (cv1): Conv(\n",
      "                  (conv): Sequential(\n",
      "                    (0): Conv2d(32, 32, kernel_size=(3, 3), stride=(1, 1), padding=(1, 1), bias=False)\n",
      "                    (1): CBAM(\n",
      "                      (channel_attention): ChannelAttention(\n",
      "                        (avg_pool): AdaptiveAvgPool2d(output_size=1)\n",
      "                        (max_pool): AdaptiveMaxPool2d(output_size=1)\n",
      "                        (fc): Sequential(\n",
      "                          (0): Conv2d(32, 2, kernel_size=(1, 1), stride=(1, 1), bias=False)\n",
      "                          (1): ReLU(inplace=True)\n",
      "                          (2): Conv2d(2, 32, kernel_size=(1, 1), stride=(1, 1), bias=False)\n",
      "                        )\n",
      "                        (sigmoid): Sigmoid()\n",
      "                      )\n",
      "                      (spatial_attention): SpatialAttention(\n",
      "                        (conv): Conv2d(2, 1, kernel_size=(7, 7), stride=(1, 1), padding=(3, 3), bias=False)\n",
      "                        (sigmoid): Sigmoid()\n",
      "                      )\n",
      "                    )\n",
      "                  )\n",
      "                  (bn): BatchNorm2d(32, eps=0.001, momentum=0.03, affine=True, track_running_stats=True)\n",
      "                  (act): SiLU(inplace=True)\n",
      "                )\n",
      "                (cv2): Conv(\n",
      "                  (conv): Sequential(\n",
      "                    (0): Conv2d(32, 32, kernel_size=(3, 3), stride=(1, 1), padding=(1, 1), bias=False)\n",
      "                    (1): CBAM(\n",
      "                      (channel_attention): ChannelAttention(\n",
      "                        (avg_pool): AdaptiveAvgPool2d(output_size=1)\n",
      "                        (max_pool): AdaptiveMaxPool2d(output_size=1)\n",
      "                        (fc): Sequential(\n",
      "                          (0): Conv2d(32, 2, kernel_size=(1, 1), stride=(1, 1), bias=False)\n",
      "                          (1): ReLU(inplace=True)\n",
      "                          (2): Conv2d(2, 32, kernel_size=(1, 1), stride=(1, 1), bias=False)\n",
      "                        )\n",
      "                        (sigmoid): Sigmoid()\n",
      "                      )\n",
      "                      (spatial_attention): SpatialAttention(\n",
      "                        (conv): Conv2d(2, 1, kernel_size=(7, 7), stride=(1, 1), padding=(3, 3), bias=False)\n",
      "                        (sigmoid): Sigmoid()\n",
      "                      )\n",
      "                    )\n",
      "                  )\n",
      "                  (bn): BatchNorm2d(32, eps=0.001, momentum=0.03, affine=True, track_running_stats=True)\n",
      "                  (act): SiLU(inplace=True)\n",
      "                )\n",
      "              )\n",
      "              (1): Bottleneck(\n",
      "                (cv1): Conv(\n",
      "                  (conv): Sequential(\n",
      "                    (0): Conv2d(32, 32, kernel_size=(3, 3), stride=(1, 1), padding=(1, 1), bias=False)\n",
      "                    (1): CBAM(\n",
      "                      (channel_attention): ChannelAttention(\n",
      "                        (avg_pool): AdaptiveAvgPool2d(output_size=1)\n",
      "                        (max_pool): AdaptiveMaxPool2d(output_size=1)\n",
      "                        (fc): Sequential(\n",
      "                          (0): Conv2d(32, 2, kernel_size=(1, 1), stride=(1, 1), bias=False)\n",
      "                          (1): ReLU(inplace=True)\n",
      "                          (2): Conv2d(2, 32, kernel_size=(1, 1), stride=(1, 1), bias=False)\n",
      "                        )\n",
      "                        (sigmoid): Sigmoid()\n",
      "                      )\n",
      "                      (spatial_attention): SpatialAttention(\n",
      "                        (conv): Conv2d(2, 1, kernel_size=(7, 7), stride=(1, 1), padding=(3, 3), bias=False)\n",
      "                        (sigmoid): Sigmoid()\n",
      "                      )\n",
      "                    )\n",
      "                  )\n",
      "                  (bn): BatchNorm2d(32, eps=0.001, momentum=0.03, affine=True, track_running_stats=True)\n",
      "                  (act): SiLU(inplace=True)\n",
      "                )\n",
      "                (cv2): Conv(\n",
      "                  (conv): Sequential(\n",
      "                    (0): Conv2d(32, 32, kernel_size=(3, 3), stride=(1, 1), padding=(1, 1), bias=False)\n",
      "                    (1): CBAM(\n",
      "                      (channel_attention): ChannelAttention(\n",
      "                        (avg_pool): AdaptiveAvgPool2d(output_size=1)\n",
      "                        (max_pool): AdaptiveMaxPool2d(output_size=1)\n",
      "                        (fc): Sequential(\n",
      "                          (0): Conv2d(32, 2, kernel_size=(1, 1), stride=(1, 1), bias=False)\n",
      "                          (1): ReLU(inplace=True)\n",
      "                          (2): Conv2d(2, 32, kernel_size=(1, 1), stride=(1, 1), bias=False)\n",
      "                        )\n",
      "                        (sigmoid): Sigmoid()\n",
      "                      )\n",
      "                      (spatial_attention): SpatialAttention(\n",
      "                        (conv): Conv2d(2, 1, kernel_size=(7, 7), stride=(1, 1), padding=(3, 3), bias=False)\n",
      "                        (sigmoid): Sigmoid()\n",
      "                      )\n",
      "                    )\n",
      "                  )\n",
      "                  (bn): BatchNorm2d(32, eps=0.001, momentum=0.03, affine=True, track_running_stats=True)\n",
      "                  (act): SiLU(inplace=True)\n",
      "                )\n",
      "              )\n",
      "            )\n",
      "          )\n",
      "        )\n",
      "      )\n",
      "      (3): Conv(\n",
      "        (conv): Sequential(\n",
      "          (0): Conv2d(256, 256, kernel_size=(3, 3), stride=(2, 2), padding=(1, 1), bias=False)\n",
      "          (1): CBAM(\n",
      "            (channel_attention): ChannelAttention(\n",
      "              (avg_pool): AdaptiveAvgPool2d(output_size=1)\n",
      "              (max_pool): AdaptiveMaxPool2d(output_size=1)\n",
      "              (fc): Sequential(\n",
      "                (0): Conv2d(256, 16, kernel_size=(1, 1), stride=(1, 1), bias=False)\n",
      "                (1): ReLU(inplace=True)\n",
      "                (2): Conv2d(16, 256, kernel_size=(1, 1), stride=(1, 1), bias=False)\n",
      "              )\n",
      "              (sigmoid): Sigmoid()\n",
      "            )\n",
      "            (spatial_attention): SpatialAttention(\n",
      "              (conv): Conv2d(2, 1, kernel_size=(7, 7), stride=(1, 1), padding=(3, 3), bias=False)\n",
      "              (sigmoid): Sigmoid()\n",
      "            )\n",
      "          )\n",
      "        )\n",
      "        (bn): BatchNorm2d(256, eps=0.001, momentum=0.03, affine=True, track_running_stats=True)\n",
      "        (act): SiLU(inplace=True)\n",
      "      )\n",
      "      (4): C3k2(\n",
      "        (cv1): Conv(\n",
      "          (conv): Sequential(\n",
      "            (0): Conv2d(256, 256, kernel_size=(1, 1), stride=(1, 1), bias=False)\n",
      "            (1): CBAM(\n",
      "              (channel_attention): ChannelAttention(\n",
      "                (avg_pool): AdaptiveAvgPool2d(output_size=1)\n",
      "                (max_pool): AdaptiveMaxPool2d(output_size=1)\n",
      "                (fc): Sequential(\n",
      "                  (0): Conv2d(256, 16, kernel_size=(1, 1), stride=(1, 1), bias=False)\n",
      "                  (1): ReLU(inplace=True)\n",
      "                  (2): Conv2d(16, 256, kernel_size=(1, 1), stride=(1, 1), bias=False)\n",
      "                )\n",
      "                (sigmoid): Sigmoid()\n",
      "              )\n",
      "              (spatial_attention): SpatialAttention(\n",
      "                (conv): Conv2d(2, 1, kernel_size=(7, 7), stride=(1, 1), padding=(3, 3), bias=False)\n",
      "                (sigmoid): Sigmoid()\n",
      "              )\n",
      "            )\n",
      "          )\n",
      "          (bn): BatchNorm2d(256, eps=0.001, momentum=0.03, affine=True, track_running_stats=True)\n",
      "          (act): SiLU(inplace=True)\n",
      "        )\n",
      "        (cv2): Conv(\n",
      "          (conv): Sequential(\n",
      "            (0): Conv2d(384, 512, kernel_size=(1, 1), stride=(1, 1), bias=False)\n",
      "            (1): CBAM(\n",
      "              (channel_attention): ChannelAttention(\n",
      "                (avg_pool): AdaptiveAvgPool2d(output_size=1)\n",
      "                (max_pool): AdaptiveMaxPool2d(output_size=1)\n",
      "                (fc): Sequential(\n",
      "                  (0): Conv2d(512, 32, kernel_size=(1, 1), stride=(1, 1), bias=False)\n",
      "                  (1): ReLU(inplace=True)\n",
      "                  (2): Conv2d(32, 512, kernel_size=(1, 1), stride=(1, 1), bias=False)\n",
      "                )\n",
      "                (sigmoid): Sigmoid()\n",
      "              )\n",
      "              (spatial_attention): SpatialAttention(\n",
      "                (conv): Conv2d(2, 1, kernel_size=(7, 7), stride=(1, 1), padding=(3, 3), bias=False)\n",
      "                (sigmoid): Sigmoid()\n",
      "              )\n",
      "            )\n",
      "          )\n",
      "          (bn): BatchNorm2d(512, eps=0.001, momentum=0.03, affine=True, track_running_stats=True)\n",
      "          (act): SiLU(inplace=True)\n",
      "        )\n",
      "        (m): ModuleList(\n",
      "          (0): C3k(\n",
      "            (cv1): Conv(\n",
      "              (conv): Sequential(\n",
      "                (0): Conv2d(128, 64, kernel_size=(1, 1), stride=(1, 1), bias=False)\n",
      "                (1): CBAM(\n",
      "                  (channel_attention): ChannelAttention(\n",
      "                    (avg_pool): AdaptiveAvgPool2d(output_size=1)\n",
      "                    (max_pool): AdaptiveMaxPool2d(output_size=1)\n",
      "                    (fc): Sequential(\n",
      "                      (0): Conv2d(64, 4, kernel_size=(1, 1), stride=(1, 1), bias=False)\n",
      "                      (1): ReLU(inplace=True)\n",
      "                      (2): Conv2d(4, 64, kernel_size=(1, 1), stride=(1, 1), bias=False)\n",
      "                    )\n",
      "                    (sigmoid): Sigmoid()\n",
      "                  )\n",
      "                  (spatial_attention): SpatialAttention(\n",
      "                    (conv): Conv2d(2, 1, kernel_size=(7, 7), stride=(1, 1), padding=(3, 3), bias=False)\n",
      "                    (sigmoid): Sigmoid()\n",
      "                  )\n",
      "                )\n",
      "              )\n",
      "              (bn): BatchNorm2d(64, eps=0.001, momentum=0.03, affine=True, track_running_stats=True)\n",
      "              (act): SiLU(inplace=True)\n",
      "            )\n",
      "            (cv2): Conv(\n",
      "              (conv): Sequential(\n",
      "                (0): Conv2d(128, 64, kernel_size=(1, 1), stride=(1, 1), bias=False)\n",
      "                (1): CBAM(\n",
      "                  (channel_attention): ChannelAttention(\n",
      "                    (avg_pool): AdaptiveAvgPool2d(output_size=1)\n",
      "                    (max_pool): AdaptiveMaxPool2d(output_size=1)\n",
      "                    (fc): Sequential(\n",
      "                      (0): Conv2d(64, 4, kernel_size=(1, 1), stride=(1, 1), bias=False)\n",
      "                      (1): ReLU(inplace=True)\n",
      "                      (2): Conv2d(4, 64, kernel_size=(1, 1), stride=(1, 1), bias=False)\n",
      "                    )\n",
      "                    (sigmoid): Sigmoid()\n",
      "                  )\n",
      "                  (spatial_attention): SpatialAttention(\n",
      "                    (conv): Conv2d(2, 1, kernel_size=(7, 7), stride=(1, 1), padding=(3, 3), bias=False)\n",
      "                    (sigmoid): Sigmoid()\n",
      "                  )\n",
      "                )\n",
      "              )\n",
      "              (bn): BatchNorm2d(64, eps=0.001, momentum=0.03, affine=True, track_running_stats=True)\n",
      "              (act): SiLU(inplace=True)\n",
      "            )\n",
      "            (cv3): Conv(\n",
      "              (conv): Sequential(\n",
      "                (0): Conv2d(128, 128, kernel_size=(1, 1), stride=(1, 1), bias=False)\n",
      "                (1): CBAM(\n",
      "                  (channel_attention): ChannelAttention(\n",
      "                    (avg_pool): AdaptiveAvgPool2d(output_size=1)\n",
      "                    (max_pool): AdaptiveMaxPool2d(output_size=1)\n",
      "                    (fc): Sequential(\n",
      "                      (0): Conv2d(128, 8, kernel_size=(1, 1), stride=(1, 1), bias=False)\n",
      "                      (1): ReLU(inplace=True)\n",
      "                      (2): Conv2d(8, 128, kernel_size=(1, 1), stride=(1, 1), bias=False)\n",
      "                    )\n",
      "                    (sigmoid): Sigmoid()\n",
      "                  )\n",
      "                  (spatial_attention): SpatialAttention(\n",
      "                    (conv): Conv2d(2, 1, kernel_size=(7, 7), stride=(1, 1), padding=(3, 3), bias=False)\n",
      "                    (sigmoid): Sigmoid()\n",
      "                  )\n",
      "                )\n",
      "              )\n",
      "              (bn): BatchNorm2d(128, eps=0.001, momentum=0.03, affine=True, track_running_stats=True)\n",
      "              (act): SiLU(inplace=True)\n",
      "            )\n",
      "            (m): Sequential(\n",
      "              (0): Bottleneck(\n",
      "                (cv1): Conv(\n",
      "                  (conv): Sequential(\n",
      "                    (0): Conv2d(64, 64, kernel_size=(3, 3), stride=(1, 1), padding=(1, 1), bias=False)\n",
      "                    (1): CBAM(\n",
      "                      (channel_attention): ChannelAttention(\n",
      "                        (avg_pool): AdaptiveAvgPool2d(output_size=1)\n",
      "                        (max_pool): AdaptiveMaxPool2d(output_size=1)\n",
      "                        (fc): Sequential(\n",
      "                          (0): Conv2d(64, 4, kernel_size=(1, 1), stride=(1, 1), bias=False)\n",
      "                          (1): ReLU(inplace=True)\n",
      "                          (2): Conv2d(4, 64, kernel_size=(1, 1), stride=(1, 1), bias=False)\n",
      "                        )\n",
      "                        (sigmoid): Sigmoid()\n",
      "                      )\n",
      "                      (spatial_attention): SpatialAttention(\n",
      "                        (conv): Conv2d(2, 1, kernel_size=(7, 7), stride=(1, 1), padding=(3, 3), bias=False)\n",
      "                        (sigmoid): Sigmoid()\n",
      "                      )\n",
      "                    )\n",
      "                  )\n",
      "                  (bn): BatchNorm2d(64, eps=0.001, momentum=0.03, affine=True, track_running_stats=True)\n",
      "                  (act): SiLU(inplace=True)\n",
      "                )\n",
      "                (cv2): Conv(\n",
      "                  (conv): Sequential(\n",
      "                    (0): Conv2d(64, 64, kernel_size=(3, 3), stride=(1, 1), padding=(1, 1), bias=False)\n",
      "                    (1): CBAM(\n",
      "                      (channel_attention): ChannelAttention(\n",
      "                        (avg_pool): AdaptiveAvgPool2d(output_size=1)\n",
      "                        (max_pool): AdaptiveMaxPool2d(output_size=1)\n",
      "                        (fc): Sequential(\n",
      "                          (0): Conv2d(64, 4, kernel_size=(1, 1), stride=(1, 1), bias=False)\n",
      "                          (1): ReLU(inplace=True)\n",
      "                          (2): Conv2d(4, 64, kernel_size=(1, 1), stride=(1, 1), bias=False)\n",
      "                        )\n",
      "                        (sigmoid): Sigmoid()\n",
      "                      )\n",
      "                      (spatial_attention): SpatialAttention(\n",
      "                        (conv): Conv2d(2, 1, kernel_size=(7, 7), stride=(1, 1), padding=(3, 3), bias=False)\n",
      "                        (sigmoid): Sigmoid()\n",
      "                      )\n",
      "                    )\n",
      "                  )\n",
      "                  (bn): BatchNorm2d(64, eps=0.001, momentum=0.03, affine=True, track_running_stats=True)\n",
      "                  (act): SiLU(inplace=True)\n",
      "                )\n",
      "              )\n",
      "              (1): Bottleneck(\n",
      "                (cv1): Conv(\n",
      "                  (conv): Sequential(\n",
      "                    (0): Conv2d(64, 64, kernel_size=(3, 3), stride=(1, 1), padding=(1, 1), bias=False)\n",
      "                    (1): CBAM(\n",
      "                      (channel_attention): ChannelAttention(\n",
      "                        (avg_pool): AdaptiveAvgPool2d(output_size=1)\n",
      "                        (max_pool): AdaptiveMaxPool2d(output_size=1)\n",
      "                        (fc): Sequential(\n",
      "                          (0): Conv2d(64, 4, kernel_size=(1, 1), stride=(1, 1), bias=False)\n",
      "                          (1): ReLU(inplace=True)\n",
      "                          (2): Conv2d(4, 64, kernel_size=(1, 1), stride=(1, 1), bias=False)\n",
      "                        )\n",
      "                        (sigmoid): Sigmoid()\n",
      "                      )\n",
      "                      (spatial_attention): SpatialAttention(\n",
      "                        (conv): Conv2d(2, 1, kernel_size=(7, 7), stride=(1, 1), padding=(3, 3), bias=False)\n",
      "                        (sigmoid): Sigmoid()\n",
      "                      )\n",
      "                    )\n",
      "                  )\n",
      "                  (bn): BatchNorm2d(64, eps=0.001, momentum=0.03, affine=True, track_running_stats=True)\n",
      "                  (act): SiLU(inplace=True)\n",
      "                )\n",
      "                (cv2): Conv(\n",
      "                  (conv): Sequential(\n",
      "                    (0): Conv2d(64, 64, kernel_size=(3, 3), stride=(1, 1), padding=(1, 1), bias=False)\n",
      "                    (1): CBAM(\n",
      "                      (channel_attention): ChannelAttention(\n",
      "                        (avg_pool): AdaptiveAvgPool2d(output_size=1)\n",
      "                        (max_pool): AdaptiveMaxPool2d(output_size=1)\n",
      "                        (fc): Sequential(\n",
      "                          (0): Conv2d(64, 4, kernel_size=(1, 1), stride=(1, 1), bias=False)\n",
      "                          (1): ReLU(inplace=True)\n",
      "                          (2): Conv2d(4, 64, kernel_size=(1, 1), stride=(1, 1), bias=False)\n",
      "                        )\n",
      "                        (sigmoid): Sigmoid()\n",
      "                      )\n",
      "                      (spatial_attention): SpatialAttention(\n",
      "                        (conv): Conv2d(2, 1, kernel_size=(7, 7), stride=(1, 1), padding=(3, 3), bias=False)\n",
      "                        (sigmoid): Sigmoid()\n",
      "                      )\n",
      "                    )\n",
      "                  )\n",
      "                  (bn): BatchNorm2d(64, eps=0.001, momentum=0.03, affine=True, track_running_stats=True)\n",
      "                  (act): SiLU(inplace=True)\n",
      "                )\n",
      "              )\n",
      "            )\n",
      "          )\n",
      "        )\n",
      "      )\n",
      "      (5): Conv(\n",
      "        (conv): Sequential(\n",
      "          (0): Conv2d(512, 512, kernel_size=(3, 3), stride=(2, 2), padding=(1, 1), bias=False)\n",
      "          (1): CBAM(\n",
      "            (channel_attention): ChannelAttention(\n",
      "              (avg_pool): AdaptiveAvgPool2d(output_size=1)\n",
      "              (max_pool): AdaptiveMaxPool2d(output_size=1)\n",
      "              (fc): Sequential(\n",
      "                (0): Conv2d(512, 32, kernel_size=(1, 1), stride=(1, 1), bias=False)\n",
      "                (1): ReLU(inplace=True)\n",
      "                (2): Conv2d(32, 512, kernel_size=(1, 1), stride=(1, 1), bias=False)\n",
      "              )\n",
      "              (sigmoid): Sigmoid()\n",
      "            )\n",
      "            (spatial_attention): SpatialAttention(\n",
      "              (conv): Conv2d(2, 1, kernel_size=(7, 7), stride=(1, 1), padding=(3, 3), bias=False)\n",
      "              (sigmoid): Sigmoid()\n",
      "            )\n",
      "          )\n",
      "        )\n",
      "        (bn): BatchNorm2d(512, eps=0.001, momentum=0.03, affine=True, track_running_stats=True)\n",
      "        (act): SiLU(inplace=True)\n",
      "      )\n",
      "      (6): C3k2(\n",
      "        (cv1): Conv(\n",
      "          (conv): Sequential(\n",
      "            (0): Conv2d(512, 512, kernel_size=(1, 1), stride=(1, 1), bias=False)\n",
      "            (1): CBAM(\n",
      "              (channel_attention): ChannelAttention(\n",
      "                (avg_pool): AdaptiveAvgPool2d(output_size=1)\n",
      "                (max_pool): AdaptiveMaxPool2d(output_size=1)\n",
      "                (fc): Sequential(\n",
      "                  (0): Conv2d(512, 32, kernel_size=(1, 1), stride=(1, 1), bias=False)\n",
      "                  (1): ReLU(inplace=True)\n",
      "                  (2): Conv2d(32, 512, kernel_size=(1, 1), stride=(1, 1), bias=False)\n",
      "                )\n",
      "                (sigmoid): Sigmoid()\n",
      "              )\n",
      "              (spatial_attention): SpatialAttention(\n",
      "                (conv): Conv2d(2, 1, kernel_size=(7, 7), stride=(1, 1), padding=(3, 3), bias=False)\n",
      "                (sigmoid): Sigmoid()\n",
      "              )\n",
      "            )\n",
      "          )\n",
      "          (bn): BatchNorm2d(512, eps=0.001, momentum=0.03, affine=True, track_running_stats=True)\n",
      "          (act): SiLU(inplace=True)\n",
      "        )\n",
      "        (cv2): Conv(\n",
      "          (conv): Sequential(\n",
      "            (0): Conv2d(768, 512, kernel_size=(1, 1), stride=(1, 1), bias=False)\n",
      "            (1): CBAM(\n",
      "              (channel_attention): ChannelAttention(\n",
      "                (avg_pool): AdaptiveAvgPool2d(output_size=1)\n",
      "                (max_pool): AdaptiveMaxPool2d(output_size=1)\n",
      "                (fc): Sequential(\n",
      "                  (0): Conv2d(512, 32, kernel_size=(1, 1), stride=(1, 1), bias=False)\n",
      "                  (1): ReLU(inplace=True)\n",
      "                  (2): Conv2d(32, 512, kernel_size=(1, 1), stride=(1, 1), bias=False)\n",
      "                )\n",
      "                (sigmoid): Sigmoid()\n",
      "              )\n",
      "              (spatial_attention): SpatialAttention(\n",
      "                (conv): Conv2d(2, 1, kernel_size=(7, 7), stride=(1, 1), padding=(3, 3), bias=False)\n",
      "                (sigmoid): Sigmoid()\n",
      "              )\n",
      "            )\n",
      "          )\n",
      "          (bn): BatchNorm2d(512, eps=0.001, momentum=0.03, affine=True, track_running_stats=True)\n",
      "          (act): SiLU(inplace=True)\n",
      "        )\n",
      "        (m): ModuleList(\n",
      "          (0): C3k(\n",
      "            (cv1): Conv(\n",
      "              (conv): Sequential(\n",
      "                (0): Conv2d(256, 128, kernel_size=(1, 1), stride=(1, 1), bias=False)\n",
      "                (1): CBAM(\n",
      "                  (channel_attention): ChannelAttention(\n",
      "                    (avg_pool): AdaptiveAvgPool2d(output_size=1)\n",
      "                    (max_pool): AdaptiveMaxPool2d(output_size=1)\n",
      "                    (fc): Sequential(\n",
      "                      (0): Conv2d(128, 8, kernel_size=(1, 1), stride=(1, 1), bias=False)\n",
      "                      (1): ReLU(inplace=True)\n",
      "                      (2): Conv2d(8, 128, kernel_size=(1, 1), stride=(1, 1), bias=False)\n",
      "                    )\n",
      "                    (sigmoid): Sigmoid()\n",
      "                  )\n",
      "                  (spatial_attention): SpatialAttention(\n",
      "                    (conv): Conv2d(2, 1, kernel_size=(7, 7), stride=(1, 1), padding=(3, 3), bias=False)\n",
      "                    (sigmoid): Sigmoid()\n",
      "                  )\n",
      "                )\n",
      "              )\n",
      "              (bn): BatchNorm2d(128, eps=0.001, momentum=0.03, affine=True, track_running_stats=True)\n",
      "              (act): SiLU(inplace=True)\n",
      "            )\n",
      "            (cv2): Conv(\n",
      "              (conv): Sequential(\n",
      "                (0): Conv2d(256, 128, kernel_size=(1, 1), stride=(1, 1), bias=False)\n",
      "                (1): CBAM(\n",
      "                  (channel_attention): ChannelAttention(\n",
      "                    (avg_pool): AdaptiveAvgPool2d(output_size=1)\n",
      "                    (max_pool): AdaptiveMaxPool2d(output_size=1)\n",
      "                    (fc): Sequential(\n",
      "                      (0): Conv2d(128, 8, kernel_size=(1, 1), stride=(1, 1), bias=False)\n",
      "                      (1): ReLU(inplace=True)\n",
      "                      (2): Conv2d(8, 128, kernel_size=(1, 1), stride=(1, 1), bias=False)\n",
      "                    )\n",
      "                    (sigmoid): Sigmoid()\n",
      "                  )\n",
      "                  (spatial_attention): SpatialAttention(\n",
      "                    (conv): Conv2d(2, 1, kernel_size=(7, 7), stride=(1, 1), padding=(3, 3), bias=False)\n",
      "                    (sigmoid): Sigmoid()\n",
      "                  )\n",
      "                )\n",
      "              )\n",
      "              (bn): BatchNorm2d(128, eps=0.001, momentum=0.03, affine=True, track_running_stats=True)\n",
      "              (act): SiLU(inplace=True)\n",
      "            )\n",
      "            (cv3): Conv(\n",
      "              (conv): Sequential(\n",
      "                (0): Conv2d(256, 256, kernel_size=(1, 1), stride=(1, 1), bias=False)\n",
      "                (1): CBAM(\n",
      "                  (channel_attention): ChannelAttention(\n",
      "                    (avg_pool): AdaptiveAvgPool2d(output_size=1)\n",
      "                    (max_pool): AdaptiveMaxPool2d(output_size=1)\n",
      "                    (fc): Sequential(\n",
      "                      (0): Conv2d(256, 16, kernel_size=(1, 1), stride=(1, 1), bias=False)\n",
      "                      (1): ReLU(inplace=True)\n",
      "                      (2): Conv2d(16, 256, kernel_size=(1, 1), stride=(1, 1), bias=False)\n",
      "                    )\n",
      "                    (sigmoid): Sigmoid()\n",
      "                  )\n",
      "                  (spatial_attention): SpatialAttention(\n",
      "                    (conv): Conv2d(2, 1, kernel_size=(7, 7), stride=(1, 1), padding=(3, 3), bias=False)\n",
      "                    (sigmoid): Sigmoid()\n",
      "                  )\n",
      "                )\n",
      "              )\n",
      "              (bn): BatchNorm2d(256, eps=0.001, momentum=0.03, affine=True, track_running_stats=True)\n",
      "              (act): SiLU(inplace=True)\n",
      "            )\n",
      "            (m): Sequential(\n",
      "              (0): Bottleneck(\n",
      "                (cv1): Conv(\n",
      "                  (conv): Sequential(\n",
      "                    (0): Conv2d(128, 128, kernel_size=(3, 3), stride=(1, 1), padding=(1, 1), bias=False)\n",
      "                    (1): CBAM(\n",
      "                      (channel_attention): ChannelAttention(\n",
      "                        (avg_pool): AdaptiveAvgPool2d(output_size=1)\n",
      "                        (max_pool): AdaptiveMaxPool2d(output_size=1)\n",
      "                        (fc): Sequential(\n",
      "                          (0): Conv2d(128, 8, kernel_size=(1, 1), stride=(1, 1), bias=False)\n",
      "                          (1): ReLU(inplace=True)\n",
      "                          (2): Conv2d(8, 128, kernel_size=(1, 1), stride=(1, 1), bias=False)\n",
      "                        )\n",
      "                        (sigmoid): Sigmoid()\n",
      "                      )\n",
      "                      (spatial_attention): SpatialAttention(\n",
      "                        (conv): Conv2d(2, 1, kernel_size=(7, 7), stride=(1, 1), padding=(3, 3), bias=False)\n",
      "                        (sigmoid): Sigmoid()\n",
      "                      )\n",
      "                    )\n",
      "                  )\n",
      "                  (bn): BatchNorm2d(128, eps=0.001, momentum=0.03, affine=True, track_running_stats=True)\n",
      "                  (act): SiLU(inplace=True)\n",
      "                )\n",
      "                (cv2): Conv(\n",
      "                  (conv): Sequential(\n",
      "                    (0): Conv2d(128, 128, kernel_size=(3, 3), stride=(1, 1), padding=(1, 1), bias=False)\n",
      "                    (1): CBAM(\n",
      "                      (channel_attention): ChannelAttention(\n",
      "                        (avg_pool): AdaptiveAvgPool2d(output_size=1)\n",
      "                        (max_pool): AdaptiveMaxPool2d(output_size=1)\n",
      "                        (fc): Sequential(\n",
      "                          (0): Conv2d(128, 8, kernel_size=(1, 1), stride=(1, 1), bias=False)\n",
      "                          (1): ReLU(inplace=True)\n",
      "                          (2): Conv2d(8, 128, kernel_size=(1, 1), stride=(1, 1), bias=False)\n",
      "                        )\n",
      "                        (sigmoid): Sigmoid()\n",
      "                      )\n",
      "                      (spatial_attention): SpatialAttention(\n",
      "                        (conv): Conv2d(2, 1, kernel_size=(7, 7), stride=(1, 1), padding=(3, 3), bias=False)\n",
      "                        (sigmoid): Sigmoid()\n",
      "                      )\n",
      "                    )\n",
      "                  )\n",
      "                  (bn): BatchNorm2d(128, eps=0.001, momentum=0.03, affine=True, track_running_stats=True)\n",
      "                  (act): SiLU(inplace=True)\n",
      "                )\n",
      "              )\n",
      "              (1): Bottleneck(\n",
      "                (cv1): Conv(\n",
      "                  (conv): Sequential(\n",
      "                    (0): Conv2d(128, 128, kernel_size=(3, 3), stride=(1, 1), padding=(1, 1), bias=False)\n",
      "                    (1): CBAM(\n",
      "                      (channel_attention): ChannelAttention(\n",
      "                        (avg_pool): AdaptiveAvgPool2d(output_size=1)\n",
      "                        (max_pool): AdaptiveMaxPool2d(output_size=1)\n",
      "                        (fc): Sequential(\n",
      "                          (0): Conv2d(128, 8, kernel_size=(1, 1), stride=(1, 1), bias=False)\n",
      "                          (1): ReLU(inplace=True)\n",
      "                          (2): Conv2d(8, 128, kernel_size=(1, 1), stride=(1, 1), bias=False)\n",
      "                        )\n",
      "                        (sigmoid): Sigmoid()\n",
      "                      )\n",
      "                      (spatial_attention): SpatialAttention(\n",
      "                        (conv): Conv2d(2, 1, kernel_size=(7, 7), stride=(1, 1), padding=(3, 3), bias=False)\n",
      "                        (sigmoid): Sigmoid()\n",
      "                      )\n",
      "                    )\n",
      "                  )\n",
      "                  (bn): BatchNorm2d(128, eps=0.001, momentum=0.03, affine=True, track_running_stats=True)\n",
      "                  (act): SiLU(inplace=True)\n",
      "                )\n",
      "                (cv2): Conv(\n",
      "                  (conv): Sequential(\n",
      "                    (0): Conv2d(128, 128, kernel_size=(3, 3), stride=(1, 1), padding=(1, 1), bias=False)\n",
      "                    (1): CBAM(\n",
      "                      (channel_attention): ChannelAttention(\n",
      "                        (avg_pool): AdaptiveAvgPool2d(output_size=1)\n",
      "                        (max_pool): AdaptiveMaxPool2d(output_size=1)\n",
      "                        (fc): Sequential(\n",
      "                          (0): Conv2d(128, 8, kernel_size=(1, 1), stride=(1, 1), bias=False)\n",
      "                          (1): ReLU(inplace=True)\n",
      "                          (2): Conv2d(8, 128, kernel_size=(1, 1), stride=(1, 1), bias=False)\n",
      "                        )\n",
      "                        (sigmoid): Sigmoid()\n",
      "                      )\n",
      "                      (spatial_attention): SpatialAttention(\n",
      "                        (conv): Conv2d(2, 1, kernel_size=(7, 7), stride=(1, 1), padding=(3, 3), bias=False)\n",
      "                        (sigmoid): Sigmoid()\n",
      "                      )\n",
      "                    )\n",
      "                  )\n",
      "                  (bn): BatchNorm2d(128, eps=0.001, momentum=0.03, affine=True, track_running_stats=True)\n",
      "                  (act): SiLU(inplace=True)\n",
      "                )\n",
      "              )\n",
      "            )\n",
      "          )\n",
      "        )\n",
      "      )\n",
      "      (7): Conv(\n",
      "        (conv): Sequential(\n",
      "          (0): Conv2d(512, 512, kernel_size=(3, 3), stride=(2, 2), padding=(1, 1), bias=False)\n",
      "          (1): CBAM(\n",
      "            (channel_attention): ChannelAttention(\n",
      "              (avg_pool): AdaptiveAvgPool2d(output_size=1)\n",
      "              (max_pool): AdaptiveMaxPool2d(output_size=1)\n",
      "              (fc): Sequential(\n",
      "                (0): Conv2d(512, 32, kernel_size=(1, 1), stride=(1, 1), bias=False)\n",
      "                (1): ReLU(inplace=True)\n",
      "                (2): Conv2d(32, 512, kernel_size=(1, 1), stride=(1, 1), bias=False)\n",
      "              )\n",
      "              (sigmoid): Sigmoid()\n",
      "            )\n",
      "            (spatial_attention): SpatialAttention(\n",
      "              (conv): Conv2d(2, 1, kernel_size=(7, 7), stride=(1, 1), padding=(3, 3), bias=False)\n",
      "              (sigmoid): Sigmoid()\n",
      "            )\n",
      "          )\n",
      "        )\n",
      "        (bn): BatchNorm2d(512, eps=0.001, momentum=0.03, affine=True, track_running_stats=True)\n",
      "        (act): SiLU(inplace=True)\n",
      "      )\n",
      "      (8): C3k2(\n",
      "        (cv1): Conv(\n",
      "          (conv): Sequential(\n",
      "            (0): Conv2d(512, 512, kernel_size=(1, 1), stride=(1, 1), bias=False)\n",
      "            (1): CBAM(\n",
      "              (channel_attention): ChannelAttention(\n",
      "                (avg_pool): AdaptiveAvgPool2d(output_size=1)\n",
      "                (max_pool): AdaptiveMaxPool2d(output_size=1)\n",
      "                (fc): Sequential(\n",
      "                  (0): Conv2d(512, 32, kernel_size=(1, 1), stride=(1, 1), bias=False)\n",
      "                  (1): ReLU(inplace=True)\n",
      "                  (2): Conv2d(32, 512, kernel_size=(1, 1), stride=(1, 1), bias=False)\n",
      "                )\n",
      "                (sigmoid): Sigmoid()\n",
      "              )\n",
      "              (spatial_attention): SpatialAttention(\n",
      "                (conv): Conv2d(2, 1, kernel_size=(7, 7), stride=(1, 1), padding=(3, 3), bias=False)\n",
      "                (sigmoid): Sigmoid()\n",
      "              )\n",
      "            )\n",
      "          )\n",
      "          (bn): BatchNorm2d(512, eps=0.001, momentum=0.03, affine=True, track_running_stats=True)\n",
      "          (act): SiLU(inplace=True)\n",
      "        )\n",
      "        (cv2): Conv(\n",
      "          (conv): Sequential(\n",
      "            (0): Conv2d(768, 512, kernel_size=(1, 1), stride=(1, 1), bias=False)\n",
      "            (1): CBAM(\n",
      "              (channel_attention): ChannelAttention(\n",
      "                (avg_pool): AdaptiveAvgPool2d(output_size=1)\n",
      "                (max_pool): AdaptiveMaxPool2d(output_size=1)\n",
      "                (fc): Sequential(\n",
      "                  (0): Conv2d(512, 32, kernel_size=(1, 1), stride=(1, 1), bias=False)\n",
      "                  (1): ReLU(inplace=True)\n",
      "                  (2): Conv2d(32, 512, kernel_size=(1, 1), stride=(1, 1), bias=False)\n",
      "                )\n",
      "                (sigmoid): Sigmoid()\n",
      "              )\n",
      "              (spatial_attention): SpatialAttention(\n",
      "                (conv): Conv2d(2, 1, kernel_size=(7, 7), stride=(1, 1), padding=(3, 3), bias=False)\n",
      "                (sigmoid): Sigmoid()\n",
      "              )\n",
      "            )\n",
      "          )\n",
      "          (bn): BatchNorm2d(512, eps=0.001, momentum=0.03, affine=True, track_running_stats=True)\n",
      "          (act): SiLU(inplace=True)\n",
      "        )\n",
      "        (m): ModuleList(\n",
      "          (0): C3k(\n",
      "            (cv1): Conv(\n",
      "              (conv): Sequential(\n",
      "                (0): Conv2d(256, 128, kernel_size=(1, 1), stride=(1, 1), bias=False)\n",
      "                (1): CBAM(\n",
      "                  (channel_attention): ChannelAttention(\n",
      "                    (avg_pool): AdaptiveAvgPool2d(output_size=1)\n",
      "                    (max_pool): AdaptiveMaxPool2d(output_size=1)\n",
      "                    (fc): Sequential(\n",
      "                      (0): Conv2d(128, 8, kernel_size=(1, 1), stride=(1, 1), bias=False)\n",
      "                      (1): ReLU(inplace=True)\n",
      "                      (2): Conv2d(8, 128, kernel_size=(1, 1), stride=(1, 1), bias=False)\n",
      "                    )\n",
      "                    (sigmoid): Sigmoid()\n",
      "                  )\n",
      "                  (spatial_attention): SpatialAttention(\n",
      "                    (conv): Conv2d(2, 1, kernel_size=(7, 7), stride=(1, 1), padding=(3, 3), bias=False)\n",
      "                    (sigmoid): Sigmoid()\n",
      "                  )\n",
      "                )\n",
      "              )\n",
      "              (bn): BatchNorm2d(128, eps=0.001, momentum=0.03, affine=True, track_running_stats=True)\n",
      "              (act): SiLU(inplace=True)\n",
      "            )\n",
      "            (cv2): Conv(\n",
      "              (conv): Sequential(\n",
      "                (0): Conv2d(256, 128, kernel_size=(1, 1), stride=(1, 1), bias=False)\n",
      "                (1): CBAM(\n",
      "                  (channel_attention): ChannelAttention(\n",
      "                    (avg_pool): AdaptiveAvgPool2d(output_size=1)\n",
      "                    (max_pool): AdaptiveMaxPool2d(output_size=1)\n",
      "                    (fc): Sequential(\n",
      "                      (0): Conv2d(128, 8, kernel_size=(1, 1), stride=(1, 1), bias=False)\n",
      "                      (1): ReLU(inplace=True)\n",
      "                      (2): Conv2d(8, 128, kernel_size=(1, 1), stride=(1, 1), bias=False)\n",
      "                    )\n",
      "                    (sigmoid): Sigmoid()\n",
      "                  )\n",
      "                  (spatial_attention): SpatialAttention(\n",
      "                    (conv): Conv2d(2, 1, kernel_size=(7, 7), stride=(1, 1), padding=(3, 3), bias=False)\n",
      "                    (sigmoid): Sigmoid()\n",
      "                  )\n",
      "                )\n",
      "              )\n",
      "              (bn): BatchNorm2d(128, eps=0.001, momentum=0.03, affine=True, track_running_stats=True)\n",
      "              (act): SiLU(inplace=True)\n",
      "            )\n",
      "            (cv3): Conv(\n",
      "              (conv): Sequential(\n",
      "                (0): Conv2d(256, 256, kernel_size=(1, 1), stride=(1, 1), bias=False)\n",
      "                (1): CBAM(\n",
      "                  (channel_attention): ChannelAttention(\n",
      "                    (avg_pool): AdaptiveAvgPool2d(output_size=1)\n",
      "                    (max_pool): AdaptiveMaxPool2d(output_size=1)\n",
      "                    (fc): Sequential(\n",
      "                      (0): Conv2d(256, 16, kernel_size=(1, 1), stride=(1, 1), bias=False)\n",
      "                      (1): ReLU(inplace=True)\n",
      "                      (2): Conv2d(16, 256, kernel_size=(1, 1), stride=(1, 1), bias=False)\n",
      "                    )\n",
      "                    (sigmoid): Sigmoid()\n",
      "                  )\n",
      "                  (spatial_attention): SpatialAttention(\n",
      "                    (conv): Conv2d(2, 1, kernel_size=(7, 7), stride=(1, 1), padding=(3, 3), bias=False)\n",
      "                    (sigmoid): Sigmoid()\n",
      "                  )\n",
      "                )\n",
      "              )\n",
      "              (bn): BatchNorm2d(256, eps=0.001, momentum=0.03, affine=True, track_running_stats=True)\n",
      "              (act): SiLU(inplace=True)\n",
      "            )\n",
      "            (m): Sequential(\n",
      "              (0): Bottleneck(\n",
      "                (cv1): Conv(\n",
      "                  (conv): Sequential(\n",
      "                    (0): Conv2d(128, 128, kernel_size=(3, 3), stride=(1, 1), padding=(1, 1), bias=False)\n",
      "                    (1): CBAM(\n",
      "                      (channel_attention): ChannelAttention(\n",
      "                        (avg_pool): AdaptiveAvgPool2d(output_size=1)\n",
      "                        (max_pool): AdaptiveMaxPool2d(output_size=1)\n",
      "                        (fc): Sequential(\n",
      "                          (0): Conv2d(128, 8, kernel_size=(1, 1), stride=(1, 1), bias=False)\n",
      "                          (1): ReLU(inplace=True)\n",
      "                          (2): Conv2d(8, 128, kernel_size=(1, 1), stride=(1, 1), bias=False)\n",
      "                        )\n",
      "                        (sigmoid): Sigmoid()\n",
      "                      )\n",
      "                      (spatial_attention): SpatialAttention(\n",
      "                        (conv): Conv2d(2, 1, kernel_size=(7, 7), stride=(1, 1), padding=(3, 3), bias=False)\n",
      "                        (sigmoid): Sigmoid()\n",
      "                      )\n",
      "                    )\n",
      "                  )\n",
      "                  (bn): BatchNorm2d(128, eps=0.001, momentum=0.03, affine=True, track_running_stats=True)\n",
      "                  (act): SiLU(inplace=True)\n",
      "                )\n",
      "                (cv2): Conv(\n",
      "                  (conv): Sequential(\n",
      "                    (0): Conv2d(128, 128, kernel_size=(3, 3), stride=(1, 1), padding=(1, 1), bias=False)\n",
      "                    (1): CBAM(\n",
      "                      (channel_attention): ChannelAttention(\n",
      "                        (avg_pool): AdaptiveAvgPool2d(output_size=1)\n",
      "                        (max_pool): AdaptiveMaxPool2d(output_size=1)\n",
      "                        (fc): Sequential(\n",
      "                          (0): Conv2d(128, 8, kernel_size=(1, 1), stride=(1, 1), bias=False)\n",
      "                          (1): ReLU(inplace=True)\n",
      "                          (2): Conv2d(8, 128, kernel_size=(1, 1), stride=(1, 1), bias=False)\n",
      "                        )\n",
      "                        (sigmoid): Sigmoid()\n",
      "                      )\n",
      "                      (spatial_attention): SpatialAttention(\n",
      "                        (conv): Conv2d(2, 1, kernel_size=(7, 7), stride=(1, 1), padding=(3, 3), bias=False)\n",
      "                        (sigmoid): Sigmoid()\n",
      "                      )\n",
      "                    )\n",
      "                  )\n",
      "                  (bn): BatchNorm2d(128, eps=0.001, momentum=0.03, affine=True, track_running_stats=True)\n",
      "                  (act): SiLU(inplace=True)\n",
      "                )\n",
      "              )\n",
      "              (1): Bottleneck(\n",
      "                (cv1): Conv(\n",
      "                  (conv): Sequential(\n",
      "                    (0): Conv2d(128, 128, kernel_size=(3, 3), stride=(1, 1), padding=(1, 1), bias=False)\n",
      "                    (1): CBAM(\n",
      "                      (channel_attention): ChannelAttention(\n",
      "                        (avg_pool): AdaptiveAvgPool2d(output_size=1)\n",
      "                        (max_pool): AdaptiveMaxPool2d(output_size=1)\n",
      "                        (fc): Sequential(\n",
      "                          (0): Conv2d(128, 8, kernel_size=(1, 1), stride=(1, 1), bias=False)\n",
      "                          (1): ReLU(inplace=True)\n",
      "                          (2): Conv2d(8, 128, kernel_size=(1, 1), stride=(1, 1), bias=False)\n",
      "                        )\n",
      "                        (sigmoid): Sigmoid()\n",
      "                      )\n",
      "                      (spatial_attention): SpatialAttention(\n",
      "                        (conv): Conv2d(2, 1, kernel_size=(7, 7), stride=(1, 1), padding=(3, 3), bias=False)\n",
      "                        (sigmoid): Sigmoid()\n",
      "                      )\n",
      "                    )\n",
      "                  )\n",
      "                  (bn): BatchNorm2d(128, eps=0.001, momentum=0.03, affine=True, track_running_stats=True)\n",
      "                  (act): SiLU(inplace=True)\n",
      "                )\n",
      "                (cv2): Conv(\n",
      "                  (conv): Sequential(\n",
      "                    (0): Conv2d(128, 128, kernel_size=(3, 3), stride=(1, 1), padding=(1, 1), bias=False)\n",
      "                    (1): CBAM(\n",
      "                      (channel_attention): ChannelAttention(\n",
      "                        (avg_pool): AdaptiveAvgPool2d(output_size=1)\n",
      "                        (max_pool): AdaptiveMaxPool2d(output_size=1)\n",
      "                        (fc): Sequential(\n",
      "                          (0): Conv2d(128, 8, kernel_size=(1, 1), stride=(1, 1), bias=False)\n",
      "                          (1): ReLU(inplace=True)\n",
      "                          (2): Conv2d(8, 128, kernel_size=(1, 1), stride=(1, 1), bias=False)\n",
      "                        )\n",
      "                        (sigmoid): Sigmoid()\n",
      "                      )\n",
      "                      (spatial_attention): SpatialAttention(\n",
      "                        (conv): Conv2d(2, 1, kernel_size=(7, 7), stride=(1, 1), padding=(3, 3), bias=False)\n",
      "                        (sigmoid): Sigmoid()\n",
      "                      )\n",
      "                    )\n",
      "                  )\n",
      "                  (bn): BatchNorm2d(128, eps=0.001, momentum=0.03, affine=True, track_running_stats=True)\n",
      "                  (act): SiLU(inplace=True)\n",
      "                )\n",
      "              )\n",
      "            )\n",
      "          )\n",
      "        )\n",
      "      )\n",
      "      (9): SPPF(\n",
      "        (cv1): Conv(\n",
      "          (conv): Sequential(\n",
      "            (0): Conv2d(512, 256, kernel_size=(1, 1), stride=(1, 1), bias=False)\n",
      "            (1): CBAM(\n",
      "              (channel_attention): ChannelAttention(\n",
      "                (avg_pool): AdaptiveAvgPool2d(output_size=1)\n",
      "                (max_pool): AdaptiveMaxPool2d(output_size=1)\n",
      "                (fc): Sequential(\n",
      "                  (0): Conv2d(256, 16, kernel_size=(1, 1), stride=(1, 1), bias=False)\n",
      "                  (1): ReLU(inplace=True)\n",
      "                  (2): Conv2d(16, 256, kernel_size=(1, 1), stride=(1, 1), bias=False)\n",
      "                )\n",
      "                (sigmoid): Sigmoid()\n",
      "              )\n",
      "              (spatial_attention): SpatialAttention(\n",
      "                (conv): Conv2d(2, 1, kernel_size=(7, 7), stride=(1, 1), padding=(3, 3), bias=False)\n",
      "                (sigmoid): Sigmoid()\n",
      "              )\n",
      "            )\n",
      "          )\n",
      "          (bn): BatchNorm2d(256, eps=0.001, momentum=0.03, affine=True, track_running_stats=True)\n",
      "          (act): SiLU(inplace=True)\n",
      "        )\n",
      "        (cv2): Conv(\n",
      "          (conv): Sequential(\n",
      "            (0): Conv2d(1024, 512, kernel_size=(1, 1), stride=(1, 1), bias=False)\n",
      "            (1): CBAM(\n",
      "              (channel_attention): ChannelAttention(\n",
      "                (avg_pool): AdaptiveAvgPool2d(output_size=1)\n",
      "                (max_pool): AdaptiveMaxPool2d(output_size=1)\n",
      "                (fc): Sequential(\n",
      "                  (0): Conv2d(512, 32, kernel_size=(1, 1), stride=(1, 1), bias=False)\n",
      "                  (1): ReLU(inplace=True)\n",
      "                  (2): Conv2d(32, 512, kernel_size=(1, 1), stride=(1, 1), bias=False)\n",
      "                )\n",
      "                (sigmoid): Sigmoid()\n",
      "              )\n",
      "              (spatial_attention): SpatialAttention(\n",
      "                (conv): Conv2d(2, 1, kernel_size=(7, 7), stride=(1, 1), padding=(3, 3), bias=False)\n",
      "                (sigmoid): Sigmoid()\n",
      "              )\n",
      "            )\n",
      "          )\n",
      "          (bn): BatchNorm2d(512, eps=0.001, momentum=0.03, affine=True, track_running_stats=True)\n",
      "          (act): SiLU(inplace=True)\n",
      "        )\n",
      "        (m): MaxPool2d(kernel_size=5, stride=1, padding=2, dilation=1, ceil_mode=False)\n",
      "      )\n",
      "      (10): C2PSA(\n",
      "        (cv1): Conv(\n",
      "          (conv): Sequential(\n",
      "            (0): Conv2d(512, 512, kernel_size=(1, 1), stride=(1, 1), bias=False)\n",
      "            (1): CBAM(\n",
      "              (channel_attention): ChannelAttention(\n",
      "                (avg_pool): AdaptiveAvgPool2d(output_size=1)\n",
      "                (max_pool): AdaptiveMaxPool2d(output_size=1)\n",
      "                (fc): Sequential(\n",
      "                  (0): Conv2d(512, 32, kernel_size=(1, 1), stride=(1, 1), bias=False)\n",
      "                  (1): ReLU(inplace=True)\n",
      "                  (2): Conv2d(32, 512, kernel_size=(1, 1), stride=(1, 1), bias=False)\n",
      "                )\n",
      "                (sigmoid): Sigmoid()\n",
      "              )\n",
      "              (spatial_attention): SpatialAttention(\n",
      "                (conv): Conv2d(2, 1, kernel_size=(7, 7), stride=(1, 1), padding=(3, 3), bias=False)\n",
      "                (sigmoid): Sigmoid()\n",
      "              )\n",
      "            )\n",
      "          )\n",
      "          (bn): BatchNorm2d(512, eps=0.001, momentum=0.03, affine=True, track_running_stats=True)\n",
      "          (act): SiLU(inplace=True)\n",
      "        )\n",
      "        (cv2): Conv(\n",
      "          (conv): Sequential(\n",
      "            (0): Conv2d(512, 512, kernel_size=(1, 1), stride=(1, 1), bias=False)\n",
      "            (1): CBAM(\n",
      "              (channel_attention): ChannelAttention(\n",
      "                (avg_pool): AdaptiveAvgPool2d(output_size=1)\n",
      "                (max_pool): AdaptiveMaxPool2d(output_size=1)\n",
      "                (fc): Sequential(\n",
      "                  (0): Conv2d(512, 32, kernel_size=(1, 1), stride=(1, 1), bias=False)\n",
      "                  (1): ReLU(inplace=True)\n",
      "                  (2): Conv2d(32, 512, kernel_size=(1, 1), stride=(1, 1), bias=False)\n",
      "                )\n",
      "                (sigmoid): Sigmoid()\n",
      "              )\n",
      "              (spatial_attention): SpatialAttention(\n",
      "                (conv): Conv2d(2, 1, kernel_size=(7, 7), stride=(1, 1), padding=(3, 3), bias=False)\n",
      "                (sigmoid): Sigmoid()\n",
      "              )\n",
      "            )\n",
      "          )\n",
      "          (bn): BatchNorm2d(512, eps=0.001, momentum=0.03, affine=True, track_running_stats=True)\n",
      "          (act): SiLU(inplace=True)\n",
      "        )\n",
      "        (m): Sequential(\n",
      "          (0): PSABlock(\n",
      "            (attn): Attention(\n",
      "              (qkv): Conv(\n",
      "                (conv): Sequential(\n",
      "                  (0): Conv2d(256, 512, kernel_size=(1, 1), stride=(1, 1), bias=False)\n",
      "                  (1): CBAM(\n",
      "                    (channel_attention): ChannelAttention(\n",
      "                      (avg_pool): AdaptiveAvgPool2d(output_size=1)\n",
      "                      (max_pool): AdaptiveMaxPool2d(output_size=1)\n",
      "                      (fc): Sequential(\n",
      "                        (0): Conv2d(512, 32, kernel_size=(1, 1), stride=(1, 1), bias=False)\n",
      "                        (1): ReLU(inplace=True)\n",
      "                        (2): Conv2d(32, 512, kernel_size=(1, 1), stride=(1, 1), bias=False)\n",
      "                      )\n",
      "                      (sigmoid): Sigmoid()\n",
      "                    )\n",
      "                    (spatial_attention): SpatialAttention(\n",
      "                      (conv): Conv2d(2, 1, kernel_size=(7, 7), stride=(1, 1), padding=(3, 3), bias=False)\n",
      "                      (sigmoid): Sigmoid()\n",
      "                    )\n",
      "                  )\n",
      "                )\n",
      "                (bn): BatchNorm2d(512, eps=0.001, momentum=0.03, affine=True, track_running_stats=True)\n",
      "                (act): Identity()\n",
      "              )\n",
      "              (proj): Conv(\n",
      "                (conv): Sequential(\n",
      "                  (0): Conv2d(256, 256, kernel_size=(1, 1), stride=(1, 1), bias=False)\n",
      "                  (1): CBAM(\n",
      "                    (channel_attention): ChannelAttention(\n",
      "                      (avg_pool): AdaptiveAvgPool2d(output_size=1)\n",
      "                      (max_pool): AdaptiveMaxPool2d(output_size=1)\n",
      "                      (fc): Sequential(\n",
      "                        (0): Conv2d(256, 16, kernel_size=(1, 1), stride=(1, 1), bias=False)\n",
      "                        (1): ReLU(inplace=True)\n",
      "                        (2): Conv2d(16, 256, kernel_size=(1, 1), stride=(1, 1), bias=False)\n",
      "                      )\n",
      "                      (sigmoid): Sigmoid()\n",
      "                    )\n",
      "                    (spatial_attention): SpatialAttention(\n",
      "                      (conv): Conv2d(2, 1, kernel_size=(7, 7), stride=(1, 1), padding=(3, 3), bias=False)\n",
      "                      (sigmoid): Sigmoid()\n",
      "                    )\n",
      "                  )\n",
      "                )\n",
      "                (bn): BatchNorm2d(256, eps=0.001, momentum=0.03, affine=True, track_running_stats=True)\n",
      "                (act): Identity()\n",
      "              )\n",
      "              (pe): Conv(\n",
      "                (conv): Sequential(\n",
      "                  (0): Conv2d(256, 256, kernel_size=(3, 3), stride=(1, 1), padding=(1, 1), groups=256, bias=False)\n",
      "                  (1): CBAM(\n",
      "                    (channel_attention): ChannelAttention(\n",
      "                      (avg_pool): AdaptiveAvgPool2d(output_size=1)\n",
      "                      (max_pool): AdaptiveMaxPool2d(output_size=1)\n",
      "                      (fc): Sequential(\n",
      "                        (0): Conv2d(256, 16, kernel_size=(1, 1), stride=(1, 1), bias=False)\n",
      "                        (1): ReLU(inplace=True)\n",
      "                        (2): Conv2d(16, 256, kernel_size=(1, 1), stride=(1, 1), bias=False)\n",
      "                      )\n",
      "                      (sigmoid): Sigmoid()\n",
      "                    )\n",
      "                    (spatial_attention): SpatialAttention(\n",
      "                      (conv): Conv2d(2, 1, kernel_size=(7, 7), stride=(1, 1), padding=(3, 3), bias=False)\n",
      "                      (sigmoid): Sigmoid()\n",
      "                    )\n",
      "                  )\n",
      "                )\n",
      "                (bn): BatchNorm2d(256, eps=0.001, momentum=0.03, affine=True, track_running_stats=True)\n",
      "                (act): Identity()\n",
      "              )\n",
      "            )\n",
      "            (ffn): Sequential(\n",
      "              (0): Conv(\n",
      "                (conv): Sequential(\n",
      "                  (0): Conv2d(256, 512, kernel_size=(1, 1), stride=(1, 1), bias=False)\n",
      "                  (1): CBAM(\n",
      "                    (channel_attention): ChannelAttention(\n",
      "                      (avg_pool): AdaptiveAvgPool2d(output_size=1)\n",
      "                      (max_pool): AdaptiveMaxPool2d(output_size=1)\n",
      "                      (fc): Sequential(\n",
      "                        (0): Conv2d(512, 32, kernel_size=(1, 1), stride=(1, 1), bias=False)\n",
      "                        (1): ReLU(inplace=True)\n",
      "                        (2): Conv2d(32, 512, kernel_size=(1, 1), stride=(1, 1), bias=False)\n",
      "                      )\n",
      "                      (sigmoid): Sigmoid()\n",
      "                    )\n",
      "                    (spatial_attention): SpatialAttention(\n",
      "                      (conv): Conv2d(2, 1, kernel_size=(7, 7), stride=(1, 1), padding=(3, 3), bias=False)\n",
      "                      (sigmoid): Sigmoid()\n",
      "                    )\n",
      "                  )\n",
      "                )\n",
      "                (bn): BatchNorm2d(512, eps=0.001, momentum=0.03, affine=True, track_running_stats=True)\n",
      "                (act): SiLU(inplace=True)\n",
      "              )\n",
      "              (1): Conv(\n",
      "                (conv): Sequential(\n",
      "                  (0): Conv2d(512, 256, kernel_size=(1, 1), stride=(1, 1), bias=False)\n",
      "                  (1): CBAM(\n",
      "                    (channel_attention): ChannelAttention(\n",
      "                      (avg_pool): AdaptiveAvgPool2d(output_size=1)\n",
      "                      (max_pool): AdaptiveMaxPool2d(output_size=1)\n",
      "                      (fc): Sequential(\n",
      "                        (0): Conv2d(256, 16, kernel_size=(1, 1), stride=(1, 1), bias=False)\n",
      "                        (1): ReLU(inplace=True)\n",
      "                        (2): Conv2d(16, 256, kernel_size=(1, 1), stride=(1, 1), bias=False)\n",
      "                      )\n",
      "                      (sigmoid): Sigmoid()\n",
      "                    )\n",
      "                    (spatial_attention): SpatialAttention(\n",
      "                      (conv): Conv2d(2, 1, kernel_size=(7, 7), stride=(1, 1), padding=(3, 3), bias=False)\n",
      "                      (sigmoid): Sigmoid()\n",
      "                    )\n",
      "                  )\n",
      "                )\n",
      "                (bn): BatchNorm2d(256, eps=0.001, momentum=0.03, affine=True, track_running_stats=True)\n",
      "                (act): Identity()\n",
      "              )\n",
      "            )\n",
      "          )\n",
      "        )\n",
      "      )\n",
      "      (11): Upsample(scale_factor=2.0, mode='nearest')\n",
      "      (12): Concat()\n",
      "      (13): C3k2(\n",
      "        (cv1): Conv(\n",
      "          (conv): Sequential(\n",
      "            (0): Conv2d(1024, 512, kernel_size=(1, 1), stride=(1, 1), bias=False)\n",
      "            (1): CBAM(\n",
      "              (channel_attention): ChannelAttention(\n",
      "                (avg_pool): AdaptiveAvgPool2d(output_size=1)\n",
      "                (max_pool): AdaptiveMaxPool2d(output_size=1)\n",
      "                (fc): Sequential(\n",
      "                  (0): Conv2d(512, 32, kernel_size=(1, 1), stride=(1, 1), bias=False)\n",
      "                  (1): ReLU(inplace=True)\n",
      "                  (2): Conv2d(32, 512, kernel_size=(1, 1), stride=(1, 1), bias=False)\n",
      "                )\n",
      "                (sigmoid): Sigmoid()\n",
      "              )\n",
      "              (spatial_attention): SpatialAttention(\n",
      "                (conv): Conv2d(2, 1, kernel_size=(7, 7), stride=(1, 1), padding=(3, 3), bias=False)\n",
      "                (sigmoid): Sigmoid()\n",
      "              )\n",
      "            )\n",
      "          )\n",
      "          (bn): BatchNorm2d(512, eps=0.001, momentum=0.03, affine=True, track_running_stats=True)\n",
      "          (act): SiLU(inplace=True)\n",
      "        )\n",
      "        (cv2): Conv(\n",
      "          (conv): Sequential(\n",
      "            (0): Conv2d(768, 512, kernel_size=(1, 1), stride=(1, 1), bias=False)\n",
      "            (1): CBAM(\n",
      "              (channel_attention): ChannelAttention(\n",
      "                (avg_pool): AdaptiveAvgPool2d(output_size=1)\n",
      "                (max_pool): AdaptiveMaxPool2d(output_size=1)\n",
      "                (fc): Sequential(\n",
      "                  (0): Conv2d(512, 32, kernel_size=(1, 1), stride=(1, 1), bias=False)\n",
      "                  (1): ReLU(inplace=True)\n",
      "                  (2): Conv2d(32, 512, kernel_size=(1, 1), stride=(1, 1), bias=False)\n",
      "                )\n",
      "                (sigmoid): Sigmoid()\n",
      "              )\n",
      "              (spatial_attention): SpatialAttention(\n",
      "                (conv): Conv2d(2, 1, kernel_size=(7, 7), stride=(1, 1), padding=(3, 3), bias=False)\n",
      "                (sigmoid): Sigmoid()\n",
      "              )\n",
      "            )\n",
      "          )\n",
      "          (bn): BatchNorm2d(512, eps=0.001, momentum=0.03, affine=True, track_running_stats=True)\n",
      "          (act): SiLU(inplace=True)\n",
      "        )\n",
      "        (m): ModuleList(\n",
      "          (0): C3k(\n",
      "            (cv1): Conv(\n",
      "              (conv): Sequential(\n",
      "                (0): Conv2d(256, 128, kernel_size=(1, 1), stride=(1, 1), bias=False)\n",
      "                (1): CBAM(\n",
      "                  (channel_attention): ChannelAttention(\n",
      "                    (avg_pool): AdaptiveAvgPool2d(output_size=1)\n",
      "                    (max_pool): AdaptiveMaxPool2d(output_size=1)\n",
      "                    (fc): Sequential(\n",
      "                      (0): Conv2d(128, 8, kernel_size=(1, 1), stride=(1, 1), bias=False)\n",
      "                      (1): ReLU(inplace=True)\n",
      "                      (2): Conv2d(8, 128, kernel_size=(1, 1), stride=(1, 1), bias=False)\n",
      "                    )\n",
      "                    (sigmoid): Sigmoid()\n",
      "                  )\n",
      "                  (spatial_attention): SpatialAttention(\n",
      "                    (conv): Conv2d(2, 1, kernel_size=(7, 7), stride=(1, 1), padding=(3, 3), bias=False)\n",
      "                    (sigmoid): Sigmoid()\n",
      "                  )\n",
      "                )\n",
      "              )\n",
      "              (bn): BatchNorm2d(128, eps=0.001, momentum=0.03, affine=True, track_running_stats=True)\n",
      "              (act): SiLU(inplace=True)\n",
      "            )\n",
      "            (cv2): Conv(\n",
      "              (conv): Sequential(\n",
      "                (0): Conv2d(256, 128, kernel_size=(1, 1), stride=(1, 1), bias=False)\n",
      "                (1): CBAM(\n",
      "                  (channel_attention): ChannelAttention(\n",
      "                    (avg_pool): AdaptiveAvgPool2d(output_size=1)\n",
      "                    (max_pool): AdaptiveMaxPool2d(output_size=1)\n",
      "                    (fc): Sequential(\n",
      "                      (0): Conv2d(128, 8, kernel_size=(1, 1), stride=(1, 1), bias=False)\n",
      "                      (1): ReLU(inplace=True)\n",
      "                      (2): Conv2d(8, 128, kernel_size=(1, 1), stride=(1, 1), bias=False)\n",
      "                    )\n",
      "                    (sigmoid): Sigmoid()\n",
      "                  )\n",
      "                  (spatial_attention): SpatialAttention(\n",
      "                    (conv): Conv2d(2, 1, kernel_size=(7, 7), stride=(1, 1), padding=(3, 3), bias=False)\n",
      "                    (sigmoid): Sigmoid()\n",
      "                  )\n",
      "                )\n",
      "              )\n",
      "              (bn): BatchNorm2d(128, eps=0.001, momentum=0.03, affine=True, track_running_stats=True)\n",
      "              (act): SiLU(inplace=True)\n",
      "            )\n",
      "            (cv3): Conv(\n",
      "              (conv): Sequential(\n",
      "                (0): Conv2d(256, 256, kernel_size=(1, 1), stride=(1, 1), bias=False)\n",
      "                (1): CBAM(\n",
      "                  (channel_attention): ChannelAttention(\n",
      "                    (avg_pool): AdaptiveAvgPool2d(output_size=1)\n",
      "                    (max_pool): AdaptiveMaxPool2d(output_size=1)\n",
      "                    (fc): Sequential(\n",
      "                      (0): Conv2d(256, 16, kernel_size=(1, 1), stride=(1, 1), bias=False)\n",
      "                      (1): ReLU(inplace=True)\n",
      "                      (2): Conv2d(16, 256, kernel_size=(1, 1), stride=(1, 1), bias=False)\n",
      "                    )\n",
      "                    (sigmoid): Sigmoid()\n",
      "                  )\n",
      "                  (spatial_attention): SpatialAttention(\n",
      "                    (conv): Conv2d(2, 1, kernel_size=(7, 7), stride=(1, 1), padding=(3, 3), bias=False)\n",
      "                    (sigmoid): Sigmoid()\n",
      "                  )\n",
      "                )\n",
      "              )\n",
      "              (bn): BatchNorm2d(256, eps=0.001, momentum=0.03, affine=True, track_running_stats=True)\n",
      "              (act): SiLU(inplace=True)\n",
      "            )\n",
      "            (m): Sequential(\n",
      "              (0): Bottleneck(\n",
      "                (cv1): Conv(\n",
      "                  (conv): Sequential(\n",
      "                    (0): Conv2d(128, 128, kernel_size=(3, 3), stride=(1, 1), padding=(1, 1), bias=False)\n",
      "                    (1): CBAM(\n",
      "                      (channel_attention): ChannelAttention(\n",
      "                        (avg_pool): AdaptiveAvgPool2d(output_size=1)\n",
      "                        (max_pool): AdaptiveMaxPool2d(output_size=1)\n",
      "                        (fc): Sequential(\n",
      "                          (0): Conv2d(128, 8, kernel_size=(1, 1), stride=(1, 1), bias=False)\n",
      "                          (1): ReLU(inplace=True)\n",
      "                          (2): Conv2d(8, 128, kernel_size=(1, 1), stride=(1, 1), bias=False)\n",
      "                        )\n",
      "                        (sigmoid): Sigmoid()\n",
      "                      )\n",
      "                      (spatial_attention): SpatialAttention(\n",
      "                        (conv): Conv2d(2, 1, kernel_size=(7, 7), stride=(1, 1), padding=(3, 3), bias=False)\n",
      "                        (sigmoid): Sigmoid()\n",
      "                      )\n",
      "                    )\n",
      "                  )\n",
      "                  (bn): BatchNorm2d(128, eps=0.001, momentum=0.03, affine=True, track_running_stats=True)\n",
      "                  (act): SiLU(inplace=True)\n",
      "                )\n",
      "                (cv2): Conv(\n",
      "                  (conv): Sequential(\n",
      "                    (0): Conv2d(128, 128, kernel_size=(3, 3), stride=(1, 1), padding=(1, 1), bias=False)\n",
      "                    (1): CBAM(\n",
      "                      (channel_attention): ChannelAttention(\n",
      "                        (avg_pool): AdaptiveAvgPool2d(output_size=1)\n",
      "                        (max_pool): AdaptiveMaxPool2d(output_size=1)\n",
      "                        (fc): Sequential(\n",
      "                          (0): Conv2d(128, 8, kernel_size=(1, 1), stride=(1, 1), bias=False)\n",
      "                          (1): ReLU(inplace=True)\n",
      "                          (2): Conv2d(8, 128, kernel_size=(1, 1), stride=(1, 1), bias=False)\n",
      "                        )\n",
      "                        (sigmoid): Sigmoid()\n",
      "                      )\n",
      "                      (spatial_attention): SpatialAttention(\n",
      "                        (conv): Conv2d(2, 1, kernel_size=(7, 7), stride=(1, 1), padding=(3, 3), bias=False)\n",
      "                        (sigmoid): Sigmoid()\n",
      "                      )\n",
      "                    )\n",
      "                  )\n",
      "                  (bn): BatchNorm2d(128, eps=0.001, momentum=0.03, affine=True, track_running_stats=True)\n",
      "                  (act): SiLU(inplace=True)\n",
      "                )\n",
      "              )\n",
      "              (1): Bottleneck(\n",
      "                (cv1): Conv(\n",
      "                  (conv): Sequential(\n",
      "                    (0): Conv2d(128, 128, kernel_size=(3, 3), stride=(1, 1), padding=(1, 1), bias=False)\n",
      "                    (1): CBAM(\n",
      "                      (channel_attention): ChannelAttention(\n",
      "                        (avg_pool): AdaptiveAvgPool2d(output_size=1)\n",
      "                        (max_pool): AdaptiveMaxPool2d(output_size=1)\n",
      "                        (fc): Sequential(\n",
      "                          (0): Conv2d(128, 8, kernel_size=(1, 1), stride=(1, 1), bias=False)\n",
      "                          (1): ReLU(inplace=True)\n",
      "                          (2): Conv2d(8, 128, kernel_size=(1, 1), stride=(1, 1), bias=False)\n",
      "                        )\n",
      "                        (sigmoid): Sigmoid()\n",
      "                      )\n",
      "                      (spatial_attention): SpatialAttention(\n",
      "                        (conv): Conv2d(2, 1, kernel_size=(7, 7), stride=(1, 1), padding=(3, 3), bias=False)\n",
      "                        (sigmoid): Sigmoid()\n",
      "                      )\n",
      "                    )\n",
      "                  )\n",
      "                  (bn): BatchNorm2d(128, eps=0.001, momentum=0.03, affine=True, track_running_stats=True)\n",
      "                  (act): SiLU(inplace=True)\n",
      "                )\n",
      "                (cv2): Conv(\n",
      "                  (conv): Sequential(\n",
      "                    (0): Conv2d(128, 128, kernel_size=(3, 3), stride=(1, 1), padding=(1, 1), bias=False)\n",
      "                    (1): CBAM(\n",
      "                      (channel_attention): ChannelAttention(\n",
      "                        (avg_pool): AdaptiveAvgPool2d(output_size=1)\n",
      "                        (max_pool): AdaptiveMaxPool2d(output_size=1)\n",
      "                        (fc): Sequential(\n",
      "                          (0): Conv2d(128, 8, kernel_size=(1, 1), stride=(1, 1), bias=False)\n",
      "                          (1): ReLU(inplace=True)\n",
      "                          (2): Conv2d(8, 128, kernel_size=(1, 1), stride=(1, 1), bias=False)\n",
      "                        )\n",
      "                        (sigmoid): Sigmoid()\n",
      "                      )\n",
      "                      (spatial_attention): SpatialAttention(\n",
      "                        (conv): Conv2d(2, 1, kernel_size=(7, 7), stride=(1, 1), padding=(3, 3), bias=False)\n",
      "                        (sigmoid): Sigmoid()\n",
      "                      )\n",
      "                    )\n",
      "                  )\n",
      "                  (bn): BatchNorm2d(128, eps=0.001, momentum=0.03, affine=True, track_running_stats=True)\n",
      "                  (act): SiLU(inplace=True)\n",
      "                )\n",
      "              )\n",
      "            )\n",
      "          )\n",
      "        )\n",
      "      )\n",
      "      (14): Upsample(scale_factor=2.0, mode='nearest')\n",
      "      (15): Concat()\n",
      "      (16): C3k2(\n",
      "        (cv1): Conv(\n",
      "          (conv): Sequential(\n",
      "            (0): Conv2d(1024, 256, kernel_size=(1, 1), stride=(1, 1), bias=False)\n",
      "            (1): CBAM(\n",
      "              (channel_attention): ChannelAttention(\n",
      "                (avg_pool): AdaptiveAvgPool2d(output_size=1)\n",
      "                (max_pool): AdaptiveMaxPool2d(output_size=1)\n",
      "                (fc): Sequential(\n",
      "                  (0): Conv2d(256, 16, kernel_size=(1, 1), stride=(1, 1), bias=False)\n",
      "                  (1): ReLU(inplace=True)\n",
      "                  (2): Conv2d(16, 256, kernel_size=(1, 1), stride=(1, 1), bias=False)\n",
      "                )\n",
      "                (sigmoid): Sigmoid()\n",
      "              )\n",
      "              (spatial_attention): SpatialAttention(\n",
      "                (conv): Conv2d(2, 1, kernel_size=(7, 7), stride=(1, 1), padding=(3, 3), bias=False)\n",
      "                (sigmoid): Sigmoid()\n",
      "              )\n",
      "            )\n",
      "          )\n",
      "          (bn): BatchNorm2d(256, eps=0.001, momentum=0.03, affine=True, track_running_stats=True)\n",
      "          (act): SiLU(inplace=True)\n",
      "        )\n",
      "        (cv2): Conv(\n",
      "          (conv): Sequential(\n",
      "            (0): Conv2d(384, 256, kernel_size=(1, 1), stride=(1, 1), bias=False)\n",
      "            (1): CBAM(\n",
      "              (channel_attention): ChannelAttention(\n",
      "                (avg_pool): AdaptiveAvgPool2d(output_size=1)\n",
      "                (max_pool): AdaptiveMaxPool2d(output_size=1)\n",
      "                (fc): Sequential(\n",
      "                  (0): Conv2d(256, 16, kernel_size=(1, 1), stride=(1, 1), bias=False)\n",
      "                  (1): ReLU(inplace=True)\n",
      "                  (2): Conv2d(16, 256, kernel_size=(1, 1), stride=(1, 1), bias=False)\n",
      "                )\n",
      "                (sigmoid): Sigmoid()\n",
      "              )\n",
      "              (spatial_attention): SpatialAttention(\n",
      "                (conv): Conv2d(2, 1, kernel_size=(7, 7), stride=(1, 1), padding=(3, 3), bias=False)\n",
      "                (sigmoid): Sigmoid()\n",
      "              )\n",
      "            )\n",
      "          )\n",
      "          (bn): BatchNorm2d(256, eps=0.001, momentum=0.03, affine=True, track_running_stats=True)\n",
      "          (act): SiLU(inplace=True)\n",
      "        )\n",
      "        (m): ModuleList(\n",
      "          (0): C3k(\n",
      "            (cv1): Conv(\n",
      "              (conv): Sequential(\n",
      "                (0): Conv2d(128, 64, kernel_size=(1, 1), stride=(1, 1), bias=False)\n",
      "                (1): CBAM(\n",
      "                  (channel_attention): ChannelAttention(\n",
      "                    (avg_pool): AdaptiveAvgPool2d(output_size=1)\n",
      "                    (max_pool): AdaptiveMaxPool2d(output_size=1)\n",
      "                    (fc): Sequential(\n",
      "                      (0): Conv2d(64, 4, kernel_size=(1, 1), stride=(1, 1), bias=False)\n",
      "                      (1): ReLU(inplace=True)\n",
      "                      (2): Conv2d(4, 64, kernel_size=(1, 1), stride=(1, 1), bias=False)\n",
      "                    )\n",
      "                    (sigmoid): Sigmoid()\n",
      "                  )\n",
      "                  (spatial_attention): SpatialAttention(\n",
      "                    (conv): Conv2d(2, 1, kernel_size=(7, 7), stride=(1, 1), padding=(3, 3), bias=False)\n",
      "                    (sigmoid): Sigmoid()\n",
      "                  )\n",
      "                )\n",
      "              )\n",
      "              (bn): BatchNorm2d(64, eps=0.001, momentum=0.03, affine=True, track_running_stats=True)\n",
      "              (act): SiLU(inplace=True)\n",
      "            )\n",
      "            (cv2): Conv(\n",
      "              (conv): Sequential(\n",
      "                (0): Conv2d(128, 64, kernel_size=(1, 1), stride=(1, 1), bias=False)\n",
      "                (1): CBAM(\n",
      "                  (channel_attention): ChannelAttention(\n",
      "                    (avg_pool): AdaptiveAvgPool2d(output_size=1)\n",
      "                    (max_pool): AdaptiveMaxPool2d(output_size=1)\n",
      "                    (fc): Sequential(\n",
      "                      (0): Conv2d(64, 4, kernel_size=(1, 1), stride=(1, 1), bias=False)\n",
      "                      (1): ReLU(inplace=True)\n",
      "                      (2): Conv2d(4, 64, kernel_size=(1, 1), stride=(1, 1), bias=False)\n",
      "                    )\n",
      "                    (sigmoid): Sigmoid()\n",
      "                  )\n",
      "                  (spatial_attention): SpatialAttention(\n",
      "                    (conv): Conv2d(2, 1, kernel_size=(7, 7), stride=(1, 1), padding=(3, 3), bias=False)\n",
      "                    (sigmoid): Sigmoid()\n",
      "                  )\n",
      "                )\n",
      "              )\n",
      "              (bn): BatchNorm2d(64, eps=0.001, momentum=0.03, affine=True, track_running_stats=True)\n",
      "              (act): SiLU(inplace=True)\n",
      "            )\n",
      "            (cv3): Conv(\n",
      "              (conv): Sequential(\n",
      "                (0): Conv2d(128, 128, kernel_size=(1, 1), stride=(1, 1), bias=False)\n",
      "                (1): CBAM(\n",
      "                  (channel_attention): ChannelAttention(\n",
      "                    (avg_pool): AdaptiveAvgPool2d(output_size=1)\n",
      "                    (max_pool): AdaptiveMaxPool2d(output_size=1)\n",
      "                    (fc): Sequential(\n",
      "                      (0): Conv2d(128, 8, kernel_size=(1, 1), stride=(1, 1), bias=False)\n",
      "                      (1): ReLU(inplace=True)\n",
      "                      (2): Conv2d(8, 128, kernel_size=(1, 1), stride=(1, 1), bias=False)\n",
      "                    )\n",
      "                    (sigmoid): Sigmoid()\n",
      "                  )\n",
      "                  (spatial_attention): SpatialAttention(\n",
      "                    (conv): Conv2d(2, 1, kernel_size=(7, 7), stride=(1, 1), padding=(3, 3), bias=False)\n",
      "                    (sigmoid): Sigmoid()\n",
      "                  )\n",
      "                )\n",
      "              )\n",
      "              (bn): BatchNorm2d(128, eps=0.001, momentum=0.03, affine=True, track_running_stats=True)\n",
      "              (act): SiLU(inplace=True)\n",
      "            )\n",
      "            (m): Sequential(\n",
      "              (0): Bottleneck(\n",
      "                (cv1): Conv(\n",
      "                  (conv): Sequential(\n",
      "                    (0): Conv2d(64, 64, kernel_size=(3, 3), stride=(1, 1), padding=(1, 1), bias=False)\n",
      "                    (1): CBAM(\n",
      "                      (channel_attention): ChannelAttention(\n",
      "                        (avg_pool): AdaptiveAvgPool2d(output_size=1)\n",
      "                        (max_pool): AdaptiveMaxPool2d(output_size=1)\n",
      "                        (fc): Sequential(\n",
      "                          (0): Conv2d(64, 4, kernel_size=(1, 1), stride=(1, 1), bias=False)\n",
      "                          (1): ReLU(inplace=True)\n",
      "                          (2): Conv2d(4, 64, kernel_size=(1, 1), stride=(1, 1), bias=False)\n",
      "                        )\n",
      "                        (sigmoid): Sigmoid()\n",
      "                      )\n",
      "                      (spatial_attention): SpatialAttention(\n",
      "                        (conv): Conv2d(2, 1, kernel_size=(7, 7), stride=(1, 1), padding=(3, 3), bias=False)\n",
      "                        (sigmoid): Sigmoid()\n",
      "                      )\n",
      "                    )\n",
      "                  )\n",
      "                  (bn): BatchNorm2d(64, eps=0.001, momentum=0.03, affine=True, track_running_stats=True)\n",
      "                  (act): SiLU(inplace=True)\n",
      "                )\n",
      "                (cv2): Conv(\n",
      "                  (conv): Sequential(\n",
      "                    (0): Conv2d(64, 64, kernel_size=(3, 3), stride=(1, 1), padding=(1, 1), bias=False)\n",
      "                    (1): CBAM(\n",
      "                      (channel_attention): ChannelAttention(\n",
      "                        (avg_pool): AdaptiveAvgPool2d(output_size=1)\n",
      "                        (max_pool): AdaptiveMaxPool2d(output_size=1)\n",
      "                        (fc): Sequential(\n",
      "                          (0): Conv2d(64, 4, kernel_size=(1, 1), stride=(1, 1), bias=False)\n",
      "                          (1): ReLU(inplace=True)\n",
      "                          (2): Conv2d(4, 64, kernel_size=(1, 1), stride=(1, 1), bias=False)\n",
      "                        )\n",
      "                        (sigmoid): Sigmoid()\n",
      "                      )\n",
      "                      (spatial_attention): SpatialAttention(\n",
      "                        (conv): Conv2d(2, 1, kernel_size=(7, 7), stride=(1, 1), padding=(3, 3), bias=False)\n",
      "                        (sigmoid): Sigmoid()\n",
      "                      )\n",
      "                    )\n",
      "                  )\n",
      "                  (bn): BatchNorm2d(64, eps=0.001, momentum=0.03, affine=True, track_running_stats=True)\n",
      "                  (act): SiLU(inplace=True)\n",
      "                )\n",
      "              )\n",
      "              (1): Bottleneck(\n",
      "                (cv1): Conv(\n",
      "                  (conv): Sequential(\n",
      "                    (0): Conv2d(64, 64, kernel_size=(3, 3), stride=(1, 1), padding=(1, 1), bias=False)\n",
      "                    (1): CBAM(\n",
      "                      (channel_attention): ChannelAttention(\n",
      "                        (avg_pool): AdaptiveAvgPool2d(output_size=1)\n",
      "                        (max_pool): AdaptiveMaxPool2d(output_size=1)\n",
      "                        (fc): Sequential(\n",
      "                          (0): Conv2d(64, 4, kernel_size=(1, 1), stride=(1, 1), bias=False)\n",
      "                          (1): ReLU(inplace=True)\n",
      "                          (2): Conv2d(4, 64, kernel_size=(1, 1), stride=(1, 1), bias=False)\n",
      "                        )\n",
      "                        (sigmoid): Sigmoid()\n",
      "                      )\n",
      "                      (spatial_attention): SpatialAttention(\n",
      "                        (conv): Conv2d(2, 1, kernel_size=(7, 7), stride=(1, 1), padding=(3, 3), bias=False)\n",
      "                        (sigmoid): Sigmoid()\n",
      "                      )\n",
      "                    )\n",
      "                  )\n",
      "                  (bn): BatchNorm2d(64, eps=0.001, momentum=0.03, affine=True, track_running_stats=True)\n",
      "                  (act): SiLU(inplace=True)\n",
      "                )\n",
      "                (cv2): Conv(\n",
      "                  (conv): Sequential(\n",
      "                    (0): Conv2d(64, 64, kernel_size=(3, 3), stride=(1, 1), padding=(1, 1), bias=False)\n",
      "                    (1): CBAM(\n",
      "                      (channel_attention): ChannelAttention(\n",
      "                        (avg_pool): AdaptiveAvgPool2d(output_size=1)\n",
      "                        (max_pool): AdaptiveMaxPool2d(output_size=1)\n",
      "                        (fc): Sequential(\n",
      "                          (0): Conv2d(64, 4, kernel_size=(1, 1), stride=(1, 1), bias=False)\n",
      "                          (1): ReLU(inplace=True)\n",
      "                          (2): Conv2d(4, 64, kernel_size=(1, 1), stride=(1, 1), bias=False)\n",
      "                        )\n",
      "                        (sigmoid): Sigmoid()\n",
      "                      )\n",
      "                      (spatial_attention): SpatialAttention(\n",
      "                        (conv): Conv2d(2, 1, kernel_size=(7, 7), stride=(1, 1), padding=(3, 3), bias=False)\n",
      "                        (sigmoid): Sigmoid()\n",
      "                      )\n",
      "                    )\n",
      "                  )\n",
      "                  (bn): BatchNorm2d(64, eps=0.001, momentum=0.03, affine=True, track_running_stats=True)\n",
      "                  (act): SiLU(inplace=True)\n",
      "                )\n",
      "              )\n",
      "            )\n",
      "          )\n",
      "        )\n",
      "      )\n",
      "      (17): Conv(\n",
      "        (conv): Sequential(\n",
      "          (0): Conv2d(256, 256, kernel_size=(3, 3), stride=(2, 2), padding=(1, 1), bias=False)\n",
      "          (1): CBAM(\n",
      "            (channel_attention): ChannelAttention(\n",
      "              (avg_pool): AdaptiveAvgPool2d(output_size=1)\n",
      "              (max_pool): AdaptiveMaxPool2d(output_size=1)\n",
      "              (fc): Sequential(\n",
      "                (0): Conv2d(256, 16, kernel_size=(1, 1), stride=(1, 1), bias=False)\n",
      "                (1): ReLU(inplace=True)\n",
      "                (2): Conv2d(16, 256, kernel_size=(1, 1), stride=(1, 1), bias=False)\n",
      "              )\n",
      "              (sigmoid): Sigmoid()\n",
      "            )\n",
      "            (spatial_attention): SpatialAttention(\n",
      "              (conv): Conv2d(2, 1, kernel_size=(7, 7), stride=(1, 1), padding=(3, 3), bias=False)\n",
      "              (sigmoid): Sigmoid()\n",
      "            )\n",
      "          )\n",
      "        )\n",
      "        (bn): BatchNorm2d(256, eps=0.001, momentum=0.03, affine=True, track_running_stats=True)\n",
      "        (act): SiLU(inplace=True)\n",
      "      )\n",
      "      (18): Concat()\n",
      "      (19): C3k2(\n",
      "        (cv1): Conv(\n",
      "          (conv): Sequential(\n",
      "            (0): Conv2d(768, 512, kernel_size=(1, 1), stride=(1, 1), bias=False)\n",
      "            (1): CBAM(\n",
      "              (channel_attention): ChannelAttention(\n",
      "                (avg_pool): AdaptiveAvgPool2d(output_size=1)\n",
      "                (max_pool): AdaptiveMaxPool2d(output_size=1)\n",
      "                (fc): Sequential(\n",
      "                  (0): Conv2d(512, 32, kernel_size=(1, 1), stride=(1, 1), bias=False)\n",
      "                  (1): ReLU(inplace=True)\n",
      "                  (2): Conv2d(32, 512, kernel_size=(1, 1), stride=(1, 1), bias=False)\n",
      "                )\n",
      "                (sigmoid): Sigmoid()\n",
      "              )\n",
      "              (spatial_attention): SpatialAttention(\n",
      "                (conv): Conv2d(2, 1, kernel_size=(7, 7), stride=(1, 1), padding=(3, 3), bias=False)\n",
      "                (sigmoid): Sigmoid()\n",
      "              )\n",
      "            )\n",
      "          )\n",
      "          (bn): BatchNorm2d(512, eps=0.001, momentum=0.03, affine=True, track_running_stats=True)\n",
      "          (act): SiLU(inplace=True)\n",
      "        )\n",
      "        (cv2): Conv(\n",
      "          (conv): Sequential(\n",
      "            (0): Conv2d(768, 512, kernel_size=(1, 1), stride=(1, 1), bias=False)\n",
      "            (1): CBAM(\n",
      "              (channel_attention): ChannelAttention(\n",
      "                (avg_pool): AdaptiveAvgPool2d(output_size=1)\n",
      "                (max_pool): AdaptiveMaxPool2d(output_size=1)\n",
      "                (fc): Sequential(\n",
      "                  (0): Conv2d(512, 32, kernel_size=(1, 1), stride=(1, 1), bias=False)\n",
      "                  (1): ReLU(inplace=True)\n",
      "                  (2): Conv2d(32, 512, kernel_size=(1, 1), stride=(1, 1), bias=False)\n",
      "                )\n",
      "                (sigmoid): Sigmoid()\n",
      "              )\n",
      "              (spatial_attention): SpatialAttention(\n",
      "                (conv): Conv2d(2, 1, kernel_size=(7, 7), stride=(1, 1), padding=(3, 3), bias=False)\n",
      "                (sigmoid): Sigmoid()\n",
      "              )\n",
      "            )\n",
      "          )\n",
      "          (bn): BatchNorm2d(512, eps=0.001, momentum=0.03, affine=True, track_running_stats=True)\n",
      "          (act): SiLU(inplace=True)\n",
      "        )\n",
      "        (m): ModuleList(\n",
      "          (0): C3k(\n",
      "            (cv1): Conv(\n",
      "              (conv): Sequential(\n",
      "                (0): Conv2d(256, 128, kernel_size=(1, 1), stride=(1, 1), bias=False)\n",
      "                (1): CBAM(\n",
      "                  (channel_attention): ChannelAttention(\n",
      "                    (avg_pool): AdaptiveAvgPool2d(output_size=1)\n",
      "                    (max_pool): AdaptiveMaxPool2d(output_size=1)\n",
      "                    (fc): Sequential(\n",
      "                      (0): Conv2d(128, 8, kernel_size=(1, 1), stride=(1, 1), bias=False)\n",
      "                      (1): ReLU(inplace=True)\n",
      "                      (2): Conv2d(8, 128, kernel_size=(1, 1), stride=(1, 1), bias=False)\n",
      "                    )\n",
      "                    (sigmoid): Sigmoid()\n",
      "                  )\n",
      "                  (spatial_attention): SpatialAttention(\n",
      "                    (conv): Conv2d(2, 1, kernel_size=(7, 7), stride=(1, 1), padding=(3, 3), bias=False)\n",
      "                    (sigmoid): Sigmoid()\n",
      "                  )\n",
      "                )\n",
      "              )\n",
      "              (bn): BatchNorm2d(128, eps=0.001, momentum=0.03, affine=True, track_running_stats=True)\n",
      "              (act): SiLU(inplace=True)\n",
      "            )\n",
      "            (cv2): Conv(\n",
      "              (conv): Sequential(\n",
      "                (0): Conv2d(256, 128, kernel_size=(1, 1), stride=(1, 1), bias=False)\n",
      "                (1): CBAM(\n",
      "                  (channel_attention): ChannelAttention(\n",
      "                    (avg_pool): AdaptiveAvgPool2d(output_size=1)\n",
      "                    (max_pool): AdaptiveMaxPool2d(output_size=1)\n",
      "                    (fc): Sequential(\n",
      "                      (0): Conv2d(128, 8, kernel_size=(1, 1), stride=(1, 1), bias=False)\n",
      "                      (1): ReLU(inplace=True)\n",
      "                      (2): Conv2d(8, 128, kernel_size=(1, 1), stride=(1, 1), bias=False)\n",
      "                    )\n",
      "                    (sigmoid): Sigmoid()\n",
      "                  )\n",
      "                  (spatial_attention): SpatialAttention(\n",
      "                    (conv): Conv2d(2, 1, kernel_size=(7, 7), stride=(1, 1), padding=(3, 3), bias=False)\n",
      "                    (sigmoid): Sigmoid()\n",
      "                  )\n",
      "                )\n",
      "              )\n",
      "              (bn): BatchNorm2d(128, eps=0.001, momentum=0.03, affine=True, track_running_stats=True)\n",
      "              (act): SiLU(inplace=True)\n",
      "            )\n",
      "            (cv3): Conv(\n",
      "              (conv): Sequential(\n",
      "                (0): Conv2d(256, 256, kernel_size=(1, 1), stride=(1, 1), bias=False)\n",
      "                (1): CBAM(\n",
      "                  (channel_attention): ChannelAttention(\n",
      "                    (avg_pool): AdaptiveAvgPool2d(output_size=1)\n",
      "                    (max_pool): AdaptiveMaxPool2d(output_size=1)\n",
      "                    (fc): Sequential(\n",
      "                      (0): Conv2d(256, 16, kernel_size=(1, 1), stride=(1, 1), bias=False)\n",
      "                      (1): ReLU(inplace=True)\n",
      "                      (2): Conv2d(16, 256, kernel_size=(1, 1), stride=(1, 1), bias=False)\n",
      "                    )\n",
      "                    (sigmoid): Sigmoid()\n",
      "                  )\n",
      "                  (spatial_attention): SpatialAttention(\n",
      "                    (conv): Conv2d(2, 1, kernel_size=(7, 7), stride=(1, 1), padding=(3, 3), bias=False)\n",
      "                    (sigmoid): Sigmoid()\n",
      "                  )\n",
      "                )\n",
      "              )\n",
      "              (bn): BatchNorm2d(256, eps=0.001, momentum=0.03, affine=True, track_running_stats=True)\n",
      "              (act): SiLU(inplace=True)\n",
      "            )\n",
      "            (m): Sequential(\n",
      "              (0): Bottleneck(\n",
      "                (cv1): Conv(\n",
      "                  (conv): Sequential(\n",
      "                    (0): Conv2d(128, 128, kernel_size=(3, 3), stride=(1, 1), padding=(1, 1), bias=False)\n",
      "                    (1): CBAM(\n",
      "                      (channel_attention): ChannelAttention(\n",
      "                        (avg_pool): AdaptiveAvgPool2d(output_size=1)\n",
      "                        (max_pool): AdaptiveMaxPool2d(output_size=1)\n",
      "                        (fc): Sequential(\n",
      "                          (0): Conv2d(128, 8, kernel_size=(1, 1), stride=(1, 1), bias=False)\n",
      "                          (1): ReLU(inplace=True)\n",
      "                          (2): Conv2d(8, 128, kernel_size=(1, 1), stride=(1, 1), bias=False)\n",
      "                        )\n",
      "                        (sigmoid): Sigmoid()\n",
      "                      )\n",
      "                      (spatial_attention): SpatialAttention(\n",
      "                        (conv): Conv2d(2, 1, kernel_size=(7, 7), stride=(1, 1), padding=(3, 3), bias=False)\n",
      "                        (sigmoid): Sigmoid()\n",
      "                      )\n",
      "                    )\n",
      "                  )\n",
      "                  (bn): BatchNorm2d(128, eps=0.001, momentum=0.03, affine=True, track_running_stats=True)\n",
      "                  (act): SiLU(inplace=True)\n",
      "                )\n",
      "                (cv2): Conv(\n",
      "                  (conv): Sequential(\n",
      "                    (0): Conv2d(128, 128, kernel_size=(3, 3), stride=(1, 1), padding=(1, 1), bias=False)\n",
      "                    (1): CBAM(\n",
      "                      (channel_attention): ChannelAttention(\n",
      "                        (avg_pool): AdaptiveAvgPool2d(output_size=1)\n",
      "                        (max_pool): AdaptiveMaxPool2d(output_size=1)\n",
      "                        (fc): Sequential(\n",
      "                          (0): Conv2d(128, 8, kernel_size=(1, 1), stride=(1, 1), bias=False)\n",
      "                          (1): ReLU(inplace=True)\n",
      "                          (2): Conv2d(8, 128, kernel_size=(1, 1), stride=(1, 1), bias=False)\n",
      "                        )\n",
      "                        (sigmoid): Sigmoid()\n",
      "                      )\n",
      "                      (spatial_attention): SpatialAttention(\n",
      "                        (conv): Conv2d(2, 1, kernel_size=(7, 7), stride=(1, 1), padding=(3, 3), bias=False)\n",
      "                        (sigmoid): Sigmoid()\n",
      "                      )\n",
      "                    )\n",
      "                  )\n",
      "                  (bn): BatchNorm2d(128, eps=0.001, momentum=0.03, affine=True, track_running_stats=True)\n",
      "                  (act): SiLU(inplace=True)\n",
      "                )\n",
      "              )\n",
      "              (1): Bottleneck(\n",
      "                (cv1): Conv(\n",
      "                  (conv): Sequential(\n",
      "                    (0): Conv2d(128, 128, kernel_size=(3, 3), stride=(1, 1), padding=(1, 1), bias=False)\n",
      "                    (1): CBAM(\n",
      "                      (channel_attention): ChannelAttention(\n",
      "                        (avg_pool): AdaptiveAvgPool2d(output_size=1)\n",
      "                        (max_pool): AdaptiveMaxPool2d(output_size=1)\n",
      "                        (fc): Sequential(\n",
      "                          (0): Conv2d(128, 8, kernel_size=(1, 1), stride=(1, 1), bias=False)\n",
      "                          (1): ReLU(inplace=True)\n",
      "                          (2): Conv2d(8, 128, kernel_size=(1, 1), stride=(1, 1), bias=False)\n",
      "                        )\n",
      "                        (sigmoid): Sigmoid()\n",
      "                      )\n",
      "                      (spatial_attention): SpatialAttention(\n",
      "                        (conv): Conv2d(2, 1, kernel_size=(7, 7), stride=(1, 1), padding=(3, 3), bias=False)\n",
      "                        (sigmoid): Sigmoid()\n",
      "                      )\n",
      "                    )\n",
      "                  )\n",
      "                  (bn): BatchNorm2d(128, eps=0.001, momentum=0.03, affine=True, track_running_stats=True)\n",
      "                  (act): SiLU(inplace=True)\n",
      "                )\n",
      "                (cv2): Conv(\n",
      "                  (conv): Sequential(\n",
      "                    (0): Conv2d(128, 128, kernel_size=(3, 3), stride=(1, 1), padding=(1, 1), bias=False)\n",
      "                    (1): CBAM(\n",
      "                      (channel_attention): ChannelAttention(\n",
      "                        (avg_pool): AdaptiveAvgPool2d(output_size=1)\n",
      "                        (max_pool): AdaptiveMaxPool2d(output_size=1)\n",
      "                        (fc): Sequential(\n",
      "                          (0): Conv2d(128, 8, kernel_size=(1, 1), stride=(1, 1), bias=False)\n",
      "                          (1): ReLU(inplace=True)\n",
      "                          (2): Conv2d(8, 128, kernel_size=(1, 1), stride=(1, 1), bias=False)\n",
      "                        )\n",
      "                        (sigmoid): Sigmoid()\n",
      "                      )\n",
      "                      (spatial_attention): SpatialAttention(\n",
      "                        (conv): Conv2d(2, 1, kernel_size=(7, 7), stride=(1, 1), padding=(3, 3), bias=False)\n",
      "                        (sigmoid): Sigmoid()\n",
      "                      )\n",
      "                    )\n",
      "                  )\n",
      "                  (bn): BatchNorm2d(128, eps=0.001, momentum=0.03, affine=True, track_running_stats=True)\n",
      "                  (act): SiLU(inplace=True)\n",
      "                )\n",
      "              )\n",
      "            )\n",
      "          )\n",
      "        )\n",
      "      )\n",
      "      (20): Conv(\n",
      "        (conv): Sequential(\n",
      "          (0): Conv2d(512, 512, kernel_size=(3, 3), stride=(2, 2), padding=(1, 1), bias=False)\n",
      "          (1): CBAM(\n",
      "            (channel_attention): ChannelAttention(\n",
      "              (avg_pool): AdaptiveAvgPool2d(output_size=1)\n",
      "              (max_pool): AdaptiveMaxPool2d(output_size=1)\n",
      "              (fc): Sequential(\n",
      "                (0): Conv2d(512, 32, kernel_size=(1, 1), stride=(1, 1), bias=False)\n",
      "                (1): ReLU(inplace=True)\n",
      "                (2): Conv2d(32, 512, kernel_size=(1, 1), stride=(1, 1), bias=False)\n",
      "              )\n",
      "              (sigmoid): Sigmoid()\n",
      "            )\n",
      "            (spatial_attention): SpatialAttention(\n",
      "              (conv): Conv2d(2, 1, kernel_size=(7, 7), stride=(1, 1), padding=(3, 3), bias=False)\n",
      "              (sigmoid): Sigmoid()\n",
      "            )\n",
      "          )\n",
      "        )\n",
      "        (bn): BatchNorm2d(512, eps=0.001, momentum=0.03, affine=True, track_running_stats=True)\n",
      "        (act): SiLU(inplace=True)\n",
      "      )\n",
      "      (21): Concat()\n",
      "      (22): C3k2(\n",
      "        (cv1): Conv(\n",
      "          (conv): Sequential(\n",
      "            (0): Conv2d(1024, 512, kernel_size=(1, 1), stride=(1, 1), bias=False)\n",
      "            (1): CBAM(\n",
      "              (channel_attention): ChannelAttention(\n",
      "                (avg_pool): AdaptiveAvgPool2d(output_size=1)\n",
      "                (max_pool): AdaptiveMaxPool2d(output_size=1)\n",
      "                (fc): Sequential(\n",
      "                  (0): Conv2d(512, 32, kernel_size=(1, 1), stride=(1, 1), bias=False)\n",
      "                  (1): ReLU(inplace=True)\n",
      "                  (2): Conv2d(32, 512, kernel_size=(1, 1), stride=(1, 1), bias=False)\n",
      "                )\n",
      "                (sigmoid): Sigmoid()\n",
      "              )\n",
      "              (spatial_attention): SpatialAttention(\n",
      "                (conv): Conv2d(2, 1, kernel_size=(7, 7), stride=(1, 1), padding=(3, 3), bias=False)\n",
      "                (sigmoid): Sigmoid()\n",
      "              )\n",
      "            )\n",
      "          )\n",
      "          (bn): BatchNorm2d(512, eps=0.001, momentum=0.03, affine=True, track_running_stats=True)\n",
      "          (act): SiLU(inplace=True)\n",
      "        )\n",
      "        (cv2): Conv(\n",
      "          (conv): Sequential(\n",
      "            (0): Conv2d(768, 512, kernel_size=(1, 1), stride=(1, 1), bias=False)\n",
      "            (1): CBAM(\n",
      "              (channel_attention): ChannelAttention(\n",
      "                (avg_pool): AdaptiveAvgPool2d(output_size=1)\n",
      "                (max_pool): AdaptiveMaxPool2d(output_size=1)\n",
      "                (fc): Sequential(\n",
      "                  (0): Conv2d(512, 32, kernel_size=(1, 1), stride=(1, 1), bias=False)\n",
      "                  (1): ReLU(inplace=True)\n",
      "                  (2): Conv2d(32, 512, kernel_size=(1, 1), stride=(1, 1), bias=False)\n",
      "                )\n",
      "                (sigmoid): Sigmoid()\n",
      "              )\n",
      "              (spatial_attention): SpatialAttention(\n",
      "                (conv): Conv2d(2, 1, kernel_size=(7, 7), stride=(1, 1), padding=(3, 3), bias=False)\n",
      "                (sigmoid): Sigmoid()\n",
      "              )\n",
      "            )\n",
      "          )\n",
      "          (bn): BatchNorm2d(512, eps=0.001, momentum=0.03, affine=True, track_running_stats=True)\n",
      "          (act): SiLU(inplace=True)\n",
      "        )\n",
      "        (m): ModuleList(\n",
      "          (0): C3k(\n",
      "            (cv1): Conv(\n",
      "              (conv): Sequential(\n",
      "                (0): Conv2d(256, 128, kernel_size=(1, 1), stride=(1, 1), bias=False)\n",
      "                (1): CBAM(\n",
      "                  (channel_attention): ChannelAttention(\n",
      "                    (avg_pool): AdaptiveAvgPool2d(output_size=1)\n",
      "                    (max_pool): AdaptiveMaxPool2d(output_size=1)\n",
      "                    (fc): Sequential(\n",
      "                      (0): Conv2d(128, 8, kernel_size=(1, 1), stride=(1, 1), bias=False)\n",
      "                      (1): ReLU(inplace=True)\n",
      "                      (2): Conv2d(8, 128, kernel_size=(1, 1), stride=(1, 1), bias=False)\n",
      "                    )\n",
      "                    (sigmoid): Sigmoid()\n",
      "                  )\n",
      "                  (spatial_attention): SpatialAttention(\n",
      "                    (conv): Conv2d(2, 1, kernel_size=(7, 7), stride=(1, 1), padding=(3, 3), bias=False)\n",
      "                    (sigmoid): Sigmoid()\n",
      "                  )\n",
      "                )\n",
      "              )\n",
      "              (bn): BatchNorm2d(128, eps=0.001, momentum=0.03, affine=True, track_running_stats=True)\n",
      "              (act): SiLU(inplace=True)\n",
      "            )\n",
      "            (cv2): Conv(\n",
      "              (conv): Sequential(\n",
      "                (0): Conv2d(256, 128, kernel_size=(1, 1), stride=(1, 1), bias=False)\n",
      "                (1): CBAM(\n",
      "                  (channel_attention): ChannelAttention(\n",
      "                    (avg_pool): AdaptiveAvgPool2d(output_size=1)\n",
      "                    (max_pool): AdaptiveMaxPool2d(output_size=1)\n",
      "                    (fc): Sequential(\n",
      "                      (0): Conv2d(128, 8, kernel_size=(1, 1), stride=(1, 1), bias=False)\n",
      "                      (1): ReLU(inplace=True)\n",
      "                      (2): Conv2d(8, 128, kernel_size=(1, 1), stride=(1, 1), bias=False)\n",
      "                    )\n",
      "                    (sigmoid): Sigmoid()\n",
      "                  )\n",
      "                  (spatial_attention): SpatialAttention(\n",
      "                    (conv): Conv2d(2, 1, kernel_size=(7, 7), stride=(1, 1), padding=(3, 3), bias=False)\n",
      "                    (sigmoid): Sigmoid()\n",
      "                  )\n",
      "                )\n",
      "              )\n",
      "              (bn): BatchNorm2d(128, eps=0.001, momentum=0.03, affine=True, track_running_stats=True)\n",
      "              (act): SiLU(inplace=True)\n",
      "            )\n",
      "            (cv3): Conv(\n",
      "              (conv): Sequential(\n",
      "                (0): Conv2d(256, 256, kernel_size=(1, 1), stride=(1, 1), bias=False)\n",
      "                (1): CBAM(\n",
      "                  (channel_attention): ChannelAttention(\n",
      "                    (avg_pool): AdaptiveAvgPool2d(output_size=1)\n",
      "                    (max_pool): AdaptiveMaxPool2d(output_size=1)\n",
      "                    (fc): Sequential(\n",
      "                      (0): Conv2d(256, 16, kernel_size=(1, 1), stride=(1, 1), bias=False)\n",
      "                      (1): ReLU(inplace=True)\n",
      "                      (2): Conv2d(16, 256, kernel_size=(1, 1), stride=(1, 1), bias=False)\n",
      "                    )\n",
      "                    (sigmoid): Sigmoid()\n",
      "                  )\n",
      "                  (spatial_attention): SpatialAttention(\n",
      "                    (conv): Conv2d(2, 1, kernel_size=(7, 7), stride=(1, 1), padding=(3, 3), bias=False)\n",
      "                    (sigmoid): Sigmoid()\n",
      "                  )\n",
      "                )\n",
      "              )\n",
      "              (bn): BatchNorm2d(256, eps=0.001, momentum=0.03, affine=True, track_running_stats=True)\n",
      "              (act): SiLU(inplace=True)\n",
      "            )\n",
      "            (m): Sequential(\n",
      "              (0): Bottleneck(\n",
      "                (cv1): Conv(\n",
      "                  (conv): Sequential(\n",
      "                    (0): Conv2d(128, 128, kernel_size=(3, 3), stride=(1, 1), padding=(1, 1), bias=False)\n",
      "                    (1): CBAM(\n",
      "                      (channel_attention): ChannelAttention(\n",
      "                        (avg_pool): AdaptiveAvgPool2d(output_size=1)\n",
      "                        (max_pool): AdaptiveMaxPool2d(output_size=1)\n",
      "                        (fc): Sequential(\n",
      "                          (0): Conv2d(128, 8, kernel_size=(1, 1), stride=(1, 1), bias=False)\n",
      "                          (1): ReLU(inplace=True)\n",
      "                          (2): Conv2d(8, 128, kernel_size=(1, 1), stride=(1, 1), bias=False)\n",
      "                        )\n",
      "                        (sigmoid): Sigmoid()\n",
      "                      )\n",
      "                      (spatial_attention): SpatialAttention(\n",
      "                        (conv): Conv2d(2, 1, kernel_size=(7, 7), stride=(1, 1), padding=(3, 3), bias=False)\n",
      "                        (sigmoid): Sigmoid()\n",
      "                      )\n",
      "                    )\n",
      "                  )\n",
      "                  (bn): BatchNorm2d(128, eps=0.001, momentum=0.03, affine=True, track_running_stats=True)\n",
      "                  (act): SiLU(inplace=True)\n",
      "                )\n",
      "                (cv2): Conv(\n",
      "                  (conv): Sequential(\n",
      "                    (0): Conv2d(128, 128, kernel_size=(3, 3), stride=(1, 1), padding=(1, 1), bias=False)\n",
      "                    (1): CBAM(\n",
      "                      (channel_attention): ChannelAttention(\n",
      "                        (avg_pool): AdaptiveAvgPool2d(output_size=1)\n",
      "                        (max_pool): AdaptiveMaxPool2d(output_size=1)\n",
      "                        (fc): Sequential(\n",
      "                          (0): Conv2d(128, 8, kernel_size=(1, 1), stride=(1, 1), bias=False)\n",
      "                          (1): ReLU(inplace=True)\n",
      "                          (2): Conv2d(8, 128, kernel_size=(1, 1), stride=(1, 1), bias=False)\n",
      "                        )\n",
      "                        (sigmoid): Sigmoid()\n",
      "                      )\n",
      "                      (spatial_attention): SpatialAttention(\n",
      "                        (conv): Conv2d(2, 1, kernel_size=(7, 7), stride=(1, 1), padding=(3, 3), bias=False)\n",
      "                        (sigmoid): Sigmoid()\n",
      "                      )\n",
      "                    )\n",
      "                  )\n",
      "                  (bn): BatchNorm2d(128, eps=0.001, momentum=0.03, affine=True, track_running_stats=True)\n",
      "                  (act): SiLU(inplace=True)\n",
      "                )\n",
      "              )\n",
      "              (1): Bottleneck(\n",
      "                (cv1): Conv(\n",
      "                  (conv): Sequential(\n",
      "                    (0): Conv2d(128, 128, kernel_size=(3, 3), stride=(1, 1), padding=(1, 1), bias=False)\n",
      "                    (1): CBAM(\n",
      "                      (channel_attention): ChannelAttention(\n",
      "                        (avg_pool): AdaptiveAvgPool2d(output_size=1)\n",
      "                        (max_pool): AdaptiveMaxPool2d(output_size=1)\n",
      "                        (fc): Sequential(\n",
      "                          (0): Conv2d(128, 8, kernel_size=(1, 1), stride=(1, 1), bias=False)\n",
      "                          (1): ReLU(inplace=True)\n",
      "                          (2): Conv2d(8, 128, kernel_size=(1, 1), stride=(1, 1), bias=False)\n",
      "                        )\n",
      "                        (sigmoid): Sigmoid()\n",
      "                      )\n",
      "                      (spatial_attention): SpatialAttention(\n",
      "                        (conv): Conv2d(2, 1, kernel_size=(7, 7), stride=(1, 1), padding=(3, 3), bias=False)\n",
      "                        (sigmoid): Sigmoid()\n",
      "                      )\n",
      "                    )\n",
      "                  )\n",
      "                  (bn): BatchNorm2d(128, eps=0.001, momentum=0.03, affine=True, track_running_stats=True)\n",
      "                  (act): SiLU(inplace=True)\n",
      "                )\n",
      "                (cv2): Conv(\n",
      "                  (conv): Sequential(\n",
      "                    (0): Conv2d(128, 128, kernel_size=(3, 3), stride=(1, 1), padding=(1, 1), bias=False)\n",
      "                    (1): CBAM(\n",
      "                      (channel_attention): ChannelAttention(\n",
      "                        (avg_pool): AdaptiveAvgPool2d(output_size=1)\n",
      "                        (max_pool): AdaptiveMaxPool2d(output_size=1)\n",
      "                        (fc): Sequential(\n",
      "                          (0): Conv2d(128, 8, kernel_size=(1, 1), stride=(1, 1), bias=False)\n",
      "                          (1): ReLU(inplace=True)\n",
      "                          (2): Conv2d(8, 128, kernel_size=(1, 1), stride=(1, 1), bias=False)\n",
      "                        )\n",
      "                        (sigmoid): Sigmoid()\n",
      "                      )\n",
      "                      (spatial_attention): SpatialAttention(\n",
      "                        (conv): Conv2d(2, 1, kernel_size=(7, 7), stride=(1, 1), padding=(3, 3), bias=False)\n",
      "                        (sigmoid): Sigmoid()\n",
      "                      )\n",
      "                    )\n",
      "                  )\n",
      "                  (bn): BatchNorm2d(128, eps=0.001, momentum=0.03, affine=True, track_running_stats=True)\n",
      "                  (act): SiLU(inplace=True)\n",
      "                )\n",
      "              )\n",
      "            )\n",
      "          )\n",
      "        )\n",
      "      )\n",
      "      (23): Detect(\n",
      "        (cv2): ModuleList(\n",
      "          (0): Sequential(\n",
      "            (0): Conv(\n",
      "              (conv): Sequential(\n",
      "                (0): Conv2d(256, 64, kernel_size=(3, 3), stride=(1, 1), padding=(1, 1), bias=False)\n",
      "                (1): CBAM(\n",
      "                  (channel_attention): ChannelAttention(\n",
      "                    (avg_pool): AdaptiveAvgPool2d(output_size=1)\n",
      "                    (max_pool): AdaptiveMaxPool2d(output_size=1)\n",
      "                    (fc): Sequential(\n",
      "                      (0): Conv2d(64, 4, kernel_size=(1, 1), stride=(1, 1), bias=False)\n",
      "                      (1): ReLU(inplace=True)\n",
      "                      (2): Conv2d(4, 64, kernel_size=(1, 1), stride=(1, 1), bias=False)\n",
      "                    )\n",
      "                    (sigmoid): Sigmoid()\n",
      "                  )\n",
      "                  (spatial_attention): SpatialAttention(\n",
      "                    (conv): Conv2d(2, 1, kernel_size=(7, 7), stride=(1, 1), padding=(3, 3), bias=False)\n",
      "                    (sigmoid): Sigmoid()\n",
      "                  )\n",
      "                )\n",
      "              )\n",
      "              (bn): BatchNorm2d(64, eps=0.001, momentum=0.03, affine=True, track_running_stats=True)\n",
      "              (act): SiLU(inplace=True)\n",
      "            )\n",
      "            (1): Conv(\n",
      "              (conv): Sequential(\n",
      "                (0): Conv2d(64, 64, kernel_size=(3, 3), stride=(1, 1), padding=(1, 1), bias=False)\n",
      "                (1): CBAM(\n",
      "                  (channel_attention): ChannelAttention(\n",
      "                    (avg_pool): AdaptiveAvgPool2d(output_size=1)\n",
      "                    (max_pool): AdaptiveMaxPool2d(output_size=1)\n",
      "                    (fc): Sequential(\n",
      "                      (0): Conv2d(64, 4, kernel_size=(1, 1), stride=(1, 1), bias=False)\n",
      "                      (1): ReLU(inplace=True)\n",
      "                      (2): Conv2d(4, 64, kernel_size=(1, 1), stride=(1, 1), bias=False)\n",
      "                    )\n",
      "                    (sigmoid): Sigmoid()\n",
      "                  )\n",
      "                  (spatial_attention): SpatialAttention(\n",
      "                    (conv): Conv2d(2, 1, kernel_size=(7, 7), stride=(1, 1), padding=(3, 3), bias=False)\n",
      "                    (sigmoid): Sigmoid()\n",
      "                  )\n",
      "                )\n",
      "              )\n",
      "              (bn): BatchNorm2d(64, eps=0.001, momentum=0.03, affine=True, track_running_stats=True)\n",
      "              (act): SiLU(inplace=True)\n",
      "            )\n",
      "            (2): Sequential(\n",
      "              (0): Conv2d(64, 64, kernel_size=(1, 1), stride=(1, 1))\n",
      "              (1): CBAM(\n",
      "                (channel_attention): ChannelAttention(\n",
      "                  (avg_pool): AdaptiveAvgPool2d(output_size=1)\n",
      "                  (max_pool): AdaptiveMaxPool2d(output_size=1)\n",
      "                  (fc): Sequential(\n",
      "                    (0): Conv2d(64, 4, kernel_size=(1, 1), stride=(1, 1), bias=False)\n",
      "                    (1): ReLU(inplace=True)\n",
      "                    (2): Conv2d(4, 64, kernel_size=(1, 1), stride=(1, 1), bias=False)\n",
      "                  )\n",
      "                  (sigmoid): Sigmoid()\n",
      "                )\n",
      "                (spatial_attention): SpatialAttention(\n",
      "                  (conv): Conv2d(2, 1, kernel_size=(7, 7), stride=(1, 1), padding=(3, 3), bias=False)\n",
      "                  (sigmoid): Sigmoid()\n",
      "                )\n",
      "              )\n",
      "            )\n",
      "          )\n",
      "          (1-2): 2 x Sequential(\n",
      "            (0): Conv(\n",
      "              (conv): Sequential(\n",
      "                (0): Conv2d(512, 64, kernel_size=(3, 3), stride=(1, 1), padding=(1, 1), bias=False)\n",
      "                (1): CBAM(\n",
      "                  (channel_attention): ChannelAttention(\n",
      "                    (avg_pool): AdaptiveAvgPool2d(output_size=1)\n",
      "                    (max_pool): AdaptiveMaxPool2d(output_size=1)\n",
      "                    (fc): Sequential(\n",
      "                      (0): Conv2d(64, 4, kernel_size=(1, 1), stride=(1, 1), bias=False)\n",
      "                      (1): ReLU(inplace=True)\n",
      "                      (2): Conv2d(4, 64, kernel_size=(1, 1), stride=(1, 1), bias=False)\n",
      "                    )\n",
      "                    (sigmoid): Sigmoid()\n",
      "                  )\n",
      "                  (spatial_attention): SpatialAttention(\n",
      "                    (conv): Conv2d(2, 1, kernel_size=(7, 7), stride=(1, 1), padding=(3, 3), bias=False)\n",
      "                    (sigmoid): Sigmoid()\n",
      "                  )\n",
      "                )\n",
      "              )\n",
      "              (bn): BatchNorm2d(64, eps=0.001, momentum=0.03, affine=True, track_running_stats=True)\n",
      "              (act): SiLU(inplace=True)\n",
      "            )\n",
      "            (1): Conv(\n",
      "              (conv): Sequential(\n",
      "                (0): Conv2d(64, 64, kernel_size=(3, 3), stride=(1, 1), padding=(1, 1), bias=False)\n",
      "                (1): CBAM(\n",
      "                  (channel_attention): ChannelAttention(\n",
      "                    (avg_pool): AdaptiveAvgPool2d(output_size=1)\n",
      "                    (max_pool): AdaptiveMaxPool2d(output_size=1)\n",
      "                    (fc): Sequential(\n",
      "                      (0): Conv2d(64, 4, kernel_size=(1, 1), stride=(1, 1), bias=False)\n",
      "                      (1): ReLU(inplace=True)\n",
      "                      (2): Conv2d(4, 64, kernel_size=(1, 1), stride=(1, 1), bias=False)\n",
      "                    )\n",
      "                    (sigmoid): Sigmoid()\n",
      "                  )\n",
      "                  (spatial_attention): SpatialAttention(\n",
      "                    (conv): Conv2d(2, 1, kernel_size=(7, 7), stride=(1, 1), padding=(3, 3), bias=False)\n",
      "                    (sigmoid): Sigmoid()\n",
      "                  )\n",
      "                )\n",
      "              )\n",
      "              (bn): BatchNorm2d(64, eps=0.001, momentum=0.03, affine=True, track_running_stats=True)\n",
      "              (act): SiLU(inplace=True)\n",
      "            )\n",
      "            (2): Sequential(\n",
      "              (0): Conv2d(64, 64, kernel_size=(1, 1), stride=(1, 1))\n",
      "              (1): CBAM(\n",
      "                (channel_attention): ChannelAttention(\n",
      "                  (avg_pool): AdaptiveAvgPool2d(output_size=1)\n",
      "                  (max_pool): AdaptiveMaxPool2d(output_size=1)\n",
      "                  (fc): Sequential(\n",
      "                    (0): Conv2d(64, 4, kernel_size=(1, 1), stride=(1, 1), bias=False)\n",
      "                    (1): ReLU(inplace=True)\n",
      "                    (2): Conv2d(4, 64, kernel_size=(1, 1), stride=(1, 1), bias=False)\n",
      "                  )\n",
      "                  (sigmoid): Sigmoid()\n",
      "                )\n",
      "                (spatial_attention): SpatialAttention(\n",
      "                  (conv): Conv2d(2, 1, kernel_size=(7, 7), stride=(1, 1), padding=(3, 3), bias=False)\n",
      "                  (sigmoid): Sigmoid()\n",
      "                )\n",
      "              )\n",
      "            )\n",
      "          )\n",
      "        )\n",
      "        (cv3): ModuleList(\n",
      "          (0): Sequential(\n",
      "            (0): Sequential(\n",
      "              (0): DWConv(\n",
      "                (conv): Sequential(\n",
      "                  (0): Conv2d(256, 256, kernel_size=(3, 3), stride=(1, 1), padding=(1, 1), groups=256, bias=False)\n",
      "                  (1): CBAM(\n",
      "                    (channel_attention): ChannelAttention(\n",
      "                      (avg_pool): AdaptiveAvgPool2d(output_size=1)\n",
      "                      (max_pool): AdaptiveMaxPool2d(output_size=1)\n",
      "                      (fc): Sequential(\n",
      "                        (0): Conv2d(256, 16, kernel_size=(1, 1), stride=(1, 1), bias=False)\n",
      "                        (1): ReLU(inplace=True)\n",
      "                        (2): Conv2d(16, 256, kernel_size=(1, 1), stride=(1, 1), bias=False)\n",
      "                      )\n",
      "                      (sigmoid): Sigmoid()\n",
      "                    )\n",
      "                    (spatial_attention): SpatialAttention(\n",
      "                      (conv): Conv2d(2, 1, kernel_size=(7, 7), stride=(1, 1), padding=(3, 3), bias=False)\n",
      "                      (sigmoid): Sigmoid()\n",
      "                    )\n",
      "                  )\n",
      "                )\n",
      "                (bn): BatchNorm2d(256, eps=0.001, momentum=0.03, affine=True, track_running_stats=True)\n",
      "                (act): SiLU(inplace=True)\n",
      "              )\n",
      "              (1): Conv(\n",
      "                (conv): Sequential(\n",
      "                  (0): Conv2d(256, 256, kernel_size=(1, 1), stride=(1, 1), bias=False)\n",
      "                  (1): CBAM(\n",
      "                    (channel_attention): ChannelAttention(\n",
      "                      (avg_pool): AdaptiveAvgPool2d(output_size=1)\n",
      "                      (max_pool): AdaptiveMaxPool2d(output_size=1)\n",
      "                      (fc): Sequential(\n",
      "                        (0): Conv2d(256, 16, kernel_size=(1, 1), stride=(1, 1), bias=False)\n",
      "                        (1): ReLU(inplace=True)\n",
      "                        (2): Conv2d(16, 256, kernel_size=(1, 1), stride=(1, 1), bias=False)\n",
      "                      )\n",
      "                      (sigmoid): Sigmoid()\n",
      "                    )\n",
      "                    (spatial_attention): SpatialAttention(\n",
      "                      (conv): Conv2d(2, 1, kernel_size=(7, 7), stride=(1, 1), padding=(3, 3), bias=False)\n",
      "                      (sigmoid): Sigmoid()\n",
      "                    )\n",
      "                  )\n",
      "                )\n",
      "                (bn): BatchNorm2d(256, eps=0.001, momentum=0.03, affine=True, track_running_stats=True)\n",
      "                (act): SiLU(inplace=True)\n",
      "              )\n",
      "            )\n",
      "            (1): Sequential(\n",
      "              (0): DWConv(\n",
      "                (conv): Sequential(\n",
      "                  (0): Conv2d(256, 256, kernel_size=(3, 3), stride=(1, 1), padding=(1, 1), groups=256, bias=False)\n",
      "                  (1): CBAM(\n",
      "                    (channel_attention): ChannelAttention(\n",
      "                      (avg_pool): AdaptiveAvgPool2d(output_size=1)\n",
      "                      (max_pool): AdaptiveMaxPool2d(output_size=1)\n",
      "                      (fc): Sequential(\n",
      "                        (0): Conv2d(256, 16, kernel_size=(1, 1), stride=(1, 1), bias=False)\n",
      "                        (1): ReLU(inplace=True)\n",
      "                        (2): Conv2d(16, 256, kernel_size=(1, 1), stride=(1, 1), bias=False)\n",
      "                      )\n",
      "                      (sigmoid): Sigmoid()\n",
      "                    )\n",
      "                    (spatial_attention): SpatialAttention(\n",
      "                      (conv): Conv2d(2, 1, kernel_size=(7, 7), stride=(1, 1), padding=(3, 3), bias=False)\n",
      "                      (sigmoid): Sigmoid()\n",
      "                    )\n",
      "                  )\n",
      "                )\n",
      "                (bn): BatchNorm2d(256, eps=0.001, momentum=0.03, affine=True, track_running_stats=True)\n",
      "                (act): SiLU(inplace=True)\n",
      "              )\n",
      "              (1): Conv(\n",
      "                (conv): Sequential(\n",
      "                  (0): Conv2d(256, 256, kernel_size=(1, 1), stride=(1, 1), bias=False)\n",
      "                  (1): CBAM(\n",
      "                    (channel_attention): ChannelAttention(\n",
      "                      (avg_pool): AdaptiveAvgPool2d(output_size=1)\n",
      "                      (max_pool): AdaptiveMaxPool2d(output_size=1)\n",
      "                      (fc): Sequential(\n",
      "                        (0): Conv2d(256, 16, kernel_size=(1, 1), stride=(1, 1), bias=False)\n",
      "                        (1): ReLU(inplace=True)\n",
      "                        (2): Conv2d(16, 256, kernel_size=(1, 1), stride=(1, 1), bias=False)\n",
      "                      )\n",
      "                      (sigmoid): Sigmoid()\n",
      "                    )\n",
      "                    (spatial_attention): SpatialAttention(\n",
      "                      (conv): Conv2d(2, 1, kernel_size=(7, 7), stride=(1, 1), padding=(3, 3), bias=False)\n",
      "                      (sigmoid): Sigmoid()\n",
      "                    )\n",
      "                  )\n",
      "                )\n",
      "                (bn): BatchNorm2d(256, eps=0.001, momentum=0.03, affine=True, track_running_stats=True)\n",
      "                (act): SiLU(inplace=True)\n",
      "              )\n",
      "            )\n",
      "            (2): Sequential(\n",
      "              (0): Conv2d(256, 80, kernel_size=(1, 1), stride=(1, 1))\n",
      "              (1): CBAM(\n",
      "                (channel_attention): ChannelAttention(\n",
      "                  (avg_pool): AdaptiveAvgPool2d(output_size=1)\n",
      "                  (max_pool): AdaptiveMaxPool2d(output_size=1)\n",
      "                  (fc): Sequential(\n",
      "                    (0): Conv2d(80, 5, kernel_size=(1, 1), stride=(1, 1), bias=False)\n",
      "                    (1): ReLU(inplace=True)\n",
      "                    (2): Conv2d(5, 80, kernel_size=(1, 1), stride=(1, 1), bias=False)\n",
      "                  )\n",
      "                  (sigmoid): Sigmoid()\n",
      "                )\n",
      "                (spatial_attention): SpatialAttention(\n",
      "                  (conv): Conv2d(2, 1, kernel_size=(7, 7), stride=(1, 1), padding=(3, 3), bias=False)\n",
      "                  (sigmoid): Sigmoid()\n",
      "                )\n",
      "              )\n",
      "            )\n",
      "          )\n",
      "          (1-2): 2 x Sequential(\n",
      "            (0): Sequential(\n",
      "              (0): DWConv(\n",
      "                (conv): Sequential(\n",
      "                  (0): Conv2d(512, 512, kernel_size=(3, 3), stride=(1, 1), padding=(1, 1), groups=512, bias=False)\n",
      "                  (1): CBAM(\n",
      "                    (channel_attention): ChannelAttention(\n",
      "                      (avg_pool): AdaptiveAvgPool2d(output_size=1)\n",
      "                      (max_pool): AdaptiveMaxPool2d(output_size=1)\n",
      "                      (fc): Sequential(\n",
      "                        (0): Conv2d(512, 32, kernel_size=(1, 1), stride=(1, 1), bias=False)\n",
      "                        (1): ReLU(inplace=True)\n",
      "                        (2): Conv2d(32, 512, kernel_size=(1, 1), stride=(1, 1), bias=False)\n",
      "                      )\n",
      "                      (sigmoid): Sigmoid()\n",
      "                    )\n",
      "                    (spatial_attention): SpatialAttention(\n",
      "                      (conv): Conv2d(2, 1, kernel_size=(7, 7), stride=(1, 1), padding=(3, 3), bias=False)\n",
      "                      (sigmoid): Sigmoid()\n",
      "                    )\n",
      "                  )\n",
      "                )\n",
      "                (bn): BatchNorm2d(512, eps=0.001, momentum=0.03, affine=True, track_running_stats=True)\n",
      "                (act): SiLU(inplace=True)\n",
      "              )\n",
      "              (1): Conv(\n",
      "                (conv): Sequential(\n",
      "                  (0): Conv2d(512, 256, kernel_size=(1, 1), stride=(1, 1), bias=False)\n",
      "                  (1): CBAM(\n",
      "                    (channel_attention): ChannelAttention(\n",
      "                      (avg_pool): AdaptiveAvgPool2d(output_size=1)\n",
      "                      (max_pool): AdaptiveMaxPool2d(output_size=1)\n",
      "                      (fc): Sequential(\n",
      "                        (0): Conv2d(256, 16, kernel_size=(1, 1), stride=(1, 1), bias=False)\n",
      "                        (1): ReLU(inplace=True)\n",
      "                        (2): Conv2d(16, 256, kernel_size=(1, 1), stride=(1, 1), bias=False)\n",
      "                      )\n",
      "                      (sigmoid): Sigmoid()\n",
      "                    )\n",
      "                    (spatial_attention): SpatialAttention(\n",
      "                      (conv): Conv2d(2, 1, kernel_size=(7, 7), stride=(1, 1), padding=(3, 3), bias=False)\n",
      "                      (sigmoid): Sigmoid()\n",
      "                    )\n",
      "                  )\n",
      "                )\n",
      "                (bn): BatchNorm2d(256, eps=0.001, momentum=0.03, affine=True, track_running_stats=True)\n",
      "                (act): SiLU(inplace=True)\n",
      "              )\n",
      "            )\n",
      "            (1): Sequential(\n",
      "              (0): DWConv(\n",
      "                (conv): Sequential(\n",
      "                  (0): Conv2d(256, 256, kernel_size=(3, 3), stride=(1, 1), padding=(1, 1), groups=256, bias=False)\n",
      "                  (1): CBAM(\n",
      "                    (channel_attention): ChannelAttention(\n",
      "                      (avg_pool): AdaptiveAvgPool2d(output_size=1)\n",
      "                      (max_pool): AdaptiveMaxPool2d(output_size=1)\n",
      "                      (fc): Sequential(\n",
      "                        (0): Conv2d(256, 16, kernel_size=(1, 1), stride=(1, 1), bias=False)\n",
      "                        (1): ReLU(inplace=True)\n",
      "                        (2): Conv2d(16, 256, kernel_size=(1, 1), stride=(1, 1), bias=False)\n",
      "                      )\n",
      "                      (sigmoid): Sigmoid()\n",
      "                    )\n",
      "                    (spatial_attention): SpatialAttention(\n",
      "                      (conv): Conv2d(2, 1, kernel_size=(7, 7), stride=(1, 1), padding=(3, 3), bias=False)\n",
      "                      (sigmoid): Sigmoid()\n",
      "                    )\n",
      "                  )\n",
      "                )\n",
      "                (bn): BatchNorm2d(256, eps=0.001, momentum=0.03, affine=True, track_running_stats=True)\n",
      "                (act): SiLU(inplace=True)\n",
      "              )\n",
      "              (1): Conv(\n",
      "                (conv): Sequential(\n",
      "                  (0): Conv2d(256, 256, kernel_size=(1, 1), stride=(1, 1), bias=False)\n",
      "                  (1): CBAM(\n",
      "                    (channel_attention): ChannelAttention(\n",
      "                      (avg_pool): AdaptiveAvgPool2d(output_size=1)\n",
      "                      (max_pool): AdaptiveMaxPool2d(output_size=1)\n",
      "                      (fc): Sequential(\n",
      "                        (0): Conv2d(256, 16, kernel_size=(1, 1), stride=(1, 1), bias=False)\n",
      "                        (1): ReLU(inplace=True)\n",
      "                        (2): Conv2d(16, 256, kernel_size=(1, 1), stride=(1, 1), bias=False)\n",
      "                      )\n",
      "                      (sigmoid): Sigmoid()\n",
      "                    )\n",
      "                    (spatial_attention): SpatialAttention(\n",
      "                      (conv): Conv2d(2, 1, kernel_size=(7, 7), stride=(1, 1), padding=(3, 3), bias=False)\n",
      "                      (sigmoid): Sigmoid()\n",
      "                    )\n",
      "                  )\n",
      "                )\n",
      "                (bn): BatchNorm2d(256, eps=0.001, momentum=0.03, affine=True, track_running_stats=True)\n",
      "                (act): SiLU(inplace=True)\n",
      "              )\n",
      "            )\n",
      "            (2): Sequential(\n",
      "              (0): Conv2d(256, 80, kernel_size=(1, 1), stride=(1, 1))\n",
      "              (1): CBAM(\n",
      "                (channel_attention): ChannelAttention(\n",
      "                  (avg_pool): AdaptiveAvgPool2d(output_size=1)\n",
      "                  (max_pool): AdaptiveMaxPool2d(output_size=1)\n",
      "                  (fc): Sequential(\n",
      "                    (0): Conv2d(80, 5, kernel_size=(1, 1), stride=(1, 1), bias=False)\n",
      "                    (1): ReLU(inplace=True)\n",
      "                    (2): Conv2d(5, 80, kernel_size=(1, 1), stride=(1, 1), bias=False)\n",
      "                  )\n",
      "                  (sigmoid): Sigmoid()\n",
      "                )\n",
      "                (spatial_attention): SpatialAttention(\n",
      "                  (conv): Conv2d(2, 1, kernel_size=(7, 7), stride=(1, 1), padding=(3, 3), bias=False)\n",
      "                  (sigmoid): Sigmoid()\n",
      "                )\n",
      "              )\n",
      "            )\n",
      "          )\n",
      "        )\n",
      "        (dfl): DFL(\n",
      "          (conv): Sequential(\n",
      "            (0): Conv2d(16, 1, kernel_size=(1, 1), stride=(1, 1), bias=False)\n",
      "            (1): CBAM(\n",
      "              (channel_attention): ChannelAttention(\n",
      "                (avg_pool): AdaptiveAvgPool2d(output_size=1)\n",
      "                (max_pool): AdaptiveMaxPool2d(output_size=1)\n",
      "                (fc): Sequential(\n",
      "                  (0): Conv2d(1, 1, kernel_size=(1, 1), stride=(1, 1), bias=False)\n",
      "                  (1): ReLU(inplace=True)\n",
      "                  (2): Conv2d(1, 1, kernel_size=(1, 1), stride=(1, 1), bias=False)\n",
      "                )\n",
      "                (sigmoid): Sigmoid()\n",
      "              )\n",
      "              (spatial_attention): SpatialAttention(\n",
      "                (conv): Conv2d(2, 1, kernel_size=(7, 7), stride=(1, 1), padding=(3, 3), bias=False)\n",
      "                (sigmoid): Sigmoid()\n",
      "              )\n",
      "            )\n",
      "          )\n",
      "        )\n",
      "      )\n",
      "    )\n",
      "  )\n",
      ")\n"
     ]
    }
   ],
   "source": [
    "print(enhanced_model)"
   ]
  },
  {
   "cell_type": "code",
   "execution_count": 11,
   "id": "de0b65d5-99ac-4eac-adf7-0910d8b76f89",
   "metadata": {},
   "outputs": [
    {
     "name": "stdout",
     "output_type": "stream",
     "text": [
      "Ultralytics 8.3.18 🚀 Python-3.12.4 torch-2.4.1+cu121 CUDA:0 (NVIDIA GeForce RTX 3060 Laptop GPU, 5931MiB)\n",
      "\u001b[34m\u001b[1mengine/trainer: \u001b[0mtask=detect, mode=train, model=yolo11m.pt, data=/home/sandeep/Vehicle-Defect-Detection/dataset/processed/standard/dataset.yaml, epochs=100, time=None, patience=100, batch=8, imgsz=640, save=True, save_period=-1, cache=False, device=0, workers=1, project=None, name=train6, exist_ok=False, pretrained=True, optimizer=auto, verbose=True, seed=0, deterministic=True, single_cls=False, rect=False, cos_lr=False, close_mosaic=10, resume=False, amp=True, fraction=1.0, profile=False, freeze=None, multi_scale=False, overlap_mask=True, mask_ratio=4, dropout=0.0, val=True, split=val, save_json=False, save_hybrid=False, conf=None, iou=0.7, max_det=300, half=False, dnn=False, plots=True, source=None, vid_stride=1, stream_buffer=False, visualize=False, augment=False, agnostic_nms=False, classes=None, retina_masks=False, embed=None, show=False, save_frames=False, save_txt=False, save_conf=False, save_crop=False, show_labels=True, show_conf=True, show_boxes=True, line_width=None, format=torchscript, keras=False, optimize=False, int8=False, dynamic=False, simplify=True, opset=None, workspace=4, nms=False, lr0=0.01, lrf=0.01, momentum=0.937, weight_decay=0.0005, warmup_epochs=3.0, warmup_momentum=0.8, warmup_bias_lr=0.1, box=7.5, cls=0.5, dfl=1.5, pose=12.0, kobj=1.0, label_smoothing=0.0, nbs=64, hsv_h=0.015, hsv_s=0.7, hsv_v=0.4, degrees=0.0, translate=0.1, scale=0.5, shear=0.0, perspective=0.0, flipud=0.0, fliplr=0.5, bgr=0.0, mosaic=1.0, mixup=0.0, copy_paste=0.0, copy_paste_mode=flip, auto_augment=randaugment, erasing=0.4, crop_fraction=1.0, cfg=None, tracker=botsort.yaml, save_dir=runs/detect/train6\n",
      "Overriding model.yaml nc=80 with nc=13\n",
      "\n",
      "                   from  n    params  module                                       arguments                     \n",
      "  0                  -1  1      1856  ultralytics.nn.modules.conv.Conv             [3, 64, 3, 2]                 \n",
      "  1                  -1  1     73984  ultralytics.nn.modules.conv.Conv             [64, 128, 3, 2]               \n",
      "  2                  -1  1    111872  ultralytics.nn.modules.block.C3k2            [128, 256, 1, True, 0.25]     \n",
      "  3                  -1  1    590336  ultralytics.nn.modules.conv.Conv             [256, 256, 3, 2]              \n",
      "  4                  -1  1    444928  ultralytics.nn.modules.block.C3k2            [256, 512, 1, True, 0.25]     \n",
      "  5                  -1  1   2360320  ultralytics.nn.modules.conv.Conv             [512, 512, 3, 2]              \n",
      "  6                  -1  1   1380352  ultralytics.nn.modules.block.C3k2            [512, 512, 1, True]           \n",
      "  7                  -1  1   2360320  ultralytics.nn.modules.conv.Conv             [512, 512, 3, 2]              \n",
      "  8                  -1  1   1380352  ultralytics.nn.modules.block.C3k2            [512, 512, 1, True]           \n",
      "  9                  -1  1    656896  ultralytics.nn.modules.block.SPPF            [512, 512, 5]                 \n",
      " 10                  -1  1    990976  ultralytics.nn.modules.block.C2PSA           [512, 512, 1]                 \n",
      " 11                  -1  1         0  torch.nn.modules.upsampling.Upsample         [None, 2, 'nearest']          \n",
      " 12             [-1, 6]  1         0  ultralytics.nn.modules.conv.Concat           [1]                           \n",
      " 13                  -1  1   1642496  ultralytics.nn.modules.block.C3k2            [1024, 512, 1, True]          \n",
      " 14                  -1  1         0  torch.nn.modules.upsampling.Upsample         [None, 2, 'nearest']          \n",
      " 15             [-1, 4]  1         0  ultralytics.nn.modules.conv.Concat           [1]                           \n",
      " 16                  -1  1    542720  ultralytics.nn.modules.block.C3k2            [1024, 256, 1, True]          \n",
      " 17                  -1  1    590336  ultralytics.nn.modules.conv.Conv             [256, 256, 3, 2]              \n",
      " 18            [-1, 13]  1         0  ultralytics.nn.modules.conv.Concat           [1]                           \n",
      " 19                  -1  1   1511424  ultralytics.nn.modules.block.C3k2            [768, 512, 1, True]           \n",
      " 20                  -1  1   2360320  ultralytics.nn.modules.conv.Conv             [512, 512, 3, 2]              \n",
      " 21            [-1, 10]  1         0  ultralytics.nn.modules.conv.Concat           [1]                           \n",
      " 22                  -1  1   1642496  ultralytics.nn.modules.block.C3k2            [1024, 512, 1, True]          \n",
      " 23        [16, 19, 22]  1   1421047  ultralytics.nn.modules.head.Detect           [13, [256, 512, 512]]         \n",
      "YOLO11m summary: 409 layers, 20,063,031 parameters, 20,063,015 gradients, 68.2 GFLOPs\n",
      "\n",
      "Transferred 530/649 items from pretrained weights\n",
      "\u001b[34m\u001b[1mTensorBoard: \u001b[0mStart with 'tensorboard --logdir runs/detect/train6', view at http://localhost:6006/\n",
      "Freezing layer 'model.23.dfl.conv.weight'\n",
      "\u001b[34m\u001b[1mAMP: \u001b[0mrunning Automatic Mixed Precision (AMP) checks with YOLO11n...\n",
      "\u001b[34m\u001b[1mAMP: \u001b[0mchecks passed ✅\n"
     ]
    },
    {
     "name": "stderr",
     "output_type": "stream",
     "text": [
      "\u001b[34m\u001b[1mtrain: \u001b[0mScanning /home/sandeep/Vehicle-Defect-Detection/dataset/processed/standar\u001b[0m\n",
      "INFO:albumentations.check_version:A new version of Albumentations is available: 1.4.22 (you have 1.4.10). Upgrade using: pip install --upgrade albumentations\n"
     ]
    },
    {
     "name": "stdout",
     "output_type": "stream",
     "text": [
      "\u001b[34m\u001b[1malbumentations: \u001b[0mBlur(p=0.01, blur_limit=(3, 7)), MedianBlur(p=0.01, blur_limit=(3, 7)), ToGray(p=0.01), CLAHE(p=0.01, clip_limit=(1, 4.0), tile_grid_size=(8, 8))\n"
     ]
    },
    {
     "name": "stderr",
     "output_type": "stream",
     "text": [
      "\u001b[34m\u001b[1mval: \u001b[0mScanning /home/sandeep/Vehicle-Defect-Detection/dataset/processed/standard/\u001b[0m\n"
     ]
    },
    {
     "name": "stdout",
     "output_type": "stream",
     "text": [
      "Plotting labels to runs/detect/train6/labels.jpg... \n",
      "\u001b[34m\u001b[1moptimizer:\u001b[0m 'optimizer=auto' found, ignoring 'lr0=0.01' and 'momentum=0.937' and determining best 'optimizer', 'lr0' and 'momentum' automatically... \n",
      "\u001b[34m\u001b[1moptimizer:\u001b[0m AdamW(lr=0.000588, momentum=0.9) with parameter groups 106 weight(decay=0.0), 113 weight(decay=0.0005), 112 bias(decay=0.0)\n",
      "\u001b[34m\u001b[1mTensorBoard: \u001b[0mmodel graph visualization added ✅\n",
      "Image sizes 640 train, 640 val\n",
      "Using 1 dataloader workers\n",
      "Logging results to \u001b[1mruns/detect/train6\u001b[0m\n",
      "Starting training for 100 epochs...\n",
      "\n",
      "      Epoch    GPU_mem   box_loss   cls_loss   dfl_loss  Instances       Size\n"
     ]
    },
    {
     "name": "stderr",
     "output_type": "stream",
     "text": [
      "      1/100      4.64G      3.774      5.334      3.567         29        640: 1\n",
      "                 Class     Images  Instances      Box(P          R      mAP50  m\n"
     ]
    },
    {
     "name": "stdout",
     "output_type": "stream",
     "text": [
      "                   all        720       2435       0.34     0.0445    0.00574    0.00152\n",
      "\n",
      "      Epoch    GPU_mem   box_loss   cls_loss   dfl_loss  Instances       Size\n"
     ]
    },
    {
     "name": "stderr",
     "output_type": "stream",
     "text": [
      "      2/100      4.66G      3.197      3.887      2.815         54        640: 1\n",
      "                 Class     Images  Instances      Box(P          R      mAP50  m\n"
     ]
    },
    {
     "name": "stdout",
     "output_type": "stream",
     "text": [
      "                   all        720       2435      0.454     0.0549     0.0257    0.00724\n",
      "\n",
      "      Epoch    GPU_mem   box_loss   cls_loss   dfl_loss  Instances       Size\n"
     ]
    },
    {
     "name": "stderr",
     "output_type": "stream",
     "text": [
      "      3/100      4.64G       2.91      3.557       2.61         34        640: 1\n",
      "                 Class     Images  Instances      Box(P          R      mAP50  m\n"
     ]
    },
    {
     "name": "stdout",
     "output_type": "stream",
     "text": [
      "                   all        720       2435      0.568      0.105     0.0384     0.0121\n",
      "\n",
      "      Epoch    GPU_mem   box_loss   cls_loss   dfl_loss  Instances       Size\n"
     ]
    },
    {
     "name": "stderr",
     "output_type": "stream",
     "text": [
      "      4/100      4.62G      2.742      3.281      2.447         53        640: 1\n",
      "                 Class     Images  Instances      Box(P          R      mAP50  m\n"
     ]
    },
    {
     "name": "stdout",
     "output_type": "stream",
     "text": [
      "                   all        720       2435      0.471      0.118     0.0704      0.021\n",
      "\n",
      "      Epoch    GPU_mem   box_loss   cls_loss   dfl_loss  Instances       Size\n"
     ]
    },
    {
     "name": "stderr",
     "output_type": "stream",
     "text": [
      "      5/100      4.65G      2.627      3.092      2.342         34        640: 1\n",
      "                 Class     Images  Instances      Box(P          R      mAP50  m\n"
     ]
    },
    {
     "name": "stdout",
     "output_type": "stream",
     "text": [
      "                   all        720       2435      0.462       0.16      0.093     0.0331\n",
      "\n",
      "      Epoch    GPU_mem   box_loss   cls_loss   dfl_loss  Instances       Size\n"
     ]
    },
    {
     "name": "stderr",
     "output_type": "stream",
     "text": [
      "      6/100      4.66G      2.554      2.948      2.272         40        640: 1\n",
      "                 Class     Images  Instances      Box(P          R      mAP50  m\n"
     ]
    },
    {
     "name": "stdout",
     "output_type": "stream",
     "text": [
      "                   all        720       2435      0.553      0.167      0.123     0.0432\n",
      "\n",
      "      Epoch    GPU_mem   box_loss   cls_loss   dfl_loss  Instances       Size\n"
     ]
    },
    {
     "name": "stderr",
     "output_type": "stream",
     "text": [
      "      7/100      4.65G      2.479      2.824      2.199         35        640: 1\n",
      "                 Class     Images  Instances      Box(P          R      mAP50  m\n"
     ]
    },
    {
     "name": "stdout",
     "output_type": "stream",
     "text": [
      "                   all        720       2435       0.58      0.175      0.138     0.0489\n",
      "\n",
      "      Epoch    GPU_mem   box_loss   cls_loss   dfl_loss  Instances       Size\n"
     ]
    },
    {
     "name": "stderr",
     "output_type": "stream",
     "text": [
      "      8/100      4.64G      2.431      2.742      2.153         35        640: 1\n",
      "                 Class     Images  Instances      Box(P          R      mAP50  m\n"
     ]
    },
    {
     "name": "stdout",
     "output_type": "stream",
     "text": [
      "                   all        720       2435      0.423      0.233      0.157       0.06\n",
      "\n",
      "      Epoch    GPU_mem   box_loss   cls_loss   dfl_loss  Instances       Size\n"
     ]
    },
    {
     "name": "stderr",
     "output_type": "stream",
     "text": [
      "      9/100      4.65G      2.389       2.66      2.106         20        640: 1\n",
      "                 Class     Images  Instances      Box(P          R      mAP50  m\n"
     ]
    },
    {
     "name": "stdout",
     "output_type": "stream",
     "text": [
      "                   all        720       2435      0.379      0.209      0.168     0.0688\n",
      "\n",
      "      Epoch    GPU_mem   box_loss   cls_loss   dfl_loss  Instances       Size\n"
     ]
    },
    {
     "name": "stderr",
     "output_type": "stream",
     "text": [
      "     10/100      4.64G      2.355      2.561      2.064         39        640: 1\n",
      "                 Class     Images  Instances      Box(P          R      mAP50  m\n"
     ]
    },
    {
     "name": "stdout",
     "output_type": "stream",
     "text": [
      "                   all        720       2435      0.371      0.281      0.184     0.0703\n",
      "\n",
      "      Epoch    GPU_mem   box_loss   cls_loss   dfl_loss  Instances       Size\n"
     ]
    },
    {
     "name": "stderr",
     "output_type": "stream",
     "text": [
      "     11/100      4.65G      2.307      2.475      2.033         32        640: 1\n",
      "                 Class     Images  Instances      Box(P          R      mAP50  m\n"
     ]
    },
    {
     "name": "stdout",
     "output_type": "stream",
     "text": [
      "                   all        720       2435      0.492      0.241      0.218     0.0851\n",
      "\n",
      "      Epoch    GPU_mem   box_loss   cls_loss   dfl_loss  Instances       Size\n"
     ]
    },
    {
     "name": "stderr",
     "output_type": "stream",
     "text": [
      "     12/100      4.64G      2.289      2.471      2.017         18        640: 1\n",
      "                 Class     Images  Instances      Box(P          R      mAP50  m"
     ]
    },
    {
     "name": "stdout",
     "output_type": "stream",
     "text": [
      "                   all        720       2435      0.388      0.251      0.217     0.0845\n"
     ]
    },
    {
     "name": "stderr",
     "output_type": "stream",
     "text": [
      "\n"
     ]
    },
    {
     "name": "stdout",
     "output_type": "stream",
     "text": [
      "\n",
      "      Epoch    GPU_mem   box_loss   cls_loss   dfl_loss  Instances       Size\n"
     ]
    },
    {
     "name": "stderr",
     "output_type": "stream",
     "text": [
      "     13/100      4.63G      2.256      2.392       1.99         26        640: 1\n",
      "                 Class     Images  Instances      Box(P          R      mAP50  m"
     ]
    },
    {
     "name": "stdout",
     "output_type": "stream",
     "text": [
      "                   all        720       2435      0.302      0.268      0.233     0.0924\n"
     ]
    },
    {
     "name": "stderr",
     "output_type": "stream",
     "text": [
      "\n"
     ]
    },
    {
     "name": "stdout",
     "output_type": "stream",
     "text": [
      "\n",
      "      Epoch    GPU_mem   box_loss   cls_loss   dfl_loss  Instances       Size\n"
     ]
    },
    {
     "name": "stderr",
     "output_type": "stream",
     "text": [
      "     14/100      4.63G      2.235       2.37      1.985         39        640: 1\n",
      "                 Class     Images  Instances      Box(P          R      mAP50  m"
     ]
    },
    {
     "name": "stdout",
     "output_type": "stream",
     "text": [
      "                   all        720       2435      0.267      0.274      0.224     0.0889\n"
     ]
    },
    {
     "name": "stderr",
     "output_type": "stream",
     "text": [
      "\n"
     ]
    },
    {
     "name": "stdout",
     "output_type": "stream",
     "text": [
      "\n",
      "      Epoch    GPU_mem   box_loss   cls_loss   dfl_loss  Instances       Size\n"
     ]
    },
    {
     "name": "stderr",
     "output_type": "stream",
     "text": [
      "     15/100      4.63G      2.203      2.301      1.954         48        640: 1\n",
      "                 Class     Images  Instances      Box(P          R      mAP50  m\n"
     ]
    },
    {
     "name": "stdout",
     "output_type": "stream",
     "text": [
      "                   all        720       2435      0.379      0.294      0.276      0.109\n",
      "\n",
      "      Epoch    GPU_mem   box_loss   cls_loss   dfl_loss  Instances       Size\n"
     ]
    },
    {
     "name": "stderr",
     "output_type": "stream",
     "text": [
      "     16/100      4.64G      2.188      2.262      1.936         40        640: 1\n",
      "                 Class     Images  Instances      Box(P          R      mAP50  m"
     ]
    },
    {
     "name": "stdout",
     "output_type": "stream",
     "text": [
      "                   all        720       2435       0.44       0.32      0.313      0.126\n"
     ]
    },
    {
     "name": "stderr",
     "output_type": "stream",
     "text": [
      "\n"
     ]
    },
    {
     "name": "stdout",
     "output_type": "stream",
     "text": [
      "\n",
      "      Epoch    GPU_mem   box_loss   cls_loss   dfl_loss  Instances       Size\n"
     ]
    },
    {
     "name": "stderr",
     "output_type": "stream",
     "text": [
      "     17/100      4.63G      2.171       2.23      1.922         28        640: 1\n",
      "                 Class     Images  Instances      Box(P          R      mAP50  m"
     ]
    },
    {
     "name": "stdout",
     "output_type": "stream",
     "text": [
      "                   all        720       2435      0.383       0.33      0.297      0.124\n"
     ]
    },
    {
     "name": "stderr",
     "output_type": "stream",
     "text": [
      "\n"
     ]
    },
    {
     "name": "stdout",
     "output_type": "stream",
     "text": [
      "\n",
      "      Epoch    GPU_mem   box_loss   cls_loss   dfl_loss  Instances       Size\n"
     ]
    },
    {
     "name": "stderr",
     "output_type": "stream",
     "text": [
      "     18/100      4.63G      2.138      2.193      1.906         21        640: 1\n",
      "                 Class     Images  Instances      Box(P          R      mAP50  m\n"
     ]
    },
    {
     "name": "stdout",
     "output_type": "stream",
     "text": [
      "                   all        720       2435      0.435      0.306      0.287      0.121\n",
      "\n",
      "      Epoch    GPU_mem   box_loss   cls_loss   dfl_loss  Instances       Size\n"
     ]
    },
    {
     "name": "stderr",
     "output_type": "stream",
     "text": [
      "     19/100      4.65G      2.122      2.152      1.885         44        640: 1\n",
      "                 Class     Images  Instances      Box(P          R      mAP50  m\n"
     ]
    },
    {
     "name": "stdout",
     "output_type": "stream",
     "text": [
      "                   all        720       2435      0.337       0.32      0.301       0.13\n",
      "\n",
      "      Epoch    GPU_mem   box_loss   cls_loss   dfl_loss  Instances       Size\n"
     ]
    },
    {
     "name": "stderr",
     "output_type": "stream",
     "text": [
      "     20/100      4.63G      2.111      2.104      1.865         58        640: 1\n",
      "                 Class     Images  Instances      Box(P          R      mAP50  m"
     ]
    },
    {
     "name": "stdout",
     "output_type": "stream",
     "text": [
      "                   all        720       2435      0.338      0.361       0.31       0.13\n"
     ]
    },
    {
     "name": "stderr",
     "output_type": "stream",
     "text": [
      "\n"
     ]
    },
    {
     "name": "stdout",
     "output_type": "stream",
     "text": [
      "\n",
      "      Epoch    GPU_mem   box_loss   cls_loss   dfl_loss  Instances       Size\n"
     ]
    },
    {
     "name": "stderr",
     "output_type": "stream",
     "text": [
      "     21/100      4.64G      2.102      2.108       1.86         36        640: 1\n",
      "                 Class     Images  Instances      Box(P          R      mAP50  m"
     ]
    },
    {
     "name": "stdout",
     "output_type": "stream",
     "text": [
      "                   all        720       2435        0.5      0.329      0.334      0.142\n"
     ]
    },
    {
     "name": "stderr",
     "output_type": "stream",
     "text": [
      "\n"
     ]
    },
    {
     "name": "stdout",
     "output_type": "stream",
     "text": [
      "\n",
      "      Epoch    GPU_mem   box_loss   cls_loss   dfl_loss  Instances       Size\n"
     ]
    },
    {
     "name": "stderr",
     "output_type": "stream",
     "text": [
      "     22/100      4.66G      2.081      2.077       1.85         24        640: 1\n",
      "                 Class     Images  Instances      Box(P          R      mAP50  m"
     ]
    },
    {
     "name": "stdout",
     "output_type": "stream",
     "text": [
      "                   all        720       2435      0.399      0.355       0.35      0.151\n"
     ]
    },
    {
     "name": "stderr",
     "output_type": "stream",
     "text": [
      "\n"
     ]
    },
    {
     "name": "stdout",
     "output_type": "stream",
     "text": [
      "\n",
      "      Epoch    GPU_mem   box_loss   cls_loss   dfl_loss  Instances       Size\n"
     ]
    },
    {
     "name": "stderr",
     "output_type": "stream",
     "text": [
      "     23/100      4.64G      2.056      2.043      1.822         36        640: 1\n",
      "                 Class     Images  Instances      Box(P          R      mAP50  m"
     ]
    },
    {
     "name": "stdout",
     "output_type": "stream",
     "text": [
      "                   all        720       2435      0.467      0.338      0.347      0.147\n"
     ]
    },
    {
     "name": "stderr",
     "output_type": "stream",
     "text": [
      "\n"
     ]
    },
    {
     "name": "stdout",
     "output_type": "stream",
     "text": [
      "\n",
      "      Epoch    GPU_mem   box_loss   cls_loss   dfl_loss  Instances       Size\n"
     ]
    },
    {
     "name": "stderr",
     "output_type": "stream",
     "text": [
      "     24/100      4.64G      2.053      2.025      1.822         65        640: 1\n",
      "                 Class     Images  Instances      Box(P          R      mAP50  m\n"
     ]
    },
    {
     "name": "stdout",
     "output_type": "stream",
     "text": [
      "                   all        720       2435      0.493      0.347      0.363      0.159\n",
      "\n",
      "      Epoch    GPU_mem   box_loss   cls_loss   dfl_loss  Instances       Size\n"
     ]
    },
    {
     "name": "stderr",
     "output_type": "stream",
     "text": [
      "     25/100      4.64G      2.043      2.003      1.817         36        640: 1\n",
      "                 Class     Images  Instances      Box(P          R      mAP50  m\n"
     ]
    },
    {
     "name": "stdout",
     "output_type": "stream",
     "text": [
      "                   all        720       2435      0.455      0.339      0.377      0.159\n",
      "\n",
      "      Epoch    GPU_mem   box_loss   cls_loss   dfl_loss  Instances       Size\n"
     ]
    },
    {
     "name": "stderr",
     "output_type": "stream",
     "text": [
      "     26/100      4.64G      2.033      1.981      1.803         41        640: 1\n",
      "                 Class     Images  Instances      Box(P          R      mAP50  m"
     ]
    },
    {
     "name": "stdout",
     "output_type": "stream",
     "text": [
      "                   all        720       2435       0.51      0.364       0.38      0.174\n"
     ]
    },
    {
     "name": "stderr",
     "output_type": "stream",
     "text": [
      "\n"
     ]
    },
    {
     "name": "stdout",
     "output_type": "stream",
     "text": [
      "\n",
      "      Epoch    GPU_mem   box_loss   cls_loss   dfl_loss  Instances       Size\n"
     ]
    },
    {
     "name": "stderr",
     "output_type": "stream",
     "text": [
      "     27/100      4.64G      2.016      1.954      1.791         39        640: 1\n",
      "                 Class     Images  Instances      Box(P          R      mAP50  m"
     ]
    },
    {
     "name": "stdout",
     "output_type": "stream",
     "text": [
      "                   all        720       2435      0.431      0.381      0.378      0.167\n"
     ]
    },
    {
     "name": "stderr",
     "output_type": "stream",
     "text": [
      "\n"
     ]
    },
    {
     "name": "stdout",
     "output_type": "stream",
     "text": [
      "\n",
      "      Epoch    GPU_mem   box_loss   cls_loss   dfl_loss  Instances       Size\n"
     ]
    },
    {
     "name": "stderr",
     "output_type": "stream",
     "text": [
      "     28/100      4.64G      2.003      1.934      1.776         36        640: 1\n",
      "                 Class     Images  Instances      Box(P          R      mAP50  m"
     ]
    },
    {
     "name": "stdout",
     "output_type": "stream",
     "text": [
      "                   all        720       2435      0.429      0.388      0.393      0.171\n"
     ]
    },
    {
     "name": "stderr",
     "output_type": "stream",
     "text": [
      "\n"
     ]
    },
    {
     "name": "stdout",
     "output_type": "stream",
     "text": [
      "\n",
      "      Epoch    GPU_mem   box_loss   cls_loss   dfl_loss  Instances       Size\n"
     ]
    },
    {
     "name": "stderr",
     "output_type": "stream",
     "text": [
      "     29/100      4.65G      1.993      1.919      1.773         55        640: 1\n",
      "                 Class     Images  Instances      Box(P          R      mAP50  m"
     ]
    },
    {
     "name": "stdout",
     "output_type": "stream",
     "text": [
      "                   all        720       2435      0.422       0.39      0.406      0.181\n"
     ]
    },
    {
     "name": "stderr",
     "output_type": "stream",
     "text": [
      "\n"
     ]
    },
    {
     "name": "stdout",
     "output_type": "stream",
     "text": [
      "\n",
      "      Epoch    GPU_mem   box_loss   cls_loss   dfl_loss  Instances       Size\n"
     ]
    },
    {
     "name": "stderr",
     "output_type": "stream",
     "text": [
      "     30/100      4.63G      1.975      1.895       1.76         29        640: 1\n",
      "                 Class     Images  Instances      Box(P          R      mAP50  m"
     ]
    },
    {
     "name": "stdout",
     "output_type": "stream",
     "text": [
      "                   all        720       2435      0.425      0.401      0.418      0.188\n"
     ]
    },
    {
     "name": "stderr",
     "output_type": "stream",
     "text": [
      "\n"
     ]
    },
    {
     "name": "stdout",
     "output_type": "stream",
     "text": [
      "\n",
      "      Epoch    GPU_mem   box_loss   cls_loss   dfl_loss  Instances       Size\n"
     ]
    },
    {
     "name": "stderr",
     "output_type": "stream",
     "text": [
      "     31/100      4.64G      1.966      1.859      1.746         34        640: 1\n",
      "                 Class     Images  Instances      Box(P          R      mAP50  m\n"
     ]
    },
    {
     "name": "stdout",
     "output_type": "stream",
     "text": [
      "                   all        720       2435      0.452      0.384      0.403      0.184\n",
      "\n",
      "      Epoch    GPU_mem   box_loss   cls_loss   dfl_loss  Instances       Size\n"
     ]
    },
    {
     "name": "stderr",
     "output_type": "stream",
     "text": [
      "     32/100      4.64G      1.961      1.848      1.745         40        640: 1\n",
      "                 Class     Images  Instances      Box(P          R      mAP50  m\n"
     ]
    },
    {
     "name": "stdout",
     "output_type": "stream",
     "text": [
      "                   all        720       2435      0.483      0.385      0.399      0.179\n",
      "\n",
      "      Epoch    GPU_mem   box_loss   cls_loss   dfl_loss  Instances       Size\n"
     ]
    },
    {
     "name": "stderr",
     "output_type": "stream",
     "text": [
      "     33/100      4.65G      1.953      1.839      1.742         31        640: 1\n",
      "                 Class     Images  Instances      Box(P          R      mAP50  m"
     ]
    },
    {
     "name": "stdout",
     "output_type": "stream",
     "text": [
      "                   all        720       2435      0.512      0.395      0.418      0.185\n"
     ]
    },
    {
     "name": "stderr",
     "output_type": "stream",
     "text": [
      "\n"
     ]
    },
    {
     "name": "stdout",
     "output_type": "stream",
     "text": [
      "\n",
      "      Epoch    GPU_mem   box_loss   cls_loss   dfl_loss  Instances       Size\n"
     ]
    },
    {
     "name": "stderr",
     "output_type": "stream",
     "text": [
      "     34/100      4.63G      1.932      1.812      1.723         54        640: 1\n",
      "                 Class     Images  Instances      Box(P          R      mAP50  m"
     ]
    },
    {
     "name": "stdout",
     "output_type": "stream",
     "text": [
      "                   all        720       2435        0.5      0.435      0.436      0.199\n"
     ]
    },
    {
     "name": "stderr",
     "output_type": "stream",
     "text": [
      "\n"
     ]
    },
    {
     "name": "stdout",
     "output_type": "stream",
     "text": [
      "\n",
      "      Epoch    GPU_mem   box_loss   cls_loss   dfl_loss  Instances       Size\n"
     ]
    },
    {
     "name": "stderr",
     "output_type": "stream",
     "text": [
      "     35/100      4.64G      1.933       1.79      1.712         29        640: 1\n",
      "                 Class     Images  Instances      Box(P          R      mAP50  m\n"
     ]
    },
    {
     "name": "stdout",
     "output_type": "stream",
     "text": [
      "                   all        720       2435      0.486      0.377      0.409      0.186\n",
      "\n",
      "      Epoch    GPU_mem   box_loss   cls_loss   dfl_loss  Instances       Size\n"
     ]
    },
    {
     "name": "stderr",
     "output_type": "stream",
     "text": [
      "     36/100      4.64G      1.928       1.79      1.716         32        640: 1\n",
      "                 Class     Images  Instances      Box(P          R      mAP50  m"
     ]
    },
    {
     "name": "stdout",
     "output_type": "stream",
     "text": [
      "                   all        720       2435      0.515      0.409      0.413       0.19\n"
     ]
    },
    {
     "name": "stderr",
     "output_type": "stream",
     "text": [
      "\n"
     ]
    },
    {
     "name": "stdout",
     "output_type": "stream",
     "text": [
      "\n",
      "      Epoch    GPU_mem   box_loss   cls_loss   dfl_loss  Instances       Size\n"
     ]
    },
    {
     "name": "stderr",
     "output_type": "stream",
     "text": [
      "     37/100      4.66G      1.912      1.782      1.712         34        640: 1\n",
      "                 Class     Images  Instances      Box(P          R      mAP50  m"
     ]
    },
    {
     "name": "stdout",
     "output_type": "stream",
     "text": [
      "                   all        720       2435      0.497      0.455      0.451      0.205\n"
     ]
    },
    {
     "name": "stderr",
     "output_type": "stream",
     "text": [
      "\n"
     ]
    },
    {
     "name": "stdout",
     "output_type": "stream",
     "text": [
      "\n",
      "      Epoch    GPU_mem   box_loss   cls_loss   dfl_loss  Instances       Size\n"
     ]
    },
    {
     "name": "stderr",
     "output_type": "stream",
     "text": [
      "     38/100      4.64G      1.902      1.757      1.697         47        640: 1\n",
      "                 Class     Images  Instances      Box(P          R      mAP50  m\n"
     ]
    },
    {
     "name": "stdout",
     "output_type": "stream",
     "text": [
      "                   all        720       2435      0.476      0.418      0.424      0.191\n",
      "\n",
      "      Epoch    GPU_mem   box_loss   cls_loss   dfl_loss  Instances       Size\n"
     ]
    },
    {
     "name": "stderr",
     "output_type": "stream",
     "text": [
      "     39/100      4.65G      1.897      1.751      1.692         45        640: 1\n",
      "                 Class     Images  Instances      Box(P          R      mAP50  m"
     ]
    },
    {
     "name": "stdout",
     "output_type": "stream",
     "text": [
      "                   all        720       2435      0.547       0.42      0.453      0.212\n"
     ]
    },
    {
     "name": "stderr",
     "output_type": "stream",
     "text": [
      "\n"
     ]
    },
    {
     "name": "stdout",
     "output_type": "stream",
     "text": [
      "\n",
      "      Epoch    GPU_mem   box_loss   cls_loss   dfl_loss  Instances       Size\n"
     ]
    },
    {
     "name": "stderr",
     "output_type": "stream",
     "text": [
      "     40/100      4.67G      1.893      1.732      1.683         30        640: 1\n",
      "                 Class     Images  Instances      Box(P          R      mAP50  m"
     ]
    },
    {
     "name": "stdout",
     "output_type": "stream",
     "text": [
      "                   all        720       2435      0.522      0.408      0.452      0.209\n"
     ]
    },
    {
     "name": "stderr",
     "output_type": "stream",
     "text": [
      "\n"
     ]
    },
    {
     "name": "stdout",
     "output_type": "stream",
     "text": [
      "\n",
      "      Epoch    GPU_mem   box_loss   cls_loss   dfl_loss  Instances       Size\n"
     ]
    },
    {
     "name": "stderr",
     "output_type": "stream",
     "text": [
      "     41/100      4.63G       1.88      1.715      1.676         31        640: 1\n",
      "                 Class     Images  Instances      Box(P          R      mAP50  m"
     ]
    },
    {
     "name": "stdout",
     "output_type": "stream",
     "text": [
      "                   all        720       2435      0.517      0.429      0.462      0.218\n"
     ]
    },
    {
     "name": "stderr",
     "output_type": "stream",
     "text": [
      "\n"
     ]
    },
    {
     "name": "stdout",
     "output_type": "stream",
     "text": [
      "\n",
      "      Epoch    GPU_mem   box_loss   cls_loss   dfl_loss  Instances       Size\n"
     ]
    },
    {
     "name": "stderr",
     "output_type": "stream",
     "text": [
      "     42/100      4.64G      1.865        1.7      1.669         33        640: 1\n",
      "                 Class     Images  Instances      Box(P          R      mAP50  m"
     ]
    },
    {
     "name": "stdout",
     "output_type": "stream",
     "text": [
      "                   all        720       2435      0.517      0.454      0.458      0.217\n"
     ]
    },
    {
     "name": "stderr",
     "output_type": "stream",
     "text": [
      "\n"
     ]
    },
    {
     "name": "stdout",
     "output_type": "stream",
     "text": [
      "\n",
      "      Epoch    GPU_mem   box_loss   cls_loss   dfl_loss  Instances       Size\n"
     ]
    },
    {
     "name": "stderr",
     "output_type": "stream",
     "text": [
      "     43/100      4.64G      1.871      1.694      1.666         23        640: 1\n",
      "                 Class     Images  Instances      Box(P          R      mAP50  m\n"
     ]
    },
    {
     "name": "stdout",
     "output_type": "stream",
     "text": [
      "                   all        720       2435      0.551      0.456       0.46      0.214\n",
      "\n",
      "      Epoch    GPU_mem   box_loss   cls_loss   dfl_loss  Instances       Size\n"
     ]
    },
    {
     "name": "stderr",
     "output_type": "stream",
     "text": [
      "     44/100      4.64G      1.865       1.69      1.664         44        640: 1\n",
      "                 Class     Images  Instances      Box(P          R      mAP50  m"
     ]
    },
    {
     "name": "stdout",
     "output_type": "stream",
     "text": [
      "                   all        720       2435      0.516      0.421      0.444      0.205\n"
     ]
    },
    {
     "name": "stderr",
     "output_type": "stream",
     "text": [
      "\n"
     ]
    },
    {
     "name": "stdout",
     "output_type": "stream",
     "text": [
      "\n",
      "      Epoch    GPU_mem   box_loss   cls_loss   dfl_loss  Instances       Size\n"
     ]
    },
    {
     "name": "stderr",
     "output_type": "stream",
     "text": [
      "     45/100      4.65G      1.853      1.672      1.655         33        640: 1\n",
      "                 Class     Images  Instances      Box(P          R      mAP50  m"
     ]
    },
    {
     "name": "stdout",
     "output_type": "stream",
     "text": [
      "                   all        720       2435      0.538      0.424      0.464      0.223\n"
     ]
    },
    {
     "name": "stderr",
     "output_type": "stream",
     "text": [
      "\n"
     ]
    },
    {
     "name": "stdout",
     "output_type": "stream",
     "text": [
      "\n",
      "      Epoch    GPU_mem   box_loss   cls_loss   dfl_loss  Instances       Size\n"
     ]
    },
    {
     "name": "stderr",
     "output_type": "stream",
     "text": [
      "     46/100      4.64G      1.843      1.651       1.65         29        640: 1\n",
      "                 Class     Images  Instances      Box(P          R      mAP50  m"
     ]
    },
    {
     "name": "stdout",
     "output_type": "stream",
     "text": [
      "                   all        720       2435       0.54      0.461      0.481      0.224\n"
     ]
    },
    {
     "name": "stderr",
     "output_type": "stream",
     "text": [
      "\n"
     ]
    },
    {
     "name": "stdout",
     "output_type": "stream",
     "text": [
      "\n",
      "      Epoch    GPU_mem   box_loss   cls_loss   dfl_loss  Instances       Size\n"
     ]
    },
    {
     "name": "stderr",
     "output_type": "stream",
     "text": [
      "     47/100      4.64G      1.836      1.639      1.633         51        640: 1\n",
      "                 Class     Images  Instances      Box(P          R      mAP50  m"
     ]
    },
    {
     "name": "stdout",
     "output_type": "stream",
     "text": [
      "                   all        720       2435      0.531      0.467      0.486      0.224\n"
     ]
    },
    {
     "name": "stderr",
     "output_type": "stream",
     "text": [
      "\n"
     ]
    },
    {
     "name": "stdout",
     "output_type": "stream",
     "text": [
      "\n",
      "      Epoch    GPU_mem   box_loss   cls_loss   dfl_loss  Instances       Size\n"
     ]
    },
    {
     "name": "stderr",
     "output_type": "stream",
     "text": [
      "     48/100      4.63G      1.833      1.643      1.639         57        640: 1\n",
      "                 Class     Images  Instances      Box(P          R      mAP50  m"
     ]
    },
    {
     "name": "stdout",
     "output_type": "stream",
     "text": [
      "                   all        720       2435      0.537      0.492        0.5      0.235\n"
     ]
    },
    {
     "name": "stderr",
     "output_type": "stream",
     "text": [
      "\n"
     ]
    },
    {
     "name": "stdout",
     "output_type": "stream",
     "text": [
      "\n",
      "      Epoch    GPU_mem   box_loss   cls_loss   dfl_loss  Instances       Size\n"
     ]
    },
    {
     "name": "stderr",
     "output_type": "stream",
     "text": [
      "     49/100      4.65G      1.824      1.628      1.627         15        640: 1\n",
      "                 Class     Images  Instances      Box(P          R      mAP50  m"
     ]
    },
    {
     "name": "stdout",
     "output_type": "stream",
     "text": [
      "                   all        720       2435      0.554      0.501      0.501      0.234\n"
     ]
    },
    {
     "name": "stderr",
     "output_type": "stream",
     "text": [
      "\n"
     ]
    },
    {
     "name": "stdout",
     "output_type": "stream",
     "text": [
      "\n",
      "      Epoch    GPU_mem   box_loss   cls_loss   dfl_loss  Instances       Size\n"
     ]
    },
    {
     "name": "stderr",
     "output_type": "stream",
     "text": [
      "     50/100      4.63G      1.816      1.608       1.62         30        640: 1\n",
      "                 Class     Images  Instances      Box(P          R      mAP50  m"
     ]
    },
    {
     "name": "stdout",
     "output_type": "stream",
     "text": [
      "                   all        720       2435      0.538       0.48      0.493      0.232\n"
     ]
    },
    {
     "name": "stderr",
     "output_type": "stream",
     "text": [
      "\n"
     ]
    },
    {
     "name": "stdout",
     "output_type": "stream",
     "text": [
      "\n",
      "      Epoch    GPU_mem   box_loss   cls_loss   dfl_loss  Instances       Size\n"
     ]
    },
    {
     "name": "stderr",
     "output_type": "stream",
     "text": [
      "     51/100      4.63G      1.801      1.594      1.615         39        640: 1\n",
      "                 Class     Images  Instances      Box(P          R      mAP50  m"
     ]
    },
    {
     "name": "stdout",
     "output_type": "stream",
     "text": [
      "                   all        720       2435      0.574      0.477      0.495      0.237\n"
     ]
    },
    {
     "name": "stderr",
     "output_type": "stream",
     "text": [
      "\n"
     ]
    },
    {
     "name": "stdout",
     "output_type": "stream",
     "text": [
      "\n",
      "      Epoch    GPU_mem   box_loss   cls_loss   dfl_loss  Instances       Size\n"
     ]
    },
    {
     "name": "stderr",
     "output_type": "stream",
     "text": [
      "     52/100      4.67G      1.808      1.605      1.619         28        640: 1\n",
      "                 Class     Images  Instances      Box(P          R      mAP50  m"
     ]
    },
    {
     "name": "stdout",
     "output_type": "stream",
     "text": [
      "                   all        720       2435      0.558      0.484      0.492       0.23\n"
     ]
    },
    {
     "name": "stderr",
     "output_type": "stream",
     "text": [
      "\n"
     ]
    },
    {
     "name": "stdout",
     "output_type": "stream",
     "text": [
      "\n",
      "      Epoch    GPU_mem   box_loss   cls_loss   dfl_loss  Instances       Size\n"
     ]
    },
    {
     "name": "stderr",
     "output_type": "stream",
     "text": [
      "     53/100      4.65G      1.799      1.586      1.609         22        640: 1\n",
      "                 Class     Images  Instances      Box(P          R      mAP50  m"
     ]
    },
    {
     "name": "stdout",
     "output_type": "stream",
     "text": [
      "                   all        720       2435      0.502      0.482      0.495      0.228\n"
     ]
    },
    {
     "name": "stderr",
     "output_type": "stream",
     "text": [
      "\n"
     ]
    },
    {
     "name": "stdout",
     "output_type": "stream",
     "text": [
      "\n",
      "      Epoch    GPU_mem   box_loss   cls_loss   dfl_loss  Instances       Size\n"
     ]
    },
    {
     "name": "stderr",
     "output_type": "stream",
     "text": [
      "     54/100      4.62G      1.784      1.559        1.6         39        640: 1\n",
      "                 Class     Images  Instances      Box(P          R      mAP50  m"
     ]
    },
    {
     "name": "stdout",
     "output_type": "stream",
     "text": [
      "                   all        720       2435      0.536      0.483      0.507      0.235\n"
     ]
    },
    {
     "name": "stderr",
     "output_type": "stream",
     "text": [
      "\n"
     ]
    },
    {
     "name": "stdout",
     "output_type": "stream",
     "text": [
      "\n",
      "      Epoch    GPU_mem   box_loss   cls_loss   dfl_loss  Instances       Size\n"
     ]
    },
    {
     "name": "stderr",
     "output_type": "stream",
     "text": [
      "     55/100      4.63G      1.789      1.564      1.606         37        640: 1\n",
      "                 Class     Images  Instances      Box(P          R      mAP50  m"
     ]
    },
    {
     "name": "stdout",
     "output_type": "stream",
     "text": [
      "                   all        720       2435      0.549        0.5      0.523      0.238\n"
     ]
    },
    {
     "name": "stderr",
     "output_type": "stream",
     "text": [
      "\n"
     ]
    },
    {
     "name": "stdout",
     "output_type": "stream",
     "text": [
      "\n",
      "      Epoch    GPU_mem   box_loss   cls_loss   dfl_loss  Instances       Size\n"
     ]
    },
    {
     "name": "stderr",
     "output_type": "stream",
     "text": [
      "     56/100      4.65G      1.779      1.561      1.602         40        640: 1\n",
      "                 Class     Images  Instances      Box(P          R      mAP50  m"
     ]
    },
    {
     "name": "stdout",
     "output_type": "stream",
     "text": [
      "                   all        720       2435       0.57       0.49      0.519      0.238\n"
     ]
    },
    {
     "name": "stderr",
     "output_type": "stream",
     "text": [
      "\n"
     ]
    },
    {
     "name": "stdout",
     "output_type": "stream",
     "text": [
      "\n",
      "      Epoch    GPU_mem   box_loss   cls_loss   dfl_loss  Instances       Size\n"
     ]
    },
    {
     "name": "stderr",
     "output_type": "stream",
     "text": [
      "     57/100      4.64G      1.773      1.544      1.587         52        640: 1\n",
      "                 Class     Images  Instances      Box(P          R      mAP50  m"
     ]
    },
    {
     "name": "stdout",
     "output_type": "stream",
     "text": [
      "                   all        720       2435      0.581      0.478      0.513      0.237\n"
     ]
    },
    {
     "name": "stderr",
     "output_type": "stream",
     "text": [
      "\n"
     ]
    },
    {
     "name": "stdout",
     "output_type": "stream",
     "text": [
      "\n",
      "      Epoch    GPU_mem   box_loss   cls_loss   dfl_loss  Instances       Size\n"
     ]
    },
    {
     "name": "stderr",
     "output_type": "stream",
     "text": [
      "     58/100      4.64G      1.758      1.536      1.588         41        640: 1\n",
      "                 Class     Images  Instances      Box(P          R      mAP50  m"
     ]
    },
    {
     "name": "stdout",
     "output_type": "stream",
     "text": [
      "                   all        720       2435      0.564      0.479      0.495      0.233\n"
     ]
    },
    {
     "name": "stderr",
     "output_type": "stream",
     "text": [
      "\n"
     ]
    },
    {
     "name": "stdout",
     "output_type": "stream",
     "text": [
      "\n",
      "      Epoch    GPU_mem   box_loss   cls_loss   dfl_loss  Instances       Size\n"
     ]
    },
    {
     "name": "stderr",
     "output_type": "stream",
     "text": [
      "     59/100      4.67G      1.759      1.522       1.58         24        640: 1\n",
      "                 Class     Images  Instances      Box(P          R      mAP50  m"
     ]
    },
    {
     "name": "stdout",
     "output_type": "stream",
     "text": [
      "                   all        720       2435      0.537      0.519      0.526      0.242\n"
     ]
    },
    {
     "name": "stderr",
     "output_type": "stream",
     "text": [
      "\n"
     ]
    },
    {
     "name": "stdout",
     "output_type": "stream",
     "text": [
      "\n",
      "      Epoch    GPU_mem   box_loss   cls_loss   dfl_loss  Instances       Size\n"
     ]
    },
    {
     "name": "stderr",
     "output_type": "stream",
     "text": [
      "     60/100      4.63G      1.759      1.519      1.581         28        640: 1\n",
      "                 Class     Images  Instances      Box(P          R      mAP50  m"
     ]
    },
    {
     "name": "stdout",
     "output_type": "stream",
     "text": [
      "                   all        720       2435      0.577      0.516      0.534      0.247\n"
     ]
    },
    {
     "name": "stderr",
     "output_type": "stream",
     "text": [
      "\n"
     ]
    },
    {
     "name": "stdout",
     "output_type": "stream",
     "text": [
      "\n",
      "      Epoch    GPU_mem   box_loss   cls_loss   dfl_loss  Instances       Size\n"
     ]
    },
    {
     "name": "stderr",
     "output_type": "stream",
     "text": [
      "     61/100      4.63G      1.751      1.507      1.569         27        640: 1\n",
      "                 Class     Images  Instances      Box(P          R      mAP50  m"
     ]
    },
    {
     "name": "stdout",
     "output_type": "stream",
     "text": [
      "                   all        720       2435      0.569      0.494      0.517      0.244\n"
     ]
    },
    {
     "name": "stderr",
     "output_type": "stream",
     "text": [
      "\n"
     ]
    },
    {
     "name": "stdout",
     "output_type": "stream",
     "text": [
      "\n",
      "      Epoch    GPU_mem   box_loss   cls_loss   dfl_loss  Instances       Size\n"
     ]
    },
    {
     "name": "stderr",
     "output_type": "stream",
     "text": [
      "     62/100      4.67G      1.742      1.501      1.567         36        640: 1\n",
      "                 Class     Images  Instances      Box(P          R      mAP50  m"
     ]
    },
    {
     "name": "stdout",
     "output_type": "stream",
     "text": [
      "                   all        720       2435      0.549        0.5      0.524      0.241\n"
     ]
    },
    {
     "name": "stderr",
     "output_type": "stream",
     "text": [
      "\n"
     ]
    },
    {
     "name": "stdout",
     "output_type": "stream",
     "text": [
      "\n",
      "      Epoch    GPU_mem   box_loss   cls_loss   dfl_loss  Instances       Size\n"
     ]
    },
    {
     "name": "stderr",
     "output_type": "stream",
     "text": [
      "     63/100      4.64G      1.737      1.482      1.558         42        640: 1\n",
      "                 Class     Images  Instances      Box(P          R      mAP50  m"
     ]
    },
    {
     "name": "stdout",
     "output_type": "stream",
     "text": [
      "                   all        720       2435      0.586      0.511      0.534      0.252\n"
     ]
    },
    {
     "name": "stderr",
     "output_type": "stream",
     "text": [
      "\n"
     ]
    },
    {
     "name": "stdout",
     "output_type": "stream",
     "text": [
      "\n",
      "      Epoch    GPU_mem   box_loss   cls_loss   dfl_loss  Instances       Size\n"
     ]
    },
    {
     "name": "stderr",
     "output_type": "stream",
     "text": [
      "     64/100      4.64G      1.732      1.487       1.56         31        640: 1\n",
      "                 Class     Images  Instances      Box(P          R      mAP50  m"
     ]
    },
    {
     "name": "stdout",
     "output_type": "stream",
     "text": [
      "                   all        720       2435      0.581      0.497       0.52      0.243\n"
     ]
    },
    {
     "name": "stderr",
     "output_type": "stream",
     "text": [
      "\n"
     ]
    },
    {
     "name": "stdout",
     "output_type": "stream",
     "text": [
      "\n",
      "      Epoch    GPU_mem   box_loss   cls_loss   dfl_loss  Instances       Size\n"
     ]
    },
    {
     "name": "stderr",
     "output_type": "stream",
     "text": [
      "     65/100      4.65G      1.724      1.465      1.553         24        640: 1\n",
      "                 Class     Images  Instances      Box(P          R      mAP50  m"
     ]
    },
    {
     "name": "stdout",
     "output_type": "stream",
     "text": [
      "                   all        720       2435      0.567      0.514       0.53      0.249\n"
     ]
    },
    {
     "name": "stderr",
     "output_type": "stream",
     "text": [
      "\n"
     ]
    },
    {
     "name": "stdout",
     "output_type": "stream",
     "text": [
      "\n",
      "      Epoch    GPU_mem   box_loss   cls_loss   dfl_loss  Instances       Size\n"
     ]
    },
    {
     "name": "stderr",
     "output_type": "stream",
     "text": [
      "     66/100      4.64G      1.717      1.459      1.546         44        640: 1\n",
      "                 Class     Images  Instances      Box(P          R      mAP50  m"
     ]
    },
    {
     "name": "stdout",
     "output_type": "stream",
     "text": [
      "                   all        720       2435      0.586      0.504      0.528      0.248\n"
     ]
    },
    {
     "name": "stderr",
     "output_type": "stream",
     "text": [
      "\n"
     ]
    },
    {
     "name": "stdout",
     "output_type": "stream",
     "text": [
      "\n",
      "      Epoch    GPU_mem   box_loss   cls_loss   dfl_loss  Instances       Size\n"
     ]
    },
    {
     "name": "stderr",
     "output_type": "stream",
     "text": [
      "     67/100      4.64G      1.714      1.458       1.55         31        640: 1\n",
      "                 Class     Images  Instances      Box(P          R      mAP50  m"
     ]
    },
    {
     "name": "stdout",
     "output_type": "stream",
     "text": [
      "                   all        720       2435      0.578      0.518      0.533      0.253\n"
     ]
    },
    {
     "name": "stderr",
     "output_type": "stream",
     "text": [
      "\n"
     ]
    },
    {
     "name": "stdout",
     "output_type": "stream",
     "text": [
      "\n",
      "      Epoch    GPU_mem   box_loss   cls_loss   dfl_loss  Instances       Size\n"
     ]
    },
    {
     "name": "stderr",
     "output_type": "stream",
     "text": [
      "     68/100      4.64G      1.709      1.447      1.542         18        640: 1\n",
      "                 Class     Images  Instances      Box(P          R      mAP50  m"
     ]
    },
    {
     "name": "stdout",
     "output_type": "stream",
     "text": [
      "                   all        720       2435      0.577      0.541      0.545      0.254\n"
     ]
    },
    {
     "name": "stderr",
     "output_type": "stream",
     "text": [
      "\n"
     ]
    },
    {
     "name": "stdout",
     "output_type": "stream",
     "text": [
      "\n",
      "      Epoch    GPU_mem   box_loss   cls_loss   dfl_loss  Instances       Size\n"
     ]
    },
    {
     "name": "stderr",
     "output_type": "stream",
     "text": [
      "     69/100      4.63G      1.702      1.441      1.545         31        640: 1\n",
      "                 Class     Images  Instances      Box(P          R      mAP50  m"
     ]
    },
    {
     "name": "stdout",
     "output_type": "stream",
     "text": [
      "                   all        720       2435      0.615      0.514      0.552      0.259\n"
     ]
    },
    {
     "name": "stderr",
     "output_type": "stream",
     "text": [
      "\n"
     ]
    },
    {
     "name": "stdout",
     "output_type": "stream",
     "text": [
      "\n",
      "      Epoch    GPU_mem   box_loss   cls_loss   dfl_loss  Instances       Size\n"
     ]
    },
    {
     "name": "stderr",
     "output_type": "stream",
     "text": [
      "     70/100      4.64G      1.695      1.431      1.529         59        640: 1\n",
      "                 Class     Images  Instances      Box(P          R      mAP50  m"
     ]
    },
    {
     "name": "stdout",
     "output_type": "stream",
     "text": [
      "                   all        720       2435      0.587      0.516      0.539      0.252\n"
     ]
    },
    {
     "name": "stderr",
     "output_type": "stream",
     "text": [
      "\n"
     ]
    },
    {
     "name": "stdout",
     "output_type": "stream",
     "text": [
      "\n",
      "      Epoch    GPU_mem   box_loss   cls_loss   dfl_loss  Instances       Size\n"
     ]
    },
    {
     "name": "stderr",
     "output_type": "stream",
     "text": [
      "     71/100      4.64G      1.684       1.41      1.518         41        640: 1\n",
      "                 Class     Images  Instances      Box(P          R      mAP50  m"
     ]
    },
    {
     "name": "stdout",
     "output_type": "stream",
     "text": [
      "                   all        720       2435      0.614        0.5       0.54      0.252\n"
     ]
    },
    {
     "name": "stderr",
     "output_type": "stream",
     "text": [
      "\n"
     ]
    },
    {
     "name": "stdout",
     "output_type": "stream",
     "text": [
      "\n",
      "      Epoch    GPU_mem   box_loss   cls_loss   dfl_loss  Instances       Size\n"
     ]
    },
    {
     "name": "stderr",
     "output_type": "stream",
     "text": [
      "     72/100      4.63G      1.683      1.415      1.524         38        640: 1\n",
      "                 Class     Images  Instances      Box(P          R      mAP50  m"
     ]
    },
    {
     "name": "stdout",
     "output_type": "stream",
     "text": [
      "                   all        720       2435      0.608      0.523      0.559      0.262\n"
     ]
    },
    {
     "name": "stderr",
     "output_type": "stream",
     "text": [
      "\n"
     ]
    },
    {
     "name": "stdout",
     "output_type": "stream",
     "text": [
      "\n",
      "      Epoch    GPU_mem   box_loss   cls_loss   dfl_loss  Instances       Size\n"
     ]
    },
    {
     "name": "stderr",
     "output_type": "stream",
     "text": [
      "     73/100      4.65G      1.678      1.405      1.518         42        640: 1\n",
      "                 Class     Images  Instances      Box(P          R      mAP50  m"
     ]
    },
    {
     "name": "stdout",
     "output_type": "stream",
     "text": [
      "                   all        720       2435      0.632      0.503      0.553       0.26\n"
     ]
    },
    {
     "name": "stderr",
     "output_type": "stream",
     "text": [
      "\n"
     ]
    },
    {
     "name": "stdout",
     "output_type": "stream",
     "text": [
      "\n",
      "      Epoch    GPU_mem   box_loss   cls_loss   dfl_loss  Instances       Size\n"
     ]
    },
    {
     "name": "stderr",
     "output_type": "stream",
     "text": [
      "     74/100      4.64G      1.683      1.405      1.519         38        640: 1\n",
      "                 Class     Images  Instances      Box(P          R      mAP50  m"
     ]
    },
    {
     "name": "stdout",
     "output_type": "stream",
     "text": [
      "                   all        720       2435      0.606      0.518      0.551       0.26\n"
     ]
    },
    {
     "name": "stderr",
     "output_type": "stream",
     "text": [
      "\n"
     ]
    },
    {
     "name": "stdout",
     "output_type": "stream",
     "text": [
      "\n",
      "      Epoch    GPU_mem   box_loss   cls_loss   dfl_loss  Instances       Size\n"
     ]
    },
    {
     "name": "stderr",
     "output_type": "stream",
     "text": [
      "     75/100      4.64G      1.676      1.396      1.517         60        640: 1\n",
      "                 Class     Images  Instances      Box(P          R      mAP50  m"
     ]
    },
    {
     "name": "stdout",
     "output_type": "stream",
     "text": [
      "                   all        720       2435      0.584      0.536      0.555      0.262\n"
     ]
    },
    {
     "name": "stderr",
     "output_type": "stream",
     "text": [
      "\n"
     ]
    },
    {
     "name": "stdout",
     "output_type": "stream",
     "text": [
      "\n",
      "      Epoch    GPU_mem   box_loss   cls_loss   dfl_loss  Instances       Size\n"
     ]
    },
    {
     "name": "stderr",
     "output_type": "stream",
     "text": [
      "     76/100      4.65G      1.654      1.372      1.506         47        640: 1\n",
      "                 Class     Images  Instances      Box(P          R      mAP50  m"
     ]
    },
    {
     "name": "stdout",
     "output_type": "stream",
     "text": [
      "                   all        720       2435      0.604      0.531       0.56      0.265\n"
     ]
    },
    {
     "name": "stderr",
     "output_type": "stream",
     "text": [
      "\n"
     ]
    },
    {
     "name": "stdout",
     "output_type": "stream",
     "text": [
      "\n",
      "      Epoch    GPU_mem   box_loss   cls_loss   dfl_loss  Instances       Size\n"
     ]
    },
    {
     "name": "stderr",
     "output_type": "stream",
     "text": [
      "     77/100      4.64G      1.667       1.38      1.507         39        640: 1\n",
      "                 Class     Images  Instances      Box(P          R      mAP50  m"
     ]
    },
    {
     "name": "stdout",
     "output_type": "stream",
     "text": [
      "                   all        720       2435      0.603      0.536      0.561      0.263\n"
     ]
    },
    {
     "name": "stderr",
     "output_type": "stream",
     "text": [
      "\n"
     ]
    },
    {
     "name": "stdout",
     "output_type": "stream",
     "text": [
      "\n",
      "      Epoch    GPU_mem   box_loss   cls_loss   dfl_loss  Instances       Size\n"
     ]
    },
    {
     "name": "stderr",
     "output_type": "stream",
     "text": [
      "     78/100      4.64G      1.658      1.376      1.502         31        640: 1\n",
      "                 Class     Images  Instances      Box(P          R      mAP50  m"
     ]
    },
    {
     "name": "stdout",
     "output_type": "stream",
     "text": [
      "                   all        720       2435      0.593      0.548       0.56      0.267\n"
     ]
    },
    {
     "name": "stderr",
     "output_type": "stream",
     "text": [
      "\n"
     ]
    },
    {
     "name": "stdout",
     "output_type": "stream",
     "text": [
      "\n",
      "      Epoch    GPU_mem   box_loss   cls_loss   dfl_loss  Instances       Size\n"
     ]
    },
    {
     "name": "stderr",
     "output_type": "stream",
     "text": [
      "     79/100      4.64G      1.641      1.355      1.493         42        640: 1\n",
      "                 Class     Images  Instances      Box(P          R      mAP50  m"
     ]
    },
    {
     "name": "stdout",
     "output_type": "stream",
     "text": [
      "                   all        720       2435      0.577      0.543      0.559      0.265\n"
     ]
    },
    {
     "name": "stderr",
     "output_type": "stream",
     "text": [
      "\n"
     ]
    },
    {
     "name": "stdout",
     "output_type": "stream",
     "text": [
      "\n",
      "      Epoch    GPU_mem   box_loss   cls_loss   dfl_loss  Instances       Size\n"
     ]
    },
    {
     "name": "stderr",
     "output_type": "stream",
     "text": [
      "     80/100      4.67G      1.644      1.353      1.499         32        640: 1\n",
      "                 Class     Images  Instances      Box(P          R      mAP50  m"
     ]
    },
    {
     "name": "stdout",
     "output_type": "stream",
     "text": [
      "                   all        720       2435      0.581      0.537      0.552      0.263\n"
     ]
    },
    {
     "name": "stderr",
     "output_type": "stream",
     "text": [
      "\n"
     ]
    },
    {
     "name": "stdout",
     "output_type": "stream",
     "text": [
      "\n",
      "      Epoch    GPU_mem   box_loss   cls_loss   dfl_loss  Instances       Size\n"
     ]
    },
    {
     "name": "stderr",
     "output_type": "stream",
     "text": [
      "     81/100      4.63G       1.64      1.351      1.491         42        640: 1\n",
      "                 Class     Images  Instances      Box(P          R      mAP50  m"
     ]
    },
    {
     "name": "stdout",
     "output_type": "stream",
     "text": [
      "                   all        720       2435      0.566      0.536      0.553      0.261\n"
     ]
    },
    {
     "name": "stderr",
     "output_type": "stream",
     "text": [
      "\n"
     ]
    },
    {
     "name": "stdout",
     "output_type": "stream",
     "text": [
      "\n",
      "      Epoch    GPU_mem   box_loss   cls_loss   dfl_loss  Instances       Size\n"
     ]
    },
    {
     "name": "stderr",
     "output_type": "stream",
     "text": [
      "     82/100      4.65G      1.638      1.352      1.499         21        640: 1\n",
      "                 Class     Images  Instances      Box(P          R      mAP50  m"
     ]
    },
    {
     "name": "stdout",
     "output_type": "stream",
     "text": [
      "                   all        720       2435      0.587      0.536      0.555      0.263\n"
     ]
    },
    {
     "name": "stderr",
     "output_type": "stream",
     "text": [
      "\n"
     ]
    },
    {
     "name": "stdout",
     "output_type": "stream",
     "text": [
      "\n",
      "      Epoch    GPU_mem   box_loss   cls_loss   dfl_loss  Instances       Size\n"
     ]
    },
    {
     "name": "stderr",
     "output_type": "stream",
     "text": [
      "     83/100      4.64G      1.619      1.331      1.483         33        640: 1\n",
      "                 Class     Images  Instances      Box(P          R      mAP50  m"
     ]
    },
    {
     "name": "stdout",
     "output_type": "stream",
     "text": [
      "                   all        720       2435      0.595      0.533      0.559      0.265\n"
     ]
    },
    {
     "name": "stderr",
     "output_type": "stream",
     "text": [
      "\n"
     ]
    },
    {
     "name": "stdout",
     "output_type": "stream",
     "text": [
      "\n",
      "      Epoch    GPU_mem   box_loss   cls_loss   dfl_loss  Instances       Size\n"
     ]
    },
    {
     "name": "stderr",
     "output_type": "stream",
     "text": [
      "     84/100      4.65G       1.63      1.328      1.479         30        640: 1\n",
      "                 Class     Images  Instances      Box(P          R      mAP50  m"
     ]
    },
    {
     "name": "stdout",
     "output_type": "stream",
     "text": [
      "                   all        720       2435      0.599      0.528      0.557      0.264\n"
     ]
    },
    {
     "name": "stderr",
     "output_type": "stream",
     "text": [
      "\n"
     ]
    },
    {
     "name": "stdout",
     "output_type": "stream",
     "text": [
      "\n",
      "      Epoch    GPU_mem   box_loss   cls_loss   dfl_loss  Instances       Size\n"
     ]
    },
    {
     "name": "stderr",
     "output_type": "stream",
     "text": [
      "     85/100      4.63G       1.62      1.317      1.475         49        640: 1\n",
      "                 Class     Images  Instances      Box(P          R      mAP50  m"
     ]
    },
    {
     "name": "stdout",
     "output_type": "stream",
     "text": [
      "                   all        720       2435      0.624       0.53      0.563      0.271\n"
     ]
    },
    {
     "name": "stderr",
     "output_type": "stream",
     "text": [
      "\n"
     ]
    },
    {
     "name": "stdout",
     "output_type": "stream",
     "text": [
      "\n",
      "      Epoch    GPU_mem   box_loss   cls_loss   dfl_loss  Instances       Size\n"
     ]
    },
    {
     "name": "stderr",
     "output_type": "stream",
     "text": [
      "     86/100      4.66G      1.615      1.318      1.477         25        640: 1\n",
      "                 Class     Images  Instances      Box(P          R      mAP50  m"
     ]
    },
    {
     "name": "stdout",
     "output_type": "stream",
     "text": [
      "                   all        720       2435      0.614      0.535      0.566       0.27\n"
     ]
    },
    {
     "name": "stderr",
     "output_type": "stream",
     "text": [
      "\n"
     ]
    },
    {
     "name": "stdout",
     "output_type": "stream",
     "text": [
      "\n",
      "      Epoch    GPU_mem   box_loss   cls_loss   dfl_loss  Instances       Size\n"
     ]
    },
    {
     "name": "stderr",
     "output_type": "stream",
     "text": [
      "     87/100      4.66G      1.603      1.303      1.468         44        640: 1\n",
      "                 Class     Images  Instances      Box(P          R      mAP50  m"
     ]
    },
    {
     "name": "stdout",
     "output_type": "stream",
     "text": [
      "                   all        720       2435      0.628      0.541      0.577       0.27\n"
     ]
    },
    {
     "name": "stderr",
     "output_type": "stream",
     "text": [
      "\n"
     ]
    },
    {
     "name": "stdout",
     "output_type": "stream",
     "text": [
      "\n",
      "      Epoch    GPU_mem   box_loss   cls_loss   dfl_loss  Instances       Size\n"
     ]
    },
    {
     "name": "stderr",
     "output_type": "stream",
     "text": [
      "     88/100      4.64G      1.611      1.304       1.47         52        640: 1\n",
      "                 Class     Images  Instances      Box(P          R      mAP50  m"
     ]
    },
    {
     "name": "stdout",
     "output_type": "stream",
     "text": [
      "                   all        720       2435      0.616      0.543      0.574      0.267\n"
     ]
    },
    {
     "name": "stderr",
     "output_type": "stream",
     "text": [
      "\n"
     ]
    },
    {
     "name": "stdout",
     "output_type": "stream",
     "text": [
      "\n",
      "      Epoch    GPU_mem   box_loss   cls_loss   dfl_loss  Instances       Size\n"
     ]
    },
    {
     "name": "stderr",
     "output_type": "stream",
     "text": [
      "     89/100      4.63G      1.594      1.296      1.459         34        640: 1\n",
      "                 Class     Images  Instances      Box(P          R      mAP50  m"
     ]
    },
    {
     "name": "stdout",
     "output_type": "stream",
     "text": [
      "                   all        720       2435      0.609      0.542      0.567       0.27\n"
     ]
    },
    {
     "name": "stderr",
     "output_type": "stream",
     "text": [
      "\n"
     ]
    },
    {
     "name": "stdout",
     "output_type": "stream",
     "text": [
      "\n",
      "      Epoch    GPU_mem   box_loss   cls_loss   dfl_loss  Instances       Size\n"
     ]
    },
    {
     "name": "stderr",
     "output_type": "stream",
     "text": [
      "     90/100      4.64G      1.596      1.295      1.461         62        640: 1\n",
      "                 Class     Images  Instances      Box(P          R      mAP50  m"
     ]
    },
    {
     "name": "stdout",
     "output_type": "stream",
     "text": [
      "                   all        720       2435      0.641      0.535      0.571      0.272\n"
     ]
    },
    {
     "name": "stderr",
     "output_type": "stream",
     "text": [
      "\n"
     ]
    },
    {
     "name": "stdout",
     "output_type": "stream",
     "text": [
      "Closing dataloader mosaic\n",
      "\u001b[34m\u001b[1malbumentations: \u001b[0mBlur(p=0.01, blur_limit=(3, 7)), MedianBlur(p=0.01, blur_limit=(3, 7)), ToGray(p=0.01), CLAHE(p=0.01, clip_limit=(1, 4.0), tile_grid_size=(8, 8))\n",
      "\n",
      "      Epoch    GPU_mem   box_loss   cls_loss   dfl_loss  Instances       Size\n"
     ]
    },
    {
     "name": "stderr",
     "output_type": "stream",
     "text": [
      "     91/100      4.63G      1.627      1.317      1.527         28        640: 1\n",
      "                 Class     Images  Instances      Box(P          R      mAP50  m"
     ]
    },
    {
     "name": "stdout",
     "output_type": "stream",
     "text": [
      "                   all        720       2435      0.637      0.544      0.582      0.284\n"
     ]
    },
    {
     "name": "stderr",
     "output_type": "stream",
     "text": [
      "\n"
     ]
    },
    {
     "name": "stdout",
     "output_type": "stream",
     "text": [
      "\n",
      "      Epoch    GPU_mem   box_loss   cls_loss   dfl_loss  Instances       Size\n"
     ]
    },
    {
     "name": "stderr",
     "output_type": "stream",
     "text": [
      "     92/100      4.64G      1.591      1.273      1.506         17        640: 1\n",
      "                 Class     Images  Instances      Box(P          R      mAP50  m"
     ]
    },
    {
     "name": "stdout",
     "output_type": "stream",
     "text": [
      "                   all        720       2435      0.624      0.571      0.587      0.287\n"
     ]
    },
    {
     "name": "stderr",
     "output_type": "stream",
     "text": [
      "\n"
     ]
    },
    {
     "name": "stdout",
     "output_type": "stream",
     "text": [
      "\n",
      "      Epoch    GPU_mem   box_loss   cls_loss   dfl_loss  Instances       Size\n"
     ]
    },
    {
     "name": "stderr",
     "output_type": "stream",
     "text": [
      "     93/100      4.64G      1.569      1.249       1.49         19        640: 1\n",
      "                 Class     Images  Instances      Box(P          R      mAP50  m"
     ]
    },
    {
     "name": "stdout",
     "output_type": "stream",
     "text": [
      "                   all        720       2435       0.63       0.58      0.597      0.291\n"
     ]
    },
    {
     "name": "stderr",
     "output_type": "stream",
     "text": [
      "\n"
     ]
    },
    {
     "name": "stdout",
     "output_type": "stream",
     "text": [
      "\n",
      "      Epoch    GPU_mem   box_loss   cls_loss   dfl_loss  Instances       Size\n"
     ]
    },
    {
     "name": "stderr",
     "output_type": "stream",
     "text": [
      "     94/100      4.64G       1.56      1.247      1.492         18        640: 1\n",
      "                 Class     Images  Instances      Box(P          R      mAP50  m"
     ]
    },
    {
     "name": "stdout",
     "output_type": "stream",
     "text": [
      "                   all        720       2435      0.623      0.567      0.597      0.292\n"
     ]
    },
    {
     "name": "stderr",
     "output_type": "stream",
     "text": [
      "\n"
     ]
    },
    {
     "name": "stdout",
     "output_type": "stream",
     "text": [
      "\n",
      "      Epoch    GPU_mem   box_loss   cls_loss   dfl_loss  Instances       Size\n"
     ]
    },
    {
     "name": "stderr",
     "output_type": "stream",
     "text": [
      "     95/100      4.64G      1.551      1.241      1.484         10        640: 1\n",
      "                 Class     Images  Instances      Box(P          R      mAP50  m"
     ]
    },
    {
     "name": "stdout",
     "output_type": "stream",
     "text": [
      "                   all        720       2435      0.619      0.581      0.597      0.293\n"
     ]
    },
    {
     "name": "stderr",
     "output_type": "stream",
     "text": [
      "\n"
     ]
    },
    {
     "name": "stdout",
     "output_type": "stream",
     "text": [
      "\n",
      "      Epoch    GPU_mem   box_loss   cls_loss   dfl_loss  Instances       Size\n"
     ]
    },
    {
     "name": "stderr",
     "output_type": "stream",
     "text": [
      "     96/100      4.64G      1.555      1.231      1.482         15        640: 1\n",
      "                 Class     Images  Instances      Box(P          R      mAP50  m"
     ]
    },
    {
     "name": "stdout",
     "output_type": "stream",
     "text": [
      "                   all        720       2435       0.62      0.577        0.6      0.294\n"
     ]
    },
    {
     "name": "stderr",
     "output_type": "stream",
     "text": [
      "\n"
     ]
    },
    {
     "name": "stdout",
     "output_type": "stream",
     "text": [
      "\n",
      "      Epoch    GPU_mem   box_loss   cls_loss   dfl_loss  Instances       Size\n"
     ]
    },
    {
     "name": "stderr",
     "output_type": "stream",
     "text": [
      "     97/100      4.64G      1.551      1.228      1.481         12        640: 1\n",
      "                 Class     Images  Instances      Box(P          R      mAP50  m"
     ]
    },
    {
     "name": "stdout",
     "output_type": "stream",
     "text": [
      "                   all        720       2435      0.639      0.564        0.6      0.295\n"
     ]
    },
    {
     "name": "stderr",
     "output_type": "stream",
     "text": [
      "\n"
     ]
    },
    {
     "name": "stdout",
     "output_type": "stream",
     "text": [
      "\n",
      "      Epoch    GPU_mem   box_loss   cls_loss   dfl_loss  Instances       Size\n"
     ]
    },
    {
     "name": "stderr",
     "output_type": "stream",
     "text": [
      "     98/100      4.64G      1.542      1.223      1.471         23        640: 1\n",
      "                 Class     Images  Instances      Box(P          R      mAP50  m"
     ]
    },
    {
     "name": "stdout",
     "output_type": "stream",
     "text": [
      "                   all        720       2435      0.631      0.576        0.6      0.295\n"
     ]
    },
    {
     "name": "stderr",
     "output_type": "stream",
     "text": [
      "\n"
     ]
    },
    {
     "name": "stdout",
     "output_type": "stream",
     "text": [
      "\n",
      "      Epoch    GPU_mem   box_loss   cls_loss   dfl_loss  Instances       Size\n"
     ]
    },
    {
     "name": "stderr",
     "output_type": "stream",
     "text": [
      "     99/100      4.63G      1.538      1.209      1.472         14        640: 1\n",
      "                 Class     Images  Instances      Box(P          R      mAP50  m"
     ]
    },
    {
     "name": "stdout",
     "output_type": "stream",
     "text": [
      "                   all        720       2435      0.654      0.568      0.606      0.297\n"
     ]
    },
    {
     "name": "stderr",
     "output_type": "stream",
     "text": [
      "\n"
     ]
    },
    {
     "name": "stdout",
     "output_type": "stream",
     "text": [
      "\n",
      "      Epoch    GPU_mem   box_loss   cls_loss   dfl_loss  Instances       Size\n"
     ]
    },
    {
     "name": "stderr",
     "output_type": "stream",
     "text": [
      "    100/100      4.64G      1.535       1.21       1.47         21        640: 1\n",
      "                 Class     Images  Instances      Box(P          R      mAP50  m"
     ]
    },
    {
     "name": "stdout",
     "output_type": "stream",
     "text": [
      "                   all        720       2435      0.651      0.563      0.606      0.298\n"
     ]
    },
    {
     "name": "stderr",
     "output_type": "stream",
     "text": [
      "\n"
     ]
    },
    {
     "name": "stdout",
     "output_type": "stream",
     "text": [
      "\n",
      "100 epochs completed in 5.188 hours.\n",
      "Optimizer stripped from runs/detect/train6/weights/last.pt, 40.5MB\n",
      "Optimizer stripped from runs/detect/train6/weights/best.pt, 40.5MB\n",
      "\n",
      "Validating runs/detect/train6/weights/best.pt...\n",
      "Ultralytics 8.3.18 🚀 Python-3.12.4 torch-2.4.1+cu121 CUDA:0 (NVIDIA GeForce RTX 3060 Laptop GPU, 5931MiB)\n",
      "YOLO11m summary (fused): 303 layers, 20,040,055 parameters, 0 gradients, 67.7 GFLOPs\n"
     ]
    },
    {
     "name": "stderr",
     "output_type": "stream",
     "text": [
      "                 Class     Images  Instances      Box(P          R      mAP50  m\n"
     ]
    },
    {
     "name": "stdout",
     "output_type": "stream",
     "text": [
      "                   all        720       2435      0.654      0.563      0.606      0.298\n",
      "                  Burn         33         85      0.521      0.423      0.402      0.191\n",
      "           Clear Glass         63        107      0.704      0.514      0.586      0.246\n",
      "             Corrosion        138        461      0.651      0.514      0.573      0.223\n",
      "                 Crack         95        225      0.657      0.511      0.601      0.249\n",
      "               Cutouts         13         19      0.741      0.737      0.768      0.398\n",
      "         Defaced Paint        119        376      0.634      0.636      0.637      0.291\n",
      "                 Dents         93        152      0.689      0.605      0.668      0.384\n",
      "        Hairline Glass         62         84      0.359      0.131      0.193     0.0788\n",
      "             Inclusion        145        434      0.637      0.484      0.563      0.279\n",
      "            Paint-Peel        168        324       0.75       0.73      0.772       0.36\n",
      "         Spidery Glass         21         21      0.665      0.571      0.591      0.272\n",
      "        Tempered Glass         90        147      0.843      0.898      0.918      0.609\n",
      "Speed: 0.2ms preprocess, 5.1ms inference, 0.0ms loss, 1.2ms postprocess per image\n",
      "Results saved to \u001b[1mruns/detect/train6\u001b[0m\n"
     ]
    },
    {
     "data": {
      "text/plain": [
       "ultralytics.utils.metrics.DetMetrics object with attributes:\n",
       "\n",
       "ap_class_index: array([ 1,  2,  3,  4,  5,  6,  7,  8,  9, 10, 11, 12])\n",
       "box: ultralytics.utils.metrics.Metric object\n",
       "confusion_matrix: <ultralytics.utils.metrics.ConfusionMatrix object at 0x78d12b4065d0>\n",
       "curves: ['Precision-Recall(B)', 'F1-Confidence(B)', 'Precision-Confidence(B)', 'Recall-Confidence(B)']\n",
       "curves_results: [[array([          0,    0.001001,    0.002002,    0.003003,    0.004004,    0.005005,    0.006006,    0.007007,    0.008008,    0.009009,     0.01001,    0.011011,    0.012012,    0.013013,    0.014014,    0.015015,    0.016016,    0.017017,    0.018018,    0.019019,     0.02002,    0.021021,    0.022022,    0.023023,\n",
       "          0.024024,    0.025025,    0.026026,    0.027027,    0.028028,    0.029029,     0.03003,    0.031031,    0.032032,    0.033033,    0.034034,    0.035035,    0.036036,    0.037037,    0.038038,    0.039039,     0.04004,    0.041041,    0.042042,    0.043043,    0.044044,    0.045045,    0.046046,    0.047047,\n",
       "          0.048048,    0.049049,     0.05005,    0.051051,    0.052052,    0.053053,    0.054054,    0.055055,    0.056056,    0.057057,    0.058058,    0.059059,     0.06006,    0.061061,    0.062062,    0.063063,    0.064064,    0.065065,    0.066066,    0.067067,    0.068068,    0.069069,     0.07007,    0.071071,\n",
       "          0.072072,    0.073073,    0.074074,    0.075075,    0.076076,    0.077077,    0.078078,    0.079079,     0.08008,    0.081081,    0.082082,    0.083083,    0.084084,    0.085085,    0.086086,    0.087087,    0.088088,    0.089089,     0.09009,    0.091091,    0.092092,    0.093093,    0.094094,    0.095095,\n",
       "          0.096096,    0.097097,    0.098098,    0.099099,      0.1001,      0.1011,      0.1021,      0.1031,      0.1041,     0.10511,     0.10611,     0.10711,     0.10811,     0.10911,     0.11011,     0.11111,     0.11211,     0.11311,     0.11411,     0.11512,     0.11612,     0.11712,     0.11812,     0.11912,\n",
       "           0.12012,     0.12112,     0.12212,     0.12312,     0.12412,     0.12513,     0.12613,     0.12713,     0.12813,     0.12913,     0.13013,     0.13113,     0.13213,     0.13313,     0.13413,     0.13514,     0.13614,     0.13714,     0.13814,     0.13914,     0.14014,     0.14114,     0.14214,     0.14314,\n",
       "           0.14414,     0.14515,     0.14615,     0.14715,     0.14815,     0.14915,     0.15015,     0.15115,     0.15215,     0.15315,     0.15415,     0.15516,     0.15616,     0.15716,     0.15816,     0.15916,     0.16016,     0.16116,     0.16216,     0.16316,     0.16416,     0.16517,     0.16617,     0.16717,\n",
       "           0.16817,     0.16917,     0.17017,     0.17117,     0.17217,     0.17317,     0.17417,     0.17518,     0.17618,     0.17718,     0.17818,     0.17918,     0.18018,     0.18118,     0.18218,     0.18318,     0.18418,     0.18519,     0.18619,     0.18719,     0.18819,     0.18919,     0.19019,     0.19119,\n",
       "           0.19219,     0.19319,     0.19419,      0.1952,      0.1962,      0.1972,      0.1982,      0.1992,      0.2002,      0.2012,      0.2022,      0.2032,      0.2042,     0.20521,     0.20621,     0.20721,     0.20821,     0.20921,     0.21021,     0.21121,     0.21221,     0.21321,     0.21421,     0.21522,\n",
       "           0.21622,     0.21722,     0.21822,     0.21922,     0.22022,     0.22122,     0.22222,     0.22322,     0.22422,     0.22523,     0.22623,     0.22723,     0.22823,     0.22923,     0.23023,     0.23123,     0.23223,     0.23323,     0.23423,     0.23524,     0.23624,     0.23724,     0.23824,     0.23924,\n",
       "           0.24024,     0.24124,     0.24224,     0.24324,     0.24424,     0.24525,     0.24625,     0.24725,     0.24825,     0.24925,     0.25025,     0.25125,     0.25225,     0.25325,     0.25425,     0.25526,     0.25626,     0.25726,     0.25826,     0.25926,     0.26026,     0.26126,     0.26226,     0.26326,\n",
       "           0.26426,     0.26527,     0.26627,     0.26727,     0.26827,     0.26927,     0.27027,     0.27127,     0.27227,     0.27327,     0.27427,     0.27528,     0.27628,     0.27728,     0.27828,     0.27928,     0.28028,     0.28128,     0.28228,     0.28328,     0.28428,     0.28529,     0.28629,     0.28729,\n",
       "           0.28829,     0.28929,     0.29029,     0.29129,     0.29229,     0.29329,     0.29429,      0.2953,      0.2963,      0.2973,      0.2983,      0.2993,      0.3003,      0.3013,      0.3023,      0.3033,      0.3043,     0.30531,     0.30631,     0.30731,     0.30831,     0.30931,     0.31031,     0.31131,\n",
       "           0.31231,     0.31331,     0.31431,     0.31532,     0.31632,     0.31732,     0.31832,     0.31932,     0.32032,     0.32132,     0.32232,     0.32332,     0.32432,     0.32533,     0.32633,     0.32733,     0.32833,     0.32933,     0.33033,     0.33133,     0.33233,     0.33333,     0.33433,     0.33534,\n",
       "           0.33634,     0.33734,     0.33834,     0.33934,     0.34034,     0.34134,     0.34234,     0.34334,     0.34434,     0.34535,     0.34635,     0.34735,     0.34835,     0.34935,     0.35035,     0.35135,     0.35235,     0.35335,     0.35435,     0.35536,     0.35636,     0.35736,     0.35836,     0.35936,\n",
       "           0.36036,     0.36136,     0.36236,     0.36336,     0.36436,     0.36537,     0.36637,     0.36737,     0.36837,     0.36937,     0.37037,     0.37137,     0.37237,     0.37337,     0.37437,     0.37538,     0.37638,     0.37738,     0.37838,     0.37938,     0.38038,     0.38138,     0.38238,     0.38338,\n",
       "           0.38438,     0.38539,     0.38639,     0.38739,     0.38839,     0.38939,     0.39039,     0.39139,     0.39239,     0.39339,     0.39439,      0.3954,      0.3964,      0.3974,      0.3984,      0.3994,      0.4004,      0.4014,      0.4024,      0.4034,      0.4044,     0.40541,     0.40641,     0.40741,\n",
       "           0.40841,     0.40941,     0.41041,     0.41141,     0.41241,     0.41341,     0.41441,     0.41542,     0.41642,     0.41742,     0.41842,     0.41942,     0.42042,     0.42142,     0.42242,     0.42342,     0.42442,     0.42543,     0.42643,     0.42743,     0.42843,     0.42943,     0.43043,     0.43143,\n",
       "           0.43243,     0.43343,     0.43443,     0.43544,     0.43644,     0.43744,     0.43844,     0.43944,     0.44044,     0.44144,     0.44244,     0.44344,     0.44444,     0.44545,     0.44645,     0.44745,     0.44845,     0.44945,     0.45045,     0.45145,     0.45245,     0.45345,     0.45445,     0.45546,\n",
       "           0.45646,     0.45746,     0.45846,     0.45946,     0.46046,     0.46146,     0.46246,     0.46346,     0.46446,     0.46547,     0.46647,     0.46747,     0.46847,     0.46947,     0.47047,     0.47147,     0.47247,     0.47347,     0.47447,     0.47548,     0.47648,     0.47748,     0.47848,     0.47948,\n",
       "           0.48048,     0.48148,     0.48248,     0.48348,     0.48448,     0.48549,     0.48649,     0.48749,     0.48849,     0.48949,     0.49049,     0.49149,     0.49249,     0.49349,     0.49449,      0.4955,      0.4965,      0.4975,      0.4985,      0.4995,      0.5005,      0.5015,      0.5025,      0.5035,\n",
       "            0.5045,     0.50551,     0.50651,     0.50751,     0.50851,     0.50951,     0.51051,     0.51151,     0.51251,     0.51351,     0.51451,     0.51552,     0.51652,     0.51752,     0.51852,     0.51952,     0.52052,     0.52152,     0.52252,     0.52352,     0.52452,     0.52553,     0.52653,     0.52753,\n",
       "           0.52853,     0.52953,     0.53053,     0.53153,     0.53253,     0.53353,     0.53453,     0.53554,     0.53654,     0.53754,     0.53854,     0.53954,     0.54054,     0.54154,     0.54254,     0.54354,     0.54454,     0.54555,     0.54655,     0.54755,     0.54855,     0.54955,     0.55055,     0.55155,\n",
       "           0.55255,     0.55355,     0.55455,     0.55556,     0.55656,     0.55756,     0.55856,     0.55956,     0.56056,     0.56156,     0.56256,     0.56356,     0.56456,     0.56557,     0.56657,     0.56757,     0.56857,     0.56957,     0.57057,     0.57157,     0.57257,     0.57357,     0.57457,     0.57558,\n",
       "           0.57658,     0.57758,     0.57858,     0.57958,     0.58058,     0.58158,     0.58258,     0.58358,     0.58458,     0.58559,     0.58659,     0.58759,     0.58859,     0.58959,     0.59059,     0.59159,     0.59259,     0.59359,     0.59459,      0.5956,      0.5966,      0.5976,      0.5986,      0.5996,\n",
       "            0.6006,      0.6016,      0.6026,      0.6036,      0.6046,     0.60561,     0.60661,     0.60761,     0.60861,     0.60961,     0.61061,     0.61161,     0.61261,     0.61361,     0.61461,     0.61562,     0.61662,     0.61762,     0.61862,     0.61962,     0.62062,     0.62162,     0.62262,     0.62362,\n",
       "           0.62462,     0.62563,     0.62663,     0.62763,     0.62863,     0.62963,     0.63063,     0.63163,     0.63263,     0.63363,     0.63463,     0.63564,     0.63664,     0.63764,     0.63864,     0.63964,     0.64064,     0.64164,     0.64264,     0.64364,     0.64464,     0.64565,     0.64665,     0.64765,\n",
       "           0.64865,     0.64965,     0.65065,     0.65165,     0.65265,     0.65365,     0.65465,     0.65566,     0.65666,     0.65766,     0.65866,     0.65966,     0.66066,     0.66166,     0.66266,     0.66366,     0.66466,     0.66567,     0.66667,     0.66767,     0.66867,     0.66967,     0.67067,     0.67167,\n",
       "           0.67267,     0.67367,     0.67467,     0.67568,     0.67668,     0.67768,     0.67868,     0.67968,     0.68068,     0.68168,     0.68268,     0.68368,     0.68468,     0.68569,     0.68669,     0.68769,     0.68869,     0.68969,     0.69069,     0.69169,     0.69269,     0.69369,     0.69469,      0.6957,\n",
       "            0.6967,      0.6977,      0.6987,      0.6997,      0.7007,      0.7017,      0.7027,      0.7037,      0.7047,     0.70571,     0.70671,     0.70771,     0.70871,     0.70971,     0.71071,     0.71171,     0.71271,     0.71371,     0.71471,     0.71572,     0.71672,     0.71772,     0.71872,     0.71972,\n",
       "           0.72072,     0.72172,     0.72272,     0.72372,     0.72472,     0.72573,     0.72673,     0.72773,     0.72873,     0.72973,     0.73073,     0.73173,     0.73273,     0.73373,     0.73473,     0.73574,     0.73674,     0.73774,     0.73874,     0.73974,     0.74074,     0.74174,     0.74274,     0.74374,\n",
       "           0.74474,     0.74575,     0.74675,     0.74775,     0.74875,     0.74975,     0.75075,     0.75175,     0.75275,     0.75375,     0.75475,     0.75576,     0.75676,     0.75776,     0.75876,     0.75976,     0.76076,     0.76176,     0.76276,     0.76376,     0.76476,     0.76577,     0.76677,     0.76777,\n",
       "           0.76877,     0.76977,     0.77077,     0.77177,     0.77277,     0.77377,     0.77477,     0.77578,     0.77678,     0.77778,     0.77878,     0.77978,     0.78078,     0.78178,     0.78278,     0.78378,     0.78478,     0.78579,     0.78679,     0.78779,     0.78879,     0.78979,     0.79079,     0.79179,\n",
       "           0.79279,     0.79379,     0.79479,      0.7958,      0.7968,      0.7978,      0.7988,      0.7998,      0.8008,      0.8018,      0.8028,      0.8038,      0.8048,     0.80581,     0.80681,     0.80781,     0.80881,     0.80981,     0.81081,     0.81181,     0.81281,     0.81381,     0.81481,     0.81582,\n",
       "           0.81682,     0.81782,     0.81882,     0.81982,     0.82082,     0.82182,     0.82282,     0.82382,     0.82482,     0.82583,     0.82683,     0.82783,     0.82883,     0.82983,     0.83083,     0.83183,     0.83283,     0.83383,     0.83483,     0.83584,     0.83684,     0.83784,     0.83884,     0.83984,\n",
       "           0.84084,     0.84184,     0.84284,     0.84384,     0.84484,     0.84585,     0.84685,     0.84785,     0.84885,     0.84985,     0.85085,     0.85185,     0.85285,     0.85385,     0.85485,     0.85586,     0.85686,     0.85786,     0.85886,     0.85986,     0.86086,     0.86186,     0.86286,     0.86386,\n",
       "           0.86486,     0.86587,     0.86687,     0.86787,     0.86887,     0.86987,     0.87087,     0.87187,     0.87287,     0.87387,     0.87487,     0.87588,     0.87688,     0.87788,     0.87888,     0.87988,     0.88088,     0.88188,     0.88288,     0.88388,     0.88488,     0.88589,     0.88689,     0.88789,\n",
       "           0.88889,     0.88989,     0.89089,     0.89189,     0.89289,     0.89389,     0.89489,      0.8959,      0.8969,      0.8979,      0.8989,      0.8999,      0.9009,      0.9019,      0.9029,      0.9039,      0.9049,     0.90591,     0.90691,     0.90791,     0.90891,     0.90991,     0.91091,     0.91191,\n",
       "           0.91291,     0.91391,     0.91491,     0.91592,     0.91692,     0.91792,     0.91892,     0.91992,     0.92092,     0.92192,     0.92292,     0.92392,     0.92492,     0.92593,     0.92693,     0.92793,     0.92893,     0.92993,     0.93093,     0.93193,     0.93293,     0.93393,     0.93493,     0.93594,\n",
       "           0.93694,     0.93794,     0.93894,     0.93994,     0.94094,     0.94194,     0.94294,     0.94394,     0.94494,     0.94595,     0.94695,     0.94795,     0.94895,     0.94995,     0.95095,     0.95195,     0.95295,     0.95395,     0.95495,     0.95596,     0.95696,     0.95796,     0.95896,     0.95996,\n",
       "           0.96096,     0.96196,     0.96296,     0.96396,     0.96496,     0.96597,     0.96697,     0.96797,     0.96897,     0.96997,     0.97097,     0.97197,     0.97297,     0.97397,     0.97497,     0.97598,     0.97698,     0.97798,     0.97898,     0.97998,     0.98098,     0.98198,     0.98298,     0.98398,\n",
       "           0.98498,     0.98599,     0.98699,     0.98799,     0.98899,     0.98999,     0.99099,     0.99199,     0.99299,     0.99399,     0.99499,       0.996,       0.997,       0.998,       0.999,           1]), array([[    0.92857,     0.92857,     0.92857, ...,  0.00030229,  0.00015115,           0],\n",
       "       [          1,           1,           1, ...,   0.0058568,   0.0029284,           0],\n",
       "       [          1,           1,           1, ...,  0.00099725,  0.00049863,           0],\n",
       "       ...,\n",
       "       [          1,           1,           1, ...,     0.00155,  0.00077501,           0],\n",
       "       [    0.90909,     0.90909,     0.90909, ...,  0.00077553,  0.00038777,           0],\n",
       "       [          1,           1,           1, ...,   0.0086068,   0.0043034,           0]]), 'Recall', 'Precision'], [array([          0,    0.001001,    0.002002,    0.003003,    0.004004,    0.005005,    0.006006,    0.007007,    0.008008,    0.009009,     0.01001,    0.011011,    0.012012,    0.013013,    0.014014,    0.015015,    0.016016,    0.017017,    0.018018,    0.019019,     0.02002,    0.021021,    0.022022,    0.023023,\n",
       "          0.024024,    0.025025,    0.026026,    0.027027,    0.028028,    0.029029,     0.03003,    0.031031,    0.032032,    0.033033,    0.034034,    0.035035,    0.036036,    0.037037,    0.038038,    0.039039,     0.04004,    0.041041,    0.042042,    0.043043,    0.044044,    0.045045,    0.046046,    0.047047,\n",
       "          0.048048,    0.049049,     0.05005,    0.051051,    0.052052,    0.053053,    0.054054,    0.055055,    0.056056,    0.057057,    0.058058,    0.059059,     0.06006,    0.061061,    0.062062,    0.063063,    0.064064,    0.065065,    0.066066,    0.067067,    0.068068,    0.069069,     0.07007,    0.071071,\n",
       "          0.072072,    0.073073,    0.074074,    0.075075,    0.076076,    0.077077,    0.078078,    0.079079,     0.08008,    0.081081,    0.082082,    0.083083,    0.084084,    0.085085,    0.086086,    0.087087,    0.088088,    0.089089,     0.09009,    0.091091,    0.092092,    0.093093,    0.094094,    0.095095,\n",
       "          0.096096,    0.097097,    0.098098,    0.099099,      0.1001,      0.1011,      0.1021,      0.1031,      0.1041,     0.10511,     0.10611,     0.10711,     0.10811,     0.10911,     0.11011,     0.11111,     0.11211,     0.11311,     0.11411,     0.11512,     0.11612,     0.11712,     0.11812,     0.11912,\n",
       "           0.12012,     0.12112,     0.12212,     0.12312,     0.12412,     0.12513,     0.12613,     0.12713,     0.12813,     0.12913,     0.13013,     0.13113,     0.13213,     0.13313,     0.13413,     0.13514,     0.13614,     0.13714,     0.13814,     0.13914,     0.14014,     0.14114,     0.14214,     0.14314,\n",
       "           0.14414,     0.14515,     0.14615,     0.14715,     0.14815,     0.14915,     0.15015,     0.15115,     0.15215,     0.15315,     0.15415,     0.15516,     0.15616,     0.15716,     0.15816,     0.15916,     0.16016,     0.16116,     0.16216,     0.16316,     0.16416,     0.16517,     0.16617,     0.16717,\n",
       "           0.16817,     0.16917,     0.17017,     0.17117,     0.17217,     0.17317,     0.17417,     0.17518,     0.17618,     0.17718,     0.17818,     0.17918,     0.18018,     0.18118,     0.18218,     0.18318,     0.18418,     0.18519,     0.18619,     0.18719,     0.18819,     0.18919,     0.19019,     0.19119,\n",
       "           0.19219,     0.19319,     0.19419,      0.1952,      0.1962,      0.1972,      0.1982,      0.1992,      0.2002,      0.2012,      0.2022,      0.2032,      0.2042,     0.20521,     0.20621,     0.20721,     0.20821,     0.20921,     0.21021,     0.21121,     0.21221,     0.21321,     0.21421,     0.21522,\n",
       "           0.21622,     0.21722,     0.21822,     0.21922,     0.22022,     0.22122,     0.22222,     0.22322,     0.22422,     0.22523,     0.22623,     0.22723,     0.22823,     0.22923,     0.23023,     0.23123,     0.23223,     0.23323,     0.23423,     0.23524,     0.23624,     0.23724,     0.23824,     0.23924,\n",
       "           0.24024,     0.24124,     0.24224,     0.24324,     0.24424,     0.24525,     0.24625,     0.24725,     0.24825,     0.24925,     0.25025,     0.25125,     0.25225,     0.25325,     0.25425,     0.25526,     0.25626,     0.25726,     0.25826,     0.25926,     0.26026,     0.26126,     0.26226,     0.26326,\n",
       "           0.26426,     0.26527,     0.26627,     0.26727,     0.26827,     0.26927,     0.27027,     0.27127,     0.27227,     0.27327,     0.27427,     0.27528,     0.27628,     0.27728,     0.27828,     0.27928,     0.28028,     0.28128,     0.28228,     0.28328,     0.28428,     0.28529,     0.28629,     0.28729,\n",
       "           0.28829,     0.28929,     0.29029,     0.29129,     0.29229,     0.29329,     0.29429,      0.2953,      0.2963,      0.2973,      0.2983,      0.2993,      0.3003,      0.3013,      0.3023,      0.3033,      0.3043,     0.30531,     0.30631,     0.30731,     0.30831,     0.30931,     0.31031,     0.31131,\n",
       "           0.31231,     0.31331,     0.31431,     0.31532,     0.31632,     0.31732,     0.31832,     0.31932,     0.32032,     0.32132,     0.32232,     0.32332,     0.32432,     0.32533,     0.32633,     0.32733,     0.32833,     0.32933,     0.33033,     0.33133,     0.33233,     0.33333,     0.33433,     0.33534,\n",
       "           0.33634,     0.33734,     0.33834,     0.33934,     0.34034,     0.34134,     0.34234,     0.34334,     0.34434,     0.34535,     0.34635,     0.34735,     0.34835,     0.34935,     0.35035,     0.35135,     0.35235,     0.35335,     0.35435,     0.35536,     0.35636,     0.35736,     0.35836,     0.35936,\n",
       "           0.36036,     0.36136,     0.36236,     0.36336,     0.36436,     0.36537,     0.36637,     0.36737,     0.36837,     0.36937,     0.37037,     0.37137,     0.37237,     0.37337,     0.37437,     0.37538,     0.37638,     0.37738,     0.37838,     0.37938,     0.38038,     0.38138,     0.38238,     0.38338,\n",
       "           0.38438,     0.38539,     0.38639,     0.38739,     0.38839,     0.38939,     0.39039,     0.39139,     0.39239,     0.39339,     0.39439,      0.3954,      0.3964,      0.3974,      0.3984,      0.3994,      0.4004,      0.4014,      0.4024,      0.4034,      0.4044,     0.40541,     0.40641,     0.40741,\n",
       "           0.40841,     0.40941,     0.41041,     0.41141,     0.41241,     0.41341,     0.41441,     0.41542,     0.41642,     0.41742,     0.41842,     0.41942,     0.42042,     0.42142,     0.42242,     0.42342,     0.42442,     0.42543,     0.42643,     0.42743,     0.42843,     0.42943,     0.43043,     0.43143,\n",
       "           0.43243,     0.43343,     0.43443,     0.43544,     0.43644,     0.43744,     0.43844,     0.43944,     0.44044,     0.44144,     0.44244,     0.44344,     0.44444,     0.44545,     0.44645,     0.44745,     0.44845,     0.44945,     0.45045,     0.45145,     0.45245,     0.45345,     0.45445,     0.45546,\n",
       "           0.45646,     0.45746,     0.45846,     0.45946,     0.46046,     0.46146,     0.46246,     0.46346,     0.46446,     0.46547,     0.46647,     0.46747,     0.46847,     0.46947,     0.47047,     0.47147,     0.47247,     0.47347,     0.47447,     0.47548,     0.47648,     0.47748,     0.47848,     0.47948,\n",
       "           0.48048,     0.48148,     0.48248,     0.48348,     0.48448,     0.48549,     0.48649,     0.48749,     0.48849,     0.48949,     0.49049,     0.49149,     0.49249,     0.49349,     0.49449,      0.4955,      0.4965,      0.4975,      0.4985,      0.4995,      0.5005,      0.5015,      0.5025,      0.5035,\n",
       "            0.5045,     0.50551,     0.50651,     0.50751,     0.50851,     0.50951,     0.51051,     0.51151,     0.51251,     0.51351,     0.51451,     0.51552,     0.51652,     0.51752,     0.51852,     0.51952,     0.52052,     0.52152,     0.52252,     0.52352,     0.52452,     0.52553,     0.52653,     0.52753,\n",
       "           0.52853,     0.52953,     0.53053,     0.53153,     0.53253,     0.53353,     0.53453,     0.53554,     0.53654,     0.53754,     0.53854,     0.53954,     0.54054,     0.54154,     0.54254,     0.54354,     0.54454,     0.54555,     0.54655,     0.54755,     0.54855,     0.54955,     0.55055,     0.55155,\n",
       "           0.55255,     0.55355,     0.55455,     0.55556,     0.55656,     0.55756,     0.55856,     0.55956,     0.56056,     0.56156,     0.56256,     0.56356,     0.56456,     0.56557,     0.56657,     0.56757,     0.56857,     0.56957,     0.57057,     0.57157,     0.57257,     0.57357,     0.57457,     0.57558,\n",
       "           0.57658,     0.57758,     0.57858,     0.57958,     0.58058,     0.58158,     0.58258,     0.58358,     0.58458,     0.58559,     0.58659,     0.58759,     0.58859,     0.58959,     0.59059,     0.59159,     0.59259,     0.59359,     0.59459,      0.5956,      0.5966,      0.5976,      0.5986,      0.5996,\n",
       "            0.6006,      0.6016,      0.6026,      0.6036,      0.6046,     0.60561,     0.60661,     0.60761,     0.60861,     0.60961,     0.61061,     0.61161,     0.61261,     0.61361,     0.61461,     0.61562,     0.61662,     0.61762,     0.61862,     0.61962,     0.62062,     0.62162,     0.62262,     0.62362,\n",
       "           0.62462,     0.62563,     0.62663,     0.62763,     0.62863,     0.62963,     0.63063,     0.63163,     0.63263,     0.63363,     0.63463,     0.63564,     0.63664,     0.63764,     0.63864,     0.63964,     0.64064,     0.64164,     0.64264,     0.64364,     0.64464,     0.64565,     0.64665,     0.64765,\n",
       "           0.64865,     0.64965,     0.65065,     0.65165,     0.65265,     0.65365,     0.65465,     0.65566,     0.65666,     0.65766,     0.65866,     0.65966,     0.66066,     0.66166,     0.66266,     0.66366,     0.66466,     0.66567,     0.66667,     0.66767,     0.66867,     0.66967,     0.67067,     0.67167,\n",
       "           0.67267,     0.67367,     0.67467,     0.67568,     0.67668,     0.67768,     0.67868,     0.67968,     0.68068,     0.68168,     0.68268,     0.68368,     0.68468,     0.68569,     0.68669,     0.68769,     0.68869,     0.68969,     0.69069,     0.69169,     0.69269,     0.69369,     0.69469,      0.6957,\n",
       "            0.6967,      0.6977,      0.6987,      0.6997,      0.7007,      0.7017,      0.7027,      0.7037,      0.7047,     0.70571,     0.70671,     0.70771,     0.70871,     0.70971,     0.71071,     0.71171,     0.71271,     0.71371,     0.71471,     0.71572,     0.71672,     0.71772,     0.71872,     0.71972,\n",
       "           0.72072,     0.72172,     0.72272,     0.72372,     0.72472,     0.72573,     0.72673,     0.72773,     0.72873,     0.72973,     0.73073,     0.73173,     0.73273,     0.73373,     0.73473,     0.73574,     0.73674,     0.73774,     0.73874,     0.73974,     0.74074,     0.74174,     0.74274,     0.74374,\n",
       "           0.74474,     0.74575,     0.74675,     0.74775,     0.74875,     0.74975,     0.75075,     0.75175,     0.75275,     0.75375,     0.75475,     0.75576,     0.75676,     0.75776,     0.75876,     0.75976,     0.76076,     0.76176,     0.76276,     0.76376,     0.76476,     0.76577,     0.76677,     0.76777,\n",
       "           0.76877,     0.76977,     0.77077,     0.77177,     0.77277,     0.77377,     0.77477,     0.77578,     0.77678,     0.77778,     0.77878,     0.77978,     0.78078,     0.78178,     0.78278,     0.78378,     0.78478,     0.78579,     0.78679,     0.78779,     0.78879,     0.78979,     0.79079,     0.79179,\n",
       "           0.79279,     0.79379,     0.79479,      0.7958,      0.7968,      0.7978,      0.7988,      0.7998,      0.8008,      0.8018,      0.8028,      0.8038,      0.8048,     0.80581,     0.80681,     0.80781,     0.80881,     0.80981,     0.81081,     0.81181,     0.81281,     0.81381,     0.81481,     0.81582,\n",
       "           0.81682,     0.81782,     0.81882,     0.81982,     0.82082,     0.82182,     0.82282,     0.82382,     0.82482,     0.82583,     0.82683,     0.82783,     0.82883,     0.82983,     0.83083,     0.83183,     0.83283,     0.83383,     0.83483,     0.83584,     0.83684,     0.83784,     0.83884,     0.83984,\n",
       "           0.84084,     0.84184,     0.84284,     0.84384,     0.84484,     0.84585,     0.84685,     0.84785,     0.84885,     0.84985,     0.85085,     0.85185,     0.85285,     0.85385,     0.85485,     0.85586,     0.85686,     0.85786,     0.85886,     0.85986,     0.86086,     0.86186,     0.86286,     0.86386,\n",
       "           0.86486,     0.86587,     0.86687,     0.86787,     0.86887,     0.86987,     0.87087,     0.87187,     0.87287,     0.87387,     0.87487,     0.87588,     0.87688,     0.87788,     0.87888,     0.87988,     0.88088,     0.88188,     0.88288,     0.88388,     0.88488,     0.88589,     0.88689,     0.88789,\n",
       "           0.88889,     0.88989,     0.89089,     0.89189,     0.89289,     0.89389,     0.89489,      0.8959,      0.8969,      0.8979,      0.8989,      0.8999,      0.9009,      0.9019,      0.9029,      0.9039,      0.9049,     0.90591,     0.90691,     0.90791,     0.90891,     0.90991,     0.91091,     0.91191,\n",
       "           0.91291,     0.91391,     0.91491,     0.91592,     0.91692,     0.91792,     0.91892,     0.91992,     0.92092,     0.92192,     0.92292,     0.92392,     0.92492,     0.92593,     0.92693,     0.92793,     0.92893,     0.92993,     0.93093,     0.93193,     0.93293,     0.93393,     0.93493,     0.93594,\n",
       "           0.93694,     0.93794,     0.93894,     0.93994,     0.94094,     0.94194,     0.94294,     0.94394,     0.94494,     0.94595,     0.94695,     0.94795,     0.94895,     0.94995,     0.95095,     0.95195,     0.95295,     0.95395,     0.95495,     0.95596,     0.95696,     0.95796,     0.95896,     0.95996,\n",
       "           0.96096,     0.96196,     0.96296,     0.96396,     0.96496,     0.96597,     0.96697,     0.96797,     0.96897,     0.96997,     0.97097,     0.97197,     0.97297,     0.97397,     0.97497,     0.97598,     0.97698,     0.97798,     0.97898,     0.97998,     0.98098,     0.98198,     0.98298,     0.98398,\n",
       "           0.98498,     0.98599,     0.98699,     0.98799,     0.98899,     0.98999,     0.99099,     0.99199,     0.99299,     0.99399,     0.99499,       0.996,       0.997,       0.998,       0.999,           1]), array([[   0.038223,    0.038223,     0.05468, ...,           0,           0,           0],\n",
       "       [   0.053213,    0.053213,    0.071842, ...,           0,           0,           0],\n",
       "       [   0.068678,    0.068678,    0.091322, ...,           0,           0,           0],\n",
       "       ...,\n",
       "       [    0.10801,     0.10801,     0.15092, ...,           0,           0,           0],\n",
       "       [   0.070896,    0.070896,     0.10525, ...,           0,           0,           0],\n",
       "       [    0.11043,     0.11043,     0.16075, ...,           0,           0,           0]]), 'Confidence', 'F1'], [array([          0,    0.001001,    0.002002,    0.003003,    0.004004,    0.005005,    0.006006,    0.007007,    0.008008,    0.009009,     0.01001,    0.011011,    0.012012,    0.013013,    0.014014,    0.015015,    0.016016,    0.017017,    0.018018,    0.019019,     0.02002,    0.021021,    0.022022,    0.023023,\n",
       "          0.024024,    0.025025,    0.026026,    0.027027,    0.028028,    0.029029,     0.03003,    0.031031,    0.032032,    0.033033,    0.034034,    0.035035,    0.036036,    0.037037,    0.038038,    0.039039,     0.04004,    0.041041,    0.042042,    0.043043,    0.044044,    0.045045,    0.046046,    0.047047,\n",
       "          0.048048,    0.049049,     0.05005,    0.051051,    0.052052,    0.053053,    0.054054,    0.055055,    0.056056,    0.057057,    0.058058,    0.059059,     0.06006,    0.061061,    0.062062,    0.063063,    0.064064,    0.065065,    0.066066,    0.067067,    0.068068,    0.069069,     0.07007,    0.071071,\n",
       "          0.072072,    0.073073,    0.074074,    0.075075,    0.076076,    0.077077,    0.078078,    0.079079,     0.08008,    0.081081,    0.082082,    0.083083,    0.084084,    0.085085,    0.086086,    0.087087,    0.088088,    0.089089,     0.09009,    0.091091,    0.092092,    0.093093,    0.094094,    0.095095,\n",
       "          0.096096,    0.097097,    0.098098,    0.099099,      0.1001,      0.1011,      0.1021,      0.1031,      0.1041,     0.10511,     0.10611,     0.10711,     0.10811,     0.10911,     0.11011,     0.11111,     0.11211,     0.11311,     0.11411,     0.11512,     0.11612,     0.11712,     0.11812,     0.11912,\n",
       "           0.12012,     0.12112,     0.12212,     0.12312,     0.12412,     0.12513,     0.12613,     0.12713,     0.12813,     0.12913,     0.13013,     0.13113,     0.13213,     0.13313,     0.13413,     0.13514,     0.13614,     0.13714,     0.13814,     0.13914,     0.14014,     0.14114,     0.14214,     0.14314,\n",
       "           0.14414,     0.14515,     0.14615,     0.14715,     0.14815,     0.14915,     0.15015,     0.15115,     0.15215,     0.15315,     0.15415,     0.15516,     0.15616,     0.15716,     0.15816,     0.15916,     0.16016,     0.16116,     0.16216,     0.16316,     0.16416,     0.16517,     0.16617,     0.16717,\n",
       "           0.16817,     0.16917,     0.17017,     0.17117,     0.17217,     0.17317,     0.17417,     0.17518,     0.17618,     0.17718,     0.17818,     0.17918,     0.18018,     0.18118,     0.18218,     0.18318,     0.18418,     0.18519,     0.18619,     0.18719,     0.18819,     0.18919,     0.19019,     0.19119,\n",
       "           0.19219,     0.19319,     0.19419,      0.1952,      0.1962,      0.1972,      0.1982,      0.1992,      0.2002,      0.2012,      0.2022,      0.2032,      0.2042,     0.20521,     0.20621,     0.20721,     0.20821,     0.20921,     0.21021,     0.21121,     0.21221,     0.21321,     0.21421,     0.21522,\n",
       "           0.21622,     0.21722,     0.21822,     0.21922,     0.22022,     0.22122,     0.22222,     0.22322,     0.22422,     0.22523,     0.22623,     0.22723,     0.22823,     0.22923,     0.23023,     0.23123,     0.23223,     0.23323,     0.23423,     0.23524,     0.23624,     0.23724,     0.23824,     0.23924,\n",
       "           0.24024,     0.24124,     0.24224,     0.24324,     0.24424,     0.24525,     0.24625,     0.24725,     0.24825,     0.24925,     0.25025,     0.25125,     0.25225,     0.25325,     0.25425,     0.25526,     0.25626,     0.25726,     0.25826,     0.25926,     0.26026,     0.26126,     0.26226,     0.26326,\n",
       "           0.26426,     0.26527,     0.26627,     0.26727,     0.26827,     0.26927,     0.27027,     0.27127,     0.27227,     0.27327,     0.27427,     0.27528,     0.27628,     0.27728,     0.27828,     0.27928,     0.28028,     0.28128,     0.28228,     0.28328,     0.28428,     0.28529,     0.28629,     0.28729,\n",
       "           0.28829,     0.28929,     0.29029,     0.29129,     0.29229,     0.29329,     0.29429,      0.2953,      0.2963,      0.2973,      0.2983,      0.2993,      0.3003,      0.3013,      0.3023,      0.3033,      0.3043,     0.30531,     0.30631,     0.30731,     0.30831,     0.30931,     0.31031,     0.31131,\n",
       "           0.31231,     0.31331,     0.31431,     0.31532,     0.31632,     0.31732,     0.31832,     0.31932,     0.32032,     0.32132,     0.32232,     0.32332,     0.32432,     0.32533,     0.32633,     0.32733,     0.32833,     0.32933,     0.33033,     0.33133,     0.33233,     0.33333,     0.33433,     0.33534,\n",
       "           0.33634,     0.33734,     0.33834,     0.33934,     0.34034,     0.34134,     0.34234,     0.34334,     0.34434,     0.34535,     0.34635,     0.34735,     0.34835,     0.34935,     0.35035,     0.35135,     0.35235,     0.35335,     0.35435,     0.35536,     0.35636,     0.35736,     0.35836,     0.35936,\n",
       "           0.36036,     0.36136,     0.36236,     0.36336,     0.36436,     0.36537,     0.36637,     0.36737,     0.36837,     0.36937,     0.37037,     0.37137,     0.37237,     0.37337,     0.37437,     0.37538,     0.37638,     0.37738,     0.37838,     0.37938,     0.38038,     0.38138,     0.38238,     0.38338,\n",
       "           0.38438,     0.38539,     0.38639,     0.38739,     0.38839,     0.38939,     0.39039,     0.39139,     0.39239,     0.39339,     0.39439,      0.3954,      0.3964,      0.3974,      0.3984,      0.3994,      0.4004,      0.4014,      0.4024,      0.4034,      0.4044,     0.40541,     0.40641,     0.40741,\n",
       "           0.40841,     0.40941,     0.41041,     0.41141,     0.41241,     0.41341,     0.41441,     0.41542,     0.41642,     0.41742,     0.41842,     0.41942,     0.42042,     0.42142,     0.42242,     0.42342,     0.42442,     0.42543,     0.42643,     0.42743,     0.42843,     0.42943,     0.43043,     0.43143,\n",
       "           0.43243,     0.43343,     0.43443,     0.43544,     0.43644,     0.43744,     0.43844,     0.43944,     0.44044,     0.44144,     0.44244,     0.44344,     0.44444,     0.44545,     0.44645,     0.44745,     0.44845,     0.44945,     0.45045,     0.45145,     0.45245,     0.45345,     0.45445,     0.45546,\n",
       "           0.45646,     0.45746,     0.45846,     0.45946,     0.46046,     0.46146,     0.46246,     0.46346,     0.46446,     0.46547,     0.46647,     0.46747,     0.46847,     0.46947,     0.47047,     0.47147,     0.47247,     0.47347,     0.47447,     0.47548,     0.47648,     0.47748,     0.47848,     0.47948,\n",
       "           0.48048,     0.48148,     0.48248,     0.48348,     0.48448,     0.48549,     0.48649,     0.48749,     0.48849,     0.48949,     0.49049,     0.49149,     0.49249,     0.49349,     0.49449,      0.4955,      0.4965,      0.4975,      0.4985,      0.4995,      0.5005,      0.5015,      0.5025,      0.5035,\n",
       "            0.5045,     0.50551,     0.50651,     0.50751,     0.50851,     0.50951,     0.51051,     0.51151,     0.51251,     0.51351,     0.51451,     0.51552,     0.51652,     0.51752,     0.51852,     0.51952,     0.52052,     0.52152,     0.52252,     0.52352,     0.52452,     0.52553,     0.52653,     0.52753,\n",
       "           0.52853,     0.52953,     0.53053,     0.53153,     0.53253,     0.53353,     0.53453,     0.53554,     0.53654,     0.53754,     0.53854,     0.53954,     0.54054,     0.54154,     0.54254,     0.54354,     0.54454,     0.54555,     0.54655,     0.54755,     0.54855,     0.54955,     0.55055,     0.55155,\n",
       "           0.55255,     0.55355,     0.55455,     0.55556,     0.55656,     0.55756,     0.55856,     0.55956,     0.56056,     0.56156,     0.56256,     0.56356,     0.56456,     0.56557,     0.56657,     0.56757,     0.56857,     0.56957,     0.57057,     0.57157,     0.57257,     0.57357,     0.57457,     0.57558,\n",
       "           0.57658,     0.57758,     0.57858,     0.57958,     0.58058,     0.58158,     0.58258,     0.58358,     0.58458,     0.58559,     0.58659,     0.58759,     0.58859,     0.58959,     0.59059,     0.59159,     0.59259,     0.59359,     0.59459,      0.5956,      0.5966,      0.5976,      0.5986,      0.5996,\n",
       "            0.6006,      0.6016,      0.6026,      0.6036,      0.6046,     0.60561,     0.60661,     0.60761,     0.60861,     0.60961,     0.61061,     0.61161,     0.61261,     0.61361,     0.61461,     0.61562,     0.61662,     0.61762,     0.61862,     0.61962,     0.62062,     0.62162,     0.62262,     0.62362,\n",
       "           0.62462,     0.62563,     0.62663,     0.62763,     0.62863,     0.62963,     0.63063,     0.63163,     0.63263,     0.63363,     0.63463,     0.63564,     0.63664,     0.63764,     0.63864,     0.63964,     0.64064,     0.64164,     0.64264,     0.64364,     0.64464,     0.64565,     0.64665,     0.64765,\n",
       "           0.64865,     0.64965,     0.65065,     0.65165,     0.65265,     0.65365,     0.65465,     0.65566,     0.65666,     0.65766,     0.65866,     0.65966,     0.66066,     0.66166,     0.66266,     0.66366,     0.66466,     0.66567,     0.66667,     0.66767,     0.66867,     0.66967,     0.67067,     0.67167,\n",
       "           0.67267,     0.67367,     0.67467,     0.67568,     0.67668,     0.67768,     0.67868,     0.67968,     0.68068,     0.68168,     0.68268,     0.68368,     0.68468,     0.68569,     0.68669,     0.68769,     0.68869,     0.68969,     0.69069,     0.69169,     0.69269,     0.69369,     0.69469,      0.6957,\n",
       "            0.6967,      0.6977,      0.6987,      0.6997,      0.7007,      0.7017,      0.7027,      0.7037,      0.7047,     0.70571,     0.70671,     0.70771,     0.70871,     0.70971,     0.71071,     0.71171,     0.71271,     0.71371,     0.71471,     0.71572,     0.71672,     0.71772,     0.71872,     0.71972,\n",
       "           0.72072,     0.72172,     0.72272,     0.72372,     0.72472,     0.72573,     0.72673,     0.72773,     0.72873,     0.72973,     0.73073,     0.73173,     0.73273,     0.73373,     0.73473,     0.73574,     0.73674,     0.73774,     0.73874,     0.73974,     0.74074,     0.74174,     0.74274,     0.74374,\n",
       "           0.74474,     0.74575,     0.74675,     0.74775,     0.74875,     0.74975,     0.75075,     0.75175,     0.75275,     0.75375,     0.75475,     0.75576,     0.75676,     0.75776,     0.75876,     0.75976,     0.76076,     0.76176,     0.76276,     0.76376,     0.76476,     0.76577,     0.76677,     0.76777,\n",
       "           0.76877,     0.76977,     0.77077,     0.77177,     0.77277,     0.77377,     0.77477,     0.77578,     0.77678,     0.77778,     0.77878,     0.77978,     0.78078,     0.78178,     0.78278,     0.78378,     0.78478,     0.78579,     0.78679,     0.78779,     0.78879,     0.78979,     0.79079,     0.79179,\n",
       "           0.79279,     0.79379,     0.79479,      0.7958,      0.7968,      0.7978,      0.7988,      0.7998,      0.8008,      0.8018,      0.8028,      0.8038,      0.8048,     0.80581,     0.80681,     0.80781,     0.80881,     0.80981,     0.81081,     0.81181,     0.81281,     0.81381,     0.81481,     0.81582,\n",
       "           0.81682,     0.81782,     0.81882,     0.81982,     0.82082,     0.82182,     0.82282,     0.82382,     0.82482,     0.82583,     0.82683,     0.82783,     0.82883,     0.82983,     0.83083,     0.83183,     0.83283,     0.83383,     0.83483,     0.83584,     0.83684,     0.83784,     0.83884,     0.83984,\n",
       "           0.84084,     0.84184,     0.84284,     0.84384,     0.84484,     0.84585,     0.84685,     0.84785,     0.84885,     0.84985,     0.85085,     0.85185,     0.85285,     0.85385,     0.85485,     0.85586,     0.85686,     0.85786,     0.85886,     0.85986,     0.86086,     0.86186,     0.86286,     0.86386,\n",
       "           0.86486,     0.86587,     0.86687,     0.86787,     0.86887,     0.86987,     0.87087,     0.87187,     0.87287,     0.87387,     0.87487,     0.87588,     0.87688,     0.87788,     0.87888,     0.87988,     0.88088,     0.88188,     0.88288,     0.88388,     0.88488,     0.88589,     0.88689,     0.88789,\n",
       "           0.88889,     0.88989,     0.89089,     0.89189,     0.89289,     0.89389,     0.89489,      0.8959,      0.8969,      0.8979,      0.8989,      0.8999,      0.9009,      0.9019,      0.9029,      0.9039,      0.9049,     0.90591,     0.90691,     0.90791,     0.90891,     0.90991,     0.91091,     0.91191,\n",
       "           0.91291,     0.91391,     0.91491,     0.91592,     0.91692,     0.91792,     0.91892,     0.91992,     0.92092,     0.92192,     0.92292,     0.92392,     0.92492,     0.92593,     0.92693,     0.92793,     0.92893,     0.92993,     0.93093,     0.93193,     0.93293,     0.93393,     0.93493,     0.93594,\n",
       "           0.93694,     0.93794,     0.93894,     0.93994,     0.94094,     0.94194,     0.94294,     0.94394,     0.94494,     0.94595,     0.94695,     0.94795,     0.94895,     0.94995,     0.95095,     0.95195,     0.95295,     0.95395,     0.95495,     0.95596,     0.95696,     0.95796,     0.95896,     0.95996,\n",
       "           0.96096,     0.96196,     0.96296,     0.96396,     0.96496,     0.96597,     0.96697,     0.96797,     0.96897,     0.96997,     0.97097,     0.97197,     0.97297,     0.97397,     0.97497,     0.97598,     0.97698,     0.97798,     0.97898,     0.97998,     0.98098,     0.98198,     0.98298,     0.98398,\n",
       "           0.98498,     0.98599,     0.98699,     0.98799,     0.98899,     0.98999,     0.99099,     0.99199,     0.99299,     0.99399,     0.99499,       0.996,       0.997,       0.998,       0.999,           1]), array([[   0.019541,    0.019541,    0.028239, ...,           1,           1,           1],\n",
       "       [   0.027341,    0.027341,    0.037286, ...,           1,           1,           1],\n",
       "       [   0.035658,    0.035658,    0.048064, ...,           1,           1,           1],\n",
       "       ...,\n",
       "       [    0.05735,     0.05735,    0.082205, ...,           1,           1,           1],\n",
       "       [   0.036893,    0.036893,    0.055875, ...,           1,           1,           1],\n",
       "       [   0.058491,    0.058491,    0.087503, ...,           1,           1,           1]]), 'Confidence', 'Precision'], [array([          0,    0.001001,    0.002002,    0.003003,    0.004004,    0.005005,    0.006006,    0.007007,    0.008008,    0.009009,     0.01001,    0.011011,    0.012012,    0.013013,    0.014014,    0.015015,    0.016016,    0.017017,    0.018018,    0.019019,     0.02002,    0.021021,    0.022022,    0.023023,\n",
       "          0.024024,    0.025025,    0.026026,    0.027027,    0.028028,    0.029029,     0.03003,    0.031031,    0.032032,    0.033033,    0.034034,    0.035035,    0.036036,    0.037037,    0.038038,    0.039039,     0.04004,    0.041041,    0.042042,    0.043043,    0.044044,    0.045045,    0.046046,    0.047047,\n",
       "          0.048048,    0.049049,     0.05005,    0.051051,    0.052052,    0.053053,    0.054054,    0.055055,    0.056056,    0.057057,    0.058058,    0.059059,     0.06006,    0.061061,    0.062062,    0.063063,    0.064064,    0.065065,    0.066066,    0.067067,    0.068068,    0.069069,     0.07007,    0.071071,\n",
       "          0.072072,    0.073073,    0.074074,    0.075075,    0.076076,    0.077077,    0.078078,    0.079079,     0.08008,    0.081081,    0.082082,    0.083083,    0.084084,    0.085085,    0.086086,    0.087087,    0.088088,    0.089089,     0.09009,    0.091091,    0.092092,    0.093093,    0.094094,    0.095095,\n",
       "          0.096096,    0.097097,    0.098098,    0.099099,      0.1001,      0.1011,      0.1021,      0.1031,      0.1041,     0.10511,     0.10611,     0.10711,     0.10811,     0.10911,     0.11011,     0.11111,     0.11211,     0.11311,     0.11411,     0.11512,     0.11612,     0.11712,     0.11812,     0.11912,\n",
       "           0.12012,     0.12112,     0.12212,     0.12312,     0.12412,     0.12513,     0.12613,     0.12713,     0.12813,     0.12913,     0.13013,     0.13113,     0.13213,     0.13313,     0.13413,     0.13514,     0.13614,     0.13714,     0.13814,     0.13914,     0.14014,     0.14114,     0.14214,     0.14314,\n",
       "           0.14414,     0.14515,     0.14615,     0.14715,     0.14815,     0.14915,     0.15015,     0.15115,     0.15215,     0.15315,     0.15415,     0.15516,     0.15616,     0.15716,     0.15816,     0.15916,     0.16016,     0.16116,     0.16216,     0.16316,     0.16416,     0.16517,     0.16617,     0.16717,\n",
       "           0.16817,     0.16917,     0.17017,     0.17117,     0.17217,     0.17317,     0.17417,     0.17518,     0.17618,     0.17718,     0.17818,     0.17918,     0.18018,     0.18118,     0.18218,     0.18318,     0.18418,     0.18519,     0.18619,     0.18719,     0.18819,     0.18919,     0.19019,     0.19119,\n",
       "           0.19219,     0.19319,     0.19419,      0.1952,      0.1962,      0.1972,      0.1982,      0.1992,      0.2002,      0.2012,      0.2022,      0.2032,      0.2042,     0.20521,     0.20621,     0.20721,     0.20821,     0.20921,     0.21021,     0.21121,     0.21221,     0.21321,     0.21421,     0.21522,\n",
       "           0.21622,     0.21722,     0.21822,     0.21922,     0.22022,     0.22122,     0.22222,     0.22322,     0.22422,     0.22523,     0.22623,     0.22723,     0.22823,     0.22923,     0.23023,     0.23123,     0.23223,     0.23323,     0.23423,     0.23524,     0.23624,     0.23724,     0.23824,     0.23924,\n",
       "           0.24024,     0.24124,     0.24224,     0.24324,     0.24424,     0.24525,     0.24625,     0.24725,     0.24825,     0.24925,     0.25025,     0.25125,     0.25225,     0.25325,     0.25425,     0.25526,     0.25626,     0.25726,     0.25826,     0.25926,     0.26026,     0.26126,     0.26226,     0.26326,\n",
       "           0.26426,     0.26527,     0.26627,     0.26727,     0.26827,     0.26927,     0.27027,     0.27127,     0.27227,     0.27327,     0.27427,     0.27528,     0.27628,     0.27728,     0.27828,     0.27928,     0.28028,     0.28128,     0.28228,     0.28328,     0.28428,     0.28529,     0.28629,     0.28729,\n",
       "           0.28829,     0.28929,     0.29029,     0.29129,     0.29229,     0.29329,     0.29429,      0.2953,      0.2963,      0.2973,      0.2983,      0.2993,      0.3003,      0.3013,      0.3023,      0.3033,      0.3043,     0.30531,     0.30631,     0.30731,     0.30831,     0.30931,     0.31031,     0.31131,\n",
       "           0.31231,     0.31331,     0.31431,     0.31532,     0.31632,     0.31732,     0.31832,     0.31932,     0.32032,     0.32132,     0.32232,     0.32332,     0.32432,     0.32533,     0.32633,     0.32733,     0.32833,     0.32933,     0.33033,     0.33133,     0.33233,     0.33333,     0.33433,     0.33534,\n",
       "           0.33634,     0.33734,     0.33834,     0.33934,     0.34034,     0.34134,     0.34234,     0.34334,     0.34434,     0.34535,     0.34635,     0.34735,     0.34835,     0.34935,     0.35035,     0.35135,     0.35235,     0.35335,     0.35435,     0.35536,     0.35636,     0.35736,     0.35836,     0.35936,\n",
       "           0.36036,     0.36136,     0.36236,     0.36336,     0.36436,     0.36537,     0.36637,     0.36737,     0.36837,     0.36937,     0.37037,     0.37137,     0.37237,     0.37337,     0.37437,     0.37538,     0.37638,     0.37738,     0.37838,     0.37938,     0.38038,     0.38138,     0.38238,     0.38338,\n",
       "           0.38438,     0.38539,     0.38639,     0.38739,     0.38839,     0.38939,     0.39039,     0.39139,     0.39239,     0.39339,     0.39439,      0.3954,      0.3964,      0.3974,      0.3984,      0.3994,      0.4004,      0.4014,      0.4024,      0.4034,      0.4044,     0.40541,     0.40641,     0.40741,\n",
       "           0.40841,     0.40941,     0.41041,     0.41141,     0.41241,     0.41341,     0.41441,     0.41542,     0.41642,     0.41742,     0.41842,     0.41942,     0.42042,     0.42142,     0.42242,     0.42342,     0.42442,     0.42543,     0.42643,     0.42743,     0.42843,     0.42943,     0.43043,     0.43143,\n",
       "           0.43243,     0.43343,     0.43443,     0.43544,     0.43644,     0.43744,     0.43844,     0.43944,     0.44044,     0.44144,     0.44244,     0.44344,     0.44444,     0.44545,     0.44645,     0.44745,     0.44845,     0.44945,     0.45045,     0.45145,     0.45245,     0.45345,     0.45445,     0.45546,\n",
       "           0.45646,     0.45746,     0.45846,     0.45946,     0.46046,     0.46146,     0.46246,     0.46346,     0.46446,     0.46547,     0.46647,     0.46747,     0.46847,     0.46947,     0.47047,     0.47147,     0.47247,     0.47347,     0.47447,     0.47548,     0.47648,     0.47748,     0.47848,     0.47948,\n",
       "           0.48048,     0.48148,     0.48248,     0.48348,     0.48448,     0.48549,     0.48649,     0.48749,     0.48849,     0.48949,     0.49049,     0.49149,     0.49249,     0.49349,     0.49449,      0.4955,      0.4965,      0.4975,      0.4985,      0.4995,      0.5005,      0.5015,      0.5025,      0.5035,\n",
       "            0.5045,     0.50551,     0.50651,     0.50751,     0.50851,     0.50951,     0.51051,     0.51151,     0.51251,     0.51351,     0.51451,     0.51552,     0.51652,     0.51752,     0.51852,     0.51952,     0.52052,     0.52152,     0.52252,     0.52352,     0.52452,     0.52553,     0.52653,     0.52753,\n",
       "           0.52853,     0.52953,     0.53053,     0.53153,     0.53253,     0.53353,     0.53453,     0.53554,     0.53654,     0.53754,     0.53854,     0.53954,     0.54054,     0.54154,     0.54254,     0.54354,     0.54454,     0.54555,     0.54655,     0.54755,     0.54855,     0.54955,     0.55055,     0.55155,\n",
       "           0.55255,     0.55355,     0.55455,     0.55556,     0.55656,     0.55756,     0.55856,     0.55956,     0.56056,     0.56156,     0.56256,     0.56356,     0.56456,     0.56557,     0.56657,     0.56757,     0.56857,     0.56957,     0.57057,     0.57157,     0.57257,     0.57357,     0.57457,     0.57558,\n",
       "           0.57658,     0.57758,     0.57858,     0.57958,     0.58058,     0.58158,     0.58258,     0.58358,     0.58458,     0.58559,     0.58659,     0.58759,     0.58859,     0.58959,     0.59059,     0.59159,     0.59259,     0.59359,     0.59459,      0.5956,      0.5966,      0.5976,      0.5986,      0.5996,\n",
       "            0.6006,      0.6016,      0.6026,      0.6036,      0.6046,     0.60561,     0.60661,     0.60761,     0.60861,     0.60961,     0.61061,     0.61161,     0.61261,     0.61361,     0.61461,     0.61562,     0.61662,     0.61762,     0.61862,     0.61962,     0.62062,     0.62162,     0.62262,     0.62362,\n",
       "           0.62462,     0.62563,     0.62663,     0.62763,     0.62863,     0.62963,     0.63063,     0.63163,     0.63263,     0.63363,     0.63463,     0.63564,     0.63664,     0.63764,     0.63864,     0.63964,     0.64064,     0.64164,     0.64264,     0.64364,     0.64464,     0.64565,     0.64665,     0.64765,\n",
       "           0.64865,     0.64965,     0.65065,     0.65165,     0.65265,     0.65365,     0.65465,     0.65566,     0.65666,     0.65766,     0.65866,     0.65966,     0.66066,     0.66166,     0.66266,     0.66366,     0.66466,     0.66567,     0.66667,     0.66767,     0.66867,     0.66967,     0.67067,     0.67167,\n",
       "           0.67267,     0.67367,     0.67467,     0.67568,     0.67668,     0.67768,     0.67868,     0.67968,     0.68068,     0.68168,     0.68268,     0.68368,     0.68468,     0.68569,     0.68669,     0.68769,     0.68869,     0.68969,     0.69069,     0.69169,     0.69269,     0.69369,     0.69469,      0.6957,\n",
       "            0.6967,      0.6977,      0.6987,      0.6997,      0.7007,      0.7017,      0.7027,      0.7037,      0.7047,     0.70571,     0.70671,     0.70771,     0.70871,     0.70971,     0.71071,     0.71171,     0.71271,     0.71371,     0.71471,     0.71572,     0.71672,     0.71772,     0.71872,     0.71972,\n",
       "           0.72072,     0.72172,     0.72272,     0.72372,     0.72472,     0.72573,     0.72673,     0.72773,     0.72873,     0.72973,     0.73073,     0.73173,     0.73273,     0.73373,     0.73473,     0.73574,     0.73674,     0.73774,     0.73874,     0.73974,     0.74074,     0.74174,     0.74274,     0.74374,\n",
       "           0.74474,     0.74575,     0.74675,     0.74775,     0.74875,     0.74975,     0.75075,     0.75175,     0.75275,     0.75375,     0.75475,     0.75576,     0.75676,     0.75776,     0.75876,     0.75976,     0.76076,     0.76176,     0.76276,     0.76376,     0.76476,     0.76577,     0.76677,     0.76777,\n",
       "           0.76877,     0.76977,     0.77077,     0.77177,     0.77277,     0.77377,     0.77477,     0.77578,     0.77678,     0.77778,     0.77878,     0.77978,     0.78078,     0.78178,     0.78278,     0.78378,     0.78478,     0.78579,     0.78679,     0.78779,     0.78879,     0.78979,     0.79079,     0.79179,\n",
       "           0.79279,     0.79379,     0.79479,      0.7958,      0.7968,      0.7978,      0.7988,      0.7998,      0.8008,      0.8018,      0.8028,      0.8038,      0.8048,     0.80581,     0.80681,     0.80781,     0.80881,     0.80981,     0.81081,     0.81181,     0.81281,     0.81381,     0.81481,     0.81582,\n",
       "           0.81682,     0.81782,     0.81882,     0.81982,     0.82082,     0.82182,     0.82282,     0.82382,     0.82482,     0.82583,     0.82683,     0.82783,     0.82883,     0.82983,     0.83083,     0.83183,     0.83283,     0.83383,     0.83483,     0.83584,     0.83684,     0.83784,     0.83884,     0.83984,\n",
       "           0.84084,     0.84184,     0.84284,     0.84384,     0.84484,     0.84585,     0.84685,     0.84785,     0.84885,     0.84985,     0.85085,     0.85185,     0.85285,     0.85385,     0.85485,     0.85586,     0.85686,     0.85786,     0.85886,     0.85986,     0.86086,     0.86186,     0.86286,     0.86386,\n",
       "           0.86486,     0.86587,     0.86687,     0.86787,     0.86887,     0.86987,     0.87087,     0.87187,     0.87287,     0.87387,     0.87487,     0.87588,     0.87688,     0.87788,     0.87888,     0.87988,     0.88088,     0.88188,     0.88288,     0.88388,     0.88488,     0.88589,     0.88689,     0.88789,\n",
       "           0.88889,     0.88989,     0.89089,     0.89189,     0.89289,     0.89389,     0.89489,      0.8959,      0.8969,      0.8979,      0.8989,      0.8999,      0.9009,      0.9019,      0.9029,      0.9039,      0.9049,     0.90591,     0.90691,     0.90791,     0.90891,     0.90991,     0.91091,     0.91191,\n",
       "           0.91291,     0.91391,     0.91491,     0.91592,     0.91692,     0.91792,     0.91892,     0.91992,     0.92092,     0.92192,     0.92292,     0.92392,     0.92492,     0.92593,     0.92693,     0.92793,     0.92893,     0.92993,     0.93093,     0.93193,     0.93293,     0.93393,     0.93493,     0.93594,\n",
       "           0.93694,     0.93794,     0.93894,     0.93994,     0.94094,     0.94194,     0.94294,     0.94394,     0.94494,     0.94595,     0.94695,     0.94795,     0.94895,     0.94995,     0.95095,     0.95195,     0.95295,     0.95395,     0.95495,     0.95596,     0.95696,     0.95796,     0.95896,     0.95996,\n",
       "           0.96096,     0.96196,     0.96296,     0.96396,     0.96496,     0.96597,     0.96697,     0.96797,     0.96897,     0.96997,     0.97097,     0.97197,     0.97297,     0.97397,     0.97497,     0.97598,     0.97698,     0.97798,     0.97898,     0.97998,     0.98098,     0.98198,     0.98298,     0.98398,\n",
       "           0.98498,     0.98599,     0.98699,     0.98799,     0.98899,     0.98999,     0.99099,     0.99199,     0.99299,     0.99399,     0.99499,       0.996,       0.997,       0.998,       0.999,           1]), array([[    0.87059,     0.87059,     0.85882, ...,           0,           0,           0],\n",
       "       [    0.99065,     0.99065,     0.98131, ...,           0,           0,           0],\n",
       "       [    0.92842,     0.92842,     0.91323, ...,           0,           0,           0],\n",
       "       ...,\n",
       "       [    0.92593,     0.92593,     0.91975, ...,           0,           0,           0],\n",
       "       [    0.90476,     0.90476,     0.90476, ...,           0,           0,           0],\n",
       "       [    0.98639,     0.98639,     0.98639, ...,           0,           0,           0]]), 'Confidence', 'Recall']]\n",
       "fitness: 0.32908951083571014\n",
       "keys: ['metrics/precision(B)', 'metrics/recall(B)', 'metrics/mAP50(B)', 'metrics/mAP50-95(B)']\n",
       "maps: array([    0.29833,     0.19125,     0.24552,      0.2226,     0.24927,     0.39836,     0.29068,     0.38361,    0.078796,     0.27888,     0.36034,     0.27195,     0.60866])\n",
       "names: {0: 'defects', 1: 'Burn', 2: 'Clear Glass', 3: 'Corrosion', 4: 'Crack', 5: 'Cutouts', 6: 'Defaced Paint', 7: 'Dents', 8: 'Hairline Glass', 9: 'Inclusion', 10: 'Paint-Peel', 11: 'Spidery Glass', 12: 'Tempered Glass'}\n",
       "plot: True\n",
       "results_dict: {'metrics/precision(B)': 0.6543305483166142, 'metrics/recall(B)': 0.5628901795434988, 'metrics/mAP50(B)': 0.605965788210243, 'metrics/mAP50-95(B)': 0.2983254800163176, 'fitness': 0.32908951083571014}\n",
       "save_dir: PosixPath('runs/detect/train6')\n",
       "speed: {'preprocess': 0.1719070805443658, 'inference': 5.132013890478346, 'loss': 0.0004781617058648003, 'postprocess': 1.2193726168738472}\n",
       "task: 'detect'"
      ]
     },
     "execution_count": 11,
     "metadata": {},
     "output_type": "execute_result"
    }
   ],
   "source": [
    "enhanced_model.train(data = \"/home/sandeep/Vehicle-Defect-Detection/dataset/processed/standard/dataset.yaml\", imgsz=640, batch=8, epochs=100, workers=1, device=0)"
   ]
  },
  {
   "cell_type": "markdown",
   "id": "3b604b9d-24f4-40b0-816a-a59c1c33dda8",
   "metadata": {},
   "source": [
    "___"
   ]
  },
  {
   "cell_type": "code",
   "execution_count": 12,
   "id": "87f815fd-d04d-4243-81d0-71168d1bd811",
   "metadata": {},
   "outputs": [
    {
     "ename": "SyntaxError",
     "evalue": "invalid syntax (3631438787.py, line 1)",
     "output_type": "error",
     "traceback": [
      "\u001b[0;36m  Cell \u001b[0;32mIn[12], line 1\u001b[0;36m\u001b[0m\n\u001b[0;31m    Second Train Run\u001b[0m\n\u001b[0m           ^\u001b[0m\n\u001b[0;31mSyntaxError\u001b[0m\u001b[0;31m:\u001b[0m invalid syntax\n"
     ]
    }
   ],
   "source": []
  }
 ],
 "metadata": {
  "kernelspec": {
   "display_name": "Python 3 (ipykernel)",
   "language": "python",
   "name": "python3"
  },
  "language_info": {
   "codemirror_mode": {
    "name": "ipython",
    "version": 3
   },
   "file_extension": ".py",
   "mimetype": "text/x-python",
   "name": "python",
   "nbconvert_exporter": "python",
   "pygments_lexer": "ipython3",
   "version": "3.12.4"
  }
 },
 "nbformat": 4,
 "nbformat_minor": 5
}
