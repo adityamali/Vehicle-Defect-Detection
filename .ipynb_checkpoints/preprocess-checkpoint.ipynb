{
 "cells": [
  {
   "cell_type": "code",
   "execution_count": null,
   "id": "4dce9c51-3b5c-45e2-b2a2-a469270ba0bc",
   "metadata": {},
   "outputs": [],
   "source": [
    "# pip install opencv-python"
   ]
  },
  {
   "cell_type": "code",
   "execution_count": null,
   "id": "814ef071-4ca9-4ecb-b7a6-2e5a97df8e2d",
   "metadata": {},
   "outputs": [],
   "source": [
    "# pip install ultralytics"
   ]
  },
  {
   "cell_type": "code",
   "execution_count": null,
   "id": "a5c4240f-f86a-47a1-a606-9f393f4c842e",
   "metadata": {},
   "outputs": [],
   "source": [
    "import pandas as pd\n",
    "import cv2 as cv\n",
    "import numpy as np"
   ]
  },
  {
   "cell_type": "code",
   "execution_count": 13,
   "id": "1df2be5c-9343-41c6-927c-573963ae6277",
   "metadata": {},
   "outputs": [],
   "source": [
    "COCO_TRAIN_p1 = \"dataset/standard/train/_annotations.coco.json\"\n",
    "COCO_VALID_p1 = \"dataset/standard/valid/_annotations.coco.json\"\n",
    "COCO_TEST_p1 = \"dataset/standard/test/_annotations.coco.json\""
   ]
  },
  {
   "cell_type": "code",
   "execution_count": 14,
   "id": "d35da3e8-2a88-4bc0-9ac2-1ec96d9bd4c3",
   "metadata": {},
   "outputs": [
    {
     "name": "stdout",
     "output_type": "stream",
     "text": [
      "dataset/standard/train/_annotations.coco.json\n"
     ]
    }
   ],
   "source": [
    "print(COCO_TRAIN_p1)"
   ]
  },
  {
   "cell_type": "code",
   "execution_count": 15,
   "id": "185fd97c-bbde-4c49-a889-2d08eea87c9b",
   "metadata": {},
   "outputs": [
    {
     "name": "stdout",
     "output_type": "stream",
     "text": [
      "Images: 5758\n",
      "Annotations: 19015\n",
      "Categories: 13\n"
     ]
    }
   ],
   "source": [
    "import json\n",
    "with open(TRAIN_p1_u + \"/_annotations.coco.json\", 'r') as f:\n",
    "    data = json.load(f)\n",
    "print(f\"Images: {len(data.get('images', []))}\")\n",
    "print(f\"Annotations: {len(data.get('annotations', []))}\")\n",
    "print(f\"Categories: {len(data.get('categories', []))}\")"
   ]
  },
  {
   "cell_type": "code",
   "execution_count": 16,
   "id": "4807dc8a-2f61-451e-9897-2ca7151fda83",
   "metadata": {},
   "outputs": [],
   "source": [
    "from utils import convert_coco_to_yolo"
   ]
  },
  {
   "cell_type": "code",
   "execution_count": 22,
   "id": "bb7cac90-67d0-4ba6-acf4-d5b9b271027f",
   "metadata": {},
   "outputs": [],
   "source": [
    "yolo_json_output_dir_standard = \"dataset/processed/standard/\""
   ]
  },
  {
   "cell_type": "code",
   "execution_count": 25,
   "id": "dbf32921-63a8-4806-970c-0bddbcb06a04",
   "metadata": {},
   "outputs": [
    {
     "name": "stdout",
     "output_type": "stream",
     "text": [
      "Error during conversion: 'int' object is not subscriptable\n",
      "Error during conversion: 'int' object is not subscriptable\n"
     ]
    }
   ],
   "source": [
    "try:\n",
    "    convert_coco_to_yolo(coco_json_path=COCO_TRAIN_p1, output_dir=yolo_json_output_dir_standard + \"train\", image_dir=\"dataset/standard/train/\")\n",
    "    print(\"Conversion completed successfully!\")\n",
    "except Exception as e:\n",
    "        print(f\"Error during conversion: {str(e)}\")"
   ]
  },
  {
   "cell_type": "code",
   "execution_count": null,
   "id": "5a541e2c-f32d-426c-a90c-42535d247fbb",
   "metadata": {},
   "outputs": [],
   "source": []
  }
 ],
 "metadata": {
  "kernelspec": {
   "display_name": "Python 3 (ipykernel)",
   "language": "python",
   "name": "python3"
  },
  "language_info": {
   "codemirror_mode": {
    "name": "ipython",
    "version": 3
   },
   "file_extension": ".py",
   "mimetype": "text/x-python",
   "name": "python",
   "nbconvert_exporter": "python",
   "pygments_lexer": "ipython3",
   "version": "3.12.7"
  }
 },
 "nbformat": 4,
 "nbformat_minor": 5
}
